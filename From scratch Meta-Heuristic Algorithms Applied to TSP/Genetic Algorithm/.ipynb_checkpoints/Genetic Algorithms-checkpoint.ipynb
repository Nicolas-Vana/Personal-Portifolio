{
 "cells": [
  {
   "cell_type": "markdown",
   "id": "b9905c23",
   "metadata": {},
   "source": [
    "# Genetic Algorithm\n",
    "\n",
    "Here I am going to use a genetic algorithm to solve the travelling salesman problem (TSP). I have implemented a probability based selection instead of tournament selection. Elitism is included in the algorithm."
   ]
  },
  {
   "cell_type": "code",
   "execution_count": 1,
   "id": "822e30ea",
   "metadata": {},
   "outputs": [],
   "source": [
    "import numpy as np\n",
    "import matplotlib.pyplot as plt\n"
   ]
  },
  {
   "cell_type": "code",
   "execution_count": 2,
   "id": "b384c067",
   "metadata": {},
   "outputs": [],
   "source": [
    "# Define the city class that describes the nodes in the TSP\n",
    "class City:\n",
    "    # Positions of the city on the world\n",
    "    def __init__(self, x, y):\n",
    "        self.x = x\n",
    "        self.y = y\n",
    "    \n",
    "    # Determine distance between a pair of cities \n",
    "    def distance(self, city):\n",
    "        xDis = abs(self.x - city.x)\n",
    "        yDis = abs(self.y - city.y)\n",
    "        distance = np.sqrt((xDis ** 2) + (yDis ** 2))\n",
    "        return distance\n",
    "    \n",
    "    def __repr__(self):\n",
    "        return \"(\" + str(self.x) + \",\" + str(self.y) + \")\"\n",
    "\n",
    "# Determine the fitness of a given tour (individual in the population)\n",
    "def sol_score(tour):\n",
    "    total_distance = 0\n",
    "    tmp = tour\n",
    "    \n",
    "    for index in tmp:\n",
    "        if index != len(cities) - 1:\n",
    "            total_distance += cities[int(index)].distance(cities[tmp[index+1]])\n",
    "        else:\n",
    "            total_distance += cities[int(index)].distance(cities[0])\n",
    "        \n",
    "    return total_distance\n",
    "\n",
    "# Creates a random tour. Used to define the initial population\n",
    "def create_tour(num_cities):\n",
    "    tour = np.random.choice(num_cities, num_cities, replace = False)\n",
    "    return tour\n",
    "\n",
    "# Define the crossover between individuals using the ordered crossover approach. \n",
    "def crossover(tour1, tour2):\n",
    "    index1 = np.ceil(len(tour1)*np.random.random())\n",
    "    index2 = np.ceil(len(tour1)*np.random.random())\n",
    "    \n",
    "    # Start and finish index for the crossover \n",
    "    start = int(np.minimum(index1, index2))\n",
    "    finish = int(np.maximum(index1, index2))\n",
    "    \n",
    "    # Copy desired segment\n",
    "    parent1 = tour1[start:finish]\n",
    "    \n",
    "    # Fill the rest of the genome\n",
    "    parent2 = []\n",
    "    for city in tour2:\n",
    "        if city not in parent1:\n",
    "            parent2.append(city)\n",
    "    offspring = np.concatenate([parent2[:start], parent1, parent2[int(finish-len(parent1)):]])\n",
    "    \n",
    "    return offspring"
   ]
  },
  {
   "cell_type": "code",
   "execution_count": 4,
   "id": "1265e727",
   "metadata": {},
   "outputs": [],
   "source": [
    "# Model parameters\n",
    "generations = 250\n",
    "pop_size = 250\n",
    "num_cities = 100\n",
    "mutation_rate = 0.02\n",
    "elitism = 20"
   ]
  },
  {
   "cell_type": "code",
   "execution_count": 5,
   "id": "25b95898",
   "metadata": {},
   "outputs": [],
   "source": [
    "# Defining and initializing lists that are going to be used. \n",
    "cities = []\n",
    "population = []\n",
    "\n",
    "# Cities list\n",
    "for city in range(num_cities):\n",
    "    cities.append(City(10*np.random.rand(), 10*np.random.rand()))\n",
    "\n",
    "# Initial population\n",
    "for individual in range(pop_size):\n",
    "    population.append(create_tour(num_cities))\n",
    "\n",
    "# Tracks the evolution of the population\n",
    "evolution = []"
   ]
  },
  {
   "cell_type": "code",
   "execution_count": 6,
   "id": "9e1fe269",
   "metadata": {},
   "outputs": [],
   "source": [
    "# Genetic Algorithm loop\n",
    "for generation in range(generations):\n",
    "    \n",
    "    # Obtain fitness scores for the population\n",
    "    fitness = []\n",
    "    scores = []\n",
    "    for tour in population:\n",
    "        score = sol_score(tour)\n",
    "        scores.append(score)\n",
    "        fitness.append(1/score)\n",
    "    \n",
    "    # Record best fitness in the population\n",
    "    evolution.append(np.min(scores))\n",
    "    \n",
    "    # Transform fitness so that it can be used as a probability\n",
    "    fitness = list(fitness/np.sum(fitness))\n",
    "    \n",
    "    # Elitism - Select best indiviuals that will automatically go to the next generation\n",
    "    elites = []\n",
    "    indexes = np.argpartition(scores, elitism)[:elitism]\n",
    "    for index in indexes:\n",
    "        elites.append(population[index])\n",
    "    \n",
    "    # Selection - Pick individuals to breed based on their fitness\n",
    "    tmp_pop = []\n",
    "    selection = np.random.choice(pop_size, pop_size-elitism, p = fitness)\n",
    "    for index in selection:\n",
    "        tmp_pop.append(population[index])\n",
    "    \n",
    "    \n",
    "    # Cross-Over - Breed selected individuals and generate their offsping\n",
    "    offspring = []\n",
    "    mates = np.random.choice(len(selection), len(selection), replace = False)\n",
    "    for index in range(len(mates)-1):\n",
    "        mate1 = tmp_pop[int(mates[index])]\n",
    "        mate2 = tmp_pop[int(mates[index+1])]\n",
    "        offspring.append(crossover(mate1, mate2))\n",
    "        index += 1\n",
    "        \n",
    "    mates = np.random.choice(len(selection), 2, replace = False)\n",
    "    offspring.append(crossover(tmp_pop[int(mates[0])], tmp_pop[int(mates[1])]))\n",
    "    \n",
    "    \n",
    "    # Mutation - Randomly switch pairs of cities in a tour based on the mutation rate\n",
    "    for index in range(len(offspring)):\n",
    "        if np.random.rand() < mutation_rate:\n",
    "            mutation_index1 = np.random.choice(len(offspring))\n",
    "            mutation_index2 = np.random.choice(len(offspring))\n",
    "            \n",
    "            tmp_value =  offspring[mutation_index1]\n",
    "            offspring[mutation_index1] = offspring[mutation_index2]\n",
    "            offspring[mutation_index2] = tmp_value\n",
    "            \n",
    "    # Define the next generation\n",
    "    population = np.concatenate([elites, offspring])\n",
    "    population = population.astype(int)"
   ]
  },
  {
   "cell_type": "code",
   "execution_count": 7,
   "id": "942faaa6",
   "metadata": {},
   "outputs": [
    {
     "data": {
      "image/png": "[encoded data removed]",
      "text/plain": [
       "<Figure size 432x288 with 1 Axes>"
      ]
     },
     "metadata": {
      "needs_background": "light"
     },
     "output_type": "display_data"
    }
   ],
   "source": [
    "#Plot Results\n",
    "\n",
    "plt.plot(evolution)\n",
    "plt.title('Best Solution Distance Across Generations')\n",
    "plt.xlabel('Generation #')\n",
    "plt.ylabel('Total Tour Distance')\n",
    "plt.savefig('Results.png')\n"
   ]
  },
  {
   "cell_type": "markdown",
   "id": "35b8ccc8",
   "metadata": {},
   "source": [
    "As expected, we see strict improvement in the solution across generations because of elitism. We also see great improvement in the solution from the starting random population, with a reduction in total distance of about 30%."
   ]
  },
  {
   "cell_type": "code",
   "execution_count": null,
   "id": "2f1a1143",
   "metadata": {},
   "outputs": [],
   "source": []
  }
 ],
 "metadata": {
  "kernelspec": {
   "display_name": "Python 3 (ipykernel)",
   "language": "python",
   "name": "python3"
  },
  "language_info": {
   "codemirror_mode": {
    "name": "ipython",
    "version": 3
   },
   "file_extension": ".py",
   "mimetype": "text/x-python",
   "name": "python",
   "nbconvert_exporter": "python",
   "pygments_lexer": "ipython3",
   "version": "3.7.3"
  },
  "varInspector": {
   "cols": {
    "lenName": 16,
    "lenType": 16,
    "lenVar": 40
   },
   "kernels_config": {
    "python": {
     "delete_cmd_postfix": "",
     "delete_cmd_prefix": "del ",
     "library": "var_list.py",
     "varRefreshCmd": "print(var_dic_list())"
    },
    "r": {
     "delete_cmd_postfix": ") ",
     "delete_cmd_prefix": "rm(",
     "library": "var_list.r",
     "varRefreshCmd": "cat(var_dic_list()) "
    }
   },
   "types_to_exclude": [
    "module",
    "function",
    "builtin_function_or_method",
    "instance",
    "_Feature"
   ],
   "window_display": false
  }
 },
 "nbformat": 4,
 "nbformat_minor": 5
}
