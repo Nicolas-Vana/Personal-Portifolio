{
 "cells": [
  {
   "cell_type": "markdown",
   "id": "332a6680",
   "metadata": {},
   "source": [
    "# Ant Colony Optimization\n",
    "\n",
    "Here we are going to code from scratch a solution to the Travelling Salesman Problem (TSP) using the Ant Colony Optimization algorithm."
   ]
  },
  {
   "cell_type": "code",
   "execution_count": 1,
   "id": "2f79c706",
   "metadata": {},
   "outputs": [
    {
     "name": "stderr",
     "output_type": "stream",
     "text": [
      "C:\\Users\\nicol\\Anaconda3\\lib\\site-packages\\numpy\\_distributor_init.py:32: UserWarning: loaded more than 1 DLL from .libs:\n",
      "C:\\Users\\nicol\\Anaconda3\\lib\\site-packages\\numpy\\.libs\\libopenblas.GK7GX5KEQ4F6UYO3P26ULGBQYHGQO7J4.gfortran-win_amd64.dll\n",
      "C:\\Users\\nicol\\Anaconda3\\lib\\site-packages\\numpy\\.libs\\libopenblas.WCDJNK7YVMPZQ2ME2ZZHJJRJ3JIKNDB7.gfortran-win_amd64.dll\n",
      "  stacklevel=1)\n"
     ]
    }
   ],
   "source": [
    "import numpy as np\n",
    "import matplotlib.pyplot as plt\n",
    "import time \n",
    "import copy\n",
    "\n",
    "start_time = time.time()\n",
    "\n",
    "# Define the city class that describes the nodes in the TSP\n",
    "class City:\n",
    "    # Positions of the city on the world\n",
    "    def __init__(self, x, y):\n",
    "        self.x = x\n",
    "        self.y = y\n",
    "    \n",
    "    # Determine distance between a pair of cities \n",
    "    def distance(self, city):\n",
    "        xDis = abs(self.x - city.x)\n",
    "        yDis = abs(self.y - city.y)\n",
    "        distance = np.sqrt((xDis ** 2) + (yDis ** 2))\n",
    "        return distance\n",
    "    \n",
    "    def __repr__(self):\n",
    "        return \"(\" + str(self.x) + \",\" + str(self.y) + \")\"\n",
    "\n",
    "# Determine the fitness of a given tour. Used to update the pheromone matrix\n",
    "def sol_score(tour):\n",
    "    total_distance = 0\n",
    "    tmp = tour\n",
    "    \n",
    "    for index in tmp:\n",
    "        if index != len(cities) - 1:\n",
    "            total_distance += cities[int(index)].distance(cities[tmp[index+1]])\n",
    "        else:\n",
    "            total_distance += cities[int(index)].distance(cities[0])\n",
    "        \n",
    "    return total_distance\n",
    "\n",
    "\n"
   ]
  },
  {
   "cell_type": "code",
   "execution_count": 2,
   "id": "245c9ceb",
   "metadata": {},
   "outputs": [],
   "source": [
    "# Parameters\n",
    "num_ants = 20\n",
    "num_iter = 50\n",
    "ALFA = 1\n",
    "BETA = 2\n",
    "num_cities = 100\n",
    "vapo_rate = 0.9\n",
    "\n",
    "cities = []\n",
    "\n",
    "# Create Cities\n",
    "for city in range(num_cities):\n",
    "    cities.append(City(10*np.random.rand(), 10*np.random.rand()))\n",
    "\n",
    "# Determine distance matrix that will be used for the heuristics\n",
    "distance_matrix = np.zeros([num_cities, num_cities])\n",
    "for row in range(num_cities):\n",
    "    for column in range(num_cities):\n",
    "        distance_matrix[row][column] = cities[row].distance(cities[column])\n",
    "\n",
    "# Initialize pheromone matrix with random values\n",
    "pheromone_matrix = np.random.rand(num_cities, num_cities)"
   ]
  },
  {
   "cell_type": "code",
   "execution_count": 3,
   "id": "a7961a67",
   "metadata": {},
   "outputs": [],
   "source": [
    "# Tracker variables for the results\n",
    "tour_distances = []\n",
    "avg_tour_distances = []\n",
    "\n",
    "for iteration in range(num_iter):\n",
    "    #print(iteration)\n",
    "    \n",
    "    # Initialize iteration variables\n",
    "    pher_matrix_update = np.zeros([num_cities, num_cities])\n",
    "    avg_tour_distance = 0\n",
    "    \n",
    "    for ant in range(num_ants):\n",
    "        # Initialize each ant variables\n",
    "        tour = []\n",
    "        tour_distance = 0\n",
    "        \n",
    "        # Determine starting city, and update cities list\n",
    "        cities_list = np.arange(num_cities)\n",
    "        curr_city = np.random.choice(cities_list, 1)\n",
    "        cities_list = np.delete(cities_list, np.where(cities_list == curr_city))\n",
    "        \n",
    "        # Traverse Cities\n",
    "        for step in range(num_cities-1):\n",
    "            probs = []\n",
    "            \n",
    "            for city in cities_list:\n",
    "                summ = 0\n",
    "                \n",
    "                # Determine probabilities of moving onto next city based on pheromone matrix \n",
    "                for destiny in cities_list:\n",
    "                    summ += (pheromone_matrix[int(curr_city)][int(destiny)]**ALFA + (1/cities[int(curr_city)].distance(cities[int(destiny)]))**BETA)\n",
    "                probs.append((pheromone_matrix[int(curr_city)][int(city)]**ALFA + (1/cities[int(curr_city)].distance(cities[int(city)]))**BETA)/summ)\n",
    "            \n",
    "            # Determine next city based on the probabilities\n",
    "            rand = np.random.rand()\n",
    "            next_city = np.random.choice(cities_list, 1, p = probs)\n",
    "            \n",
    "            # Update current tour, distances and current city\n",
    "            tour.append(int(curr_city))\n",
    "            tour_distance += cities[int(curr_city)].distance(cities[int(next_city)])\n",
    "            curr_city = next_city\n",
    "            cities_list = np.delete(cities_list, np.where(cities_list == curr_city))\n",
    "        \n",
    "        # Update distance stats and save tour for this and\n",
    "        avg_tour_distance += tour_distance\n",
    "        tour_distances.append(tour_distance)\n",
    "        delta_pher = 1/tour_distance\n",
    "        \n",
    "        # Update pheromone matrix updater\n",
    "        for index in range(len(tour) - 1):\n",
    "            pher_matrix_update[tour[index]][tour[index+1]] += delta_pher\n",
    "    \n",
    "    # Calculate stats for full iteration\n",
    "    avg_tour_distance = avg_tour_distance/num_ants\n",
    "    avg_tour_distances.append(avg_tour_distance)\n",
    "    \n",
    "    # Update pheromone matrix for next iteration\n",
    "    pheromone_matrix = pheromone_matrix*vapo_rate + pher_matrix_update"
   ]
  },
  {
   "cell_type": "code",
   "execution_count": 4,
   "id": "850cd546",
   "metadata": {},
   "outputs": [
    {
     "data": {
      "text/plain": [
       "Text(0, 0.5, 'Distance')"
      ]
     },
     "execution_count": 4,
     "metadata": {},
     "output_type": "execute_result"
    },
    {
     "data": {
      "image/png": "[encoded data removed]",
      "text/plain": [
       "<Figure size 432x288 with 1 Axes>"
      ]
     },
     "metadata": {
      "needs_background": "light"
     },
     "output_type": "display_data"
    }
   ],
   "source": [
    "#Plot results across iterations\n",
    "\n",
    "plt.plot(avg_tour_distances)\n",
    "plt.title('Average tour distance across iterations')\n",
    "plt.xlabel('# Iterations')\n",
    "plt.ylabel('Distance')\n",
    "plt.savefig('Results.png')"
   ]
  },
  {
   "cell_type": "code",
   "execution_count": null,
   "id": "f8390e1a",
   "metadata": {},
   "outputs": [],
   "source": []
  }
 ],
 "metadata": {
  "kernelspec": {
   "display_name": "Python 3 (ipykernel)",
   "language": "python",
   "name": "python3"
  },
  "language_info": {
   "codemirror_mode": {
    "name": "ipython",
    "version": 3
   },
   "file_extension": ".py",
   "mimetype": "text/x-python",
   "name": "python",
   "nbconvert_exporter": "python",
   "pygments_lexer": "ipython3",
   "version": "3.7.3"
  },
  "varInspector": {
   "cols": {
    "lenName": 16,
    "lenType": 16,
    "lenVar": 40
   },
   "kernels_config": {
    "python": {
     "delete_cmd_postfix": "",
     "delete_cmd_prefix": "del ",
     "library": "var_list.py",
     "varRefreshCmd": "print(var_dic_list())"
    },
    "r": {
     "delete_cmd_postfix": ") ",
     "delete_cmd_prefix": "rm(",
     "library": "var_list.r",
     "varRefreshCmd": "cat(var_dic_list()) "
    }
   },
   "types_to_exclude": [
    "module",
    "function",
    "builtin_function_or_method",
    "instance",
    "_Feature"
   ],
   "window_display": false
  }
 },
 "nbformat": 4,
 "nbformat_minor": 5
}
