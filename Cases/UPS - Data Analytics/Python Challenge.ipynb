{
 "cells": [
  {
   "cell_type": "code",
   "execution_count": 1,
   "id": "a47daccf",
   "metadata": {},
   "outputs": [],
   "source": [
    "import numpy as np\n",
    "import seaborn as sns\n",
    "import matplotlib.pyplot as plt\n",
    "import pandas as pd\n",
    "import tensorflow as tf\n",
    "from sklearn.model_selection import train_test_split\n",
    "from sklearn.preprocessing import StandardScaler"
   ]
  },
  {
   "cell_type": "code",
   "execution_count": 2,
   "id": "e038b294",
   "metadata": {},
   "outputs": [
    {
     "data": {
      "text/html": [
       "<div>\n",
       "<style scoped>\n",
       "    .dataframe tbody tr th:only-of-type {\n",
       "        vertical-align: middle;\n",
       "    }\n",
       "\n",
       "    .dataframe tbody tr th {\n",
       "        vertical-align: top;\n",
       "    }\n",
       "\n",
       "    .dataframe thead th {\n",
       "        text-align: right;\n",
       "    }\n",
       "</style>\n",
       "<table border=\"1\" class=\"dataframe\">\n",
       "  <thead>\n",
       "    <tr style=\"text-align: right;\">\n",
       "      <th></th>\n",
       "      <th>WAREHOUSE_BLOCK</th>\n",
       "      <th>MODE_OF_SHIPMENT</th>\n",
       "      <th>CUSTOMER_CARE_CALLS</th>\n",
       "      <th>CUSTOMER_RATING</th>\n",
       "      <th>COST_OF_THE_PRODUCT</th>\n",
       "      <th>PRIOR_PURCHASES</th>\n",
       "      <th>PRODUCT_IMPORTANCE</th>\n",
       "      <th>GENDER</th>\n",
       "      <th>DISCOUNT_OFFERED</th>\n",
       "      <th>WEIGHT_IN_GMS</th>\n",
       "      <th>DELIVERY_DELAYED</th>\n",
       "    </tr>\n",
       "    <tr>\n",
       "      <th>ID</th>\n",
       "      <th></th>\n",
       "      <th></th>\n",
       "      <th></th>\n",
       "      <th></th>\n",
       "      <th></th>\n",
       "      <th></th>\n",
       "      <th></th>\n",
       "      <th></th>\n",
       "      <th></th>\n",
       "      <th></th>\n",
       "      <th></th>\n",
       "    </tr>\n",
       "  </thead>\n",
       "  <tbody>\n",
       "    <tr>\n",
       "      <th>1</th>\n",
       "      <td>D</td>\n",
       "      <td>Flight</td>\n",
       "      <td>4</td>\n",
       "      <td>2</td>\n",
       "      <td>177</td>\n",
       "      <td>3</td>\n",
       "      <td>low</td>\n",
       "      <td>F</td>\n",
       "      <td>44</td>\n",
       "      <td>1233</td>\n",
       "      <td>1</td>\n",
       "    </tr>\n",
       "    <tr>\n",
       "      <th>2</th>\n",
       "      <td>F</td>\n",
       "      <td>Flight</td>\n",
       "      <td>4</td>\n",
       "      <td>5</td>\n",
       "      <td>216</td>\n",
       "      <td>2</td>\n",
       "      <td>low</td>\n",
       "      <td>M</td>\n",
       "      <td>59</td>\n",
       "      <td>3088</td>\n",
       "      <td>1</td>\n",
       "    </tr>\n",
       "    <tr>\n",
       "      <th>3</th>\n",
       "      <td>A</td>\n",
       "      <td>Flight</td>\n",
       "      <td>2</td>\n",
       "      <td>2</td>\n",
       "      <td>183</td>\n",
       "      <td>4</td>\n",
       "      <td>low</td>\n",
       "      <td>M</td>\n",
       "      <td>48</td>\n",
       "      <td>3374</td>\n",
       "      <td>1</td>\n",
       "    </tr>\n",
       "    <tr>\n",
       "      <th>4</th>\n",
       "      <td>B</td>\n",
       "      <td>Flight</td>\n",
       "      <td>3</td>\n",
       "      <td>3</td>\n",
       "      <td>176</td>\n",
       "      <td>4</td>\n",
       "      <td>medium</td>\n",
       "      <td>M</td>\n",
       "      <td>10</td>\n",
       "      <td>1177</td>\n",
       "      <td>1</td>\n",
       "    </tr>\n",
       "    <tr>\n",
       "      <th>5</th>\n",
       "      <td>C</td>\n",
       "      <td>Flight</td>\n",
       "      <td>2</td>\n",
       "      <td>2</td>\n",
       "      <td>184</td>\n",
       "      <td>3</td>\n",
       "      <td>medium</td>\n",
       "      <td>F</td>\n",
       "      <td>46</td>\n",
       "      <td>2484</td>\n",
       "      <td>1</td>\n",
       "    </tr>\n",
       "  </tbody>\n",
       "</table>\n",
       "</div>"
      ],
      "text/plain": [
       "   WAREHOUSE_BLOCK MODE_OF_SHIPMENT  CUSTOMER_CARE_CALLS  CUSTOMER_RATING  \\\n",
       "ID                                                                          \n",
       "1                D           Flight                    4                2   \n",
       "2                F           Flight                    4                5   \n",
       "3                A           Flight                    2                2   \n",
       "4                B           Flight                    3                3   \n",
       "5                C           Flight                    2                2   \n",
       "\n",
       "    COST_OF_THE_PRODUCT  PRIOR_PURCHASES PRODUCT_IMPORTANCE GENDER  \\\n",
       "ID                                                                   \n",
       "1                   177                3                low      F   \n",
       "2                   216                2                low      M   \n",
       "3                   183                4                low      M   \n",
       "4                   176                4             medium      M   \n",
       "5                   184                3             medium      F   \n",
       "\n",
       "    DISCOUNT_OFFERED  WEIGHT_IN_GMS  DELIVERY_DELAYED  \n",
       "ID                                                     \n",
       "1                 44           1233                 1  \n",
       "2                 59           3088                 1  \n",
       "3                 48           3374                 1  \n",
       "4                 10           1177                 1  \n",
       "5                 46           2484                 1  "
      ]
     },
     "execution_count": 2,
     "metadata": {},
     "output_type": "execute_result"
    }
   ],
   "source": [
    "# Read dataset and reset index\n",
    "df = pd.read_csv('predict-model-dataset.csv', sep = ',')\n",
    "df.set_index('ID', inplace = True)\n",
    "df.head()"
   ]
  },
  {
   "cell_type": "code",
   "execution_count": 3,
   "id": "db91b7f1",
   "metadata": {},
   "outputs": [
    {
     "data": {
      "text/html": [
       "<div>\n",
       "<style scoped>\n",
       "    .dataframe tbody tr th:only-of-type {\n",
       "        vertical-align: middle;\n",
       "    }\n",
       "\n",
       "    .dataframe tbody tr th {\n",
       "        vertical-align: top;\n",
       "    }\n",
       "\n",
       "    .dataframe thead th {\n",
       "        text-align: right;\n",
       "    }\n",
       "</style>\n",
       "<table border=\"1\" class=\"dataframe\">\n",
       "  <thead>\n",
       "    <tr style=\"text-align: right;\">\n",
       "      <th></th>\n",
       "      <th>sum</th>\n",
       "      <th>mean</th>\n",
       "    </tr>\n",
       "    <tr>\n",
       "      <th>WAREHOUSE_BLOCK</th>\n",
       "      <th></th>\n",
       "      <th></th>\n",
       "    </tr>\n",
       "  </thead>\n",
       "  <tbody>\n",
       "    <tr>\n",
       "      <th>A</th>\n",
       "      <td>1075</td>\n",
       "      <td>0.586470</td>\n",
       "    </tr>\n",
       "    <tr>\n",
       "      <th>B</th>\n",
       "      <td>1104</td>\n",
       "      <td>0.602291</td>\n",
       "    </tr>\n",
       "    <tr>\n",
       "      <th>C</th>\n",
       "      <td>1094</td>\n",
       "      <td>0.596836</td>\n",
       "    </tr>\n",
       "    <tr>\n",
       "      <th>D</th>\n",
       "      <td>1096</td>\n",
       "      <td>0.597601</td>\n",
       "    </tr>\n",
       "    <tr>\n",
       "      <th>F</th>\n",
       "      <td>2194</td>\n",
       "      <td>0.598472</td>\n",
       "    </tr>\n",
       "  </tbody>\n",
       "</table>\n",
       "</div>"
      ],
      "text/plain": [
       "                  sum      mean\n",
       "WAREHOUSE_BLOCK                \n",
       "A                1075  0.586470\n",
       "B                1104  0.602291\n",
       "C                1094  0.596836\n",
       "D                1096  0.597601\n",
       "F                2194  0.598472"
      ]
     },
     "execution_count": 3,
     "metadata": {},
     "output_type": "execute_result"
    }
   ],
   "source": [
    "# Task 1 - Which Warehouse has more delays?\n",
    "tmp = df.groupby('WAREHOUSE_BLOCK').aggregate(['sum', 'mean'])\n",
    "tmp['DELIVERY_DELAYED'].head()"
   ]
  },
  {
   "cell_type": "markdown",
   "id": "7b4c4dd7",
   "metadata": {},
   "source": [
    "As we can see here, the warehouse with the most instances of delays is the F warehouse, with 2194 total delays. \n",
    "\n",
    "However, in relative terms, the warehouse with the highest ratio of delays/(total_orders) is the warehouse B, with slightly over 60% of the orders being delayed."
   ]
  },
  {
   "cell_type": "code",
   "execution_count": 4,
   "id": "5c29dff7",
   "metadata": {},
   "outputs": [
    {
     "data": {
      "text/html": [
       "<div>\n",
       "<style scoped>\n",
       "    .dataframe tbody tr th:only-of-type {\n",
       "        vertical-align: middle;\n",
       "    }\n",
       "\n",
       "    .dataframe tbody tr th {\n",
       "        vertical-align: top;\n",
       "    }\n",
       "\n",
       "    .dataframe thead th {\n",
       "        text-align: right;\n",
       "    }\n",
       "</style>\n",
       "<table border=\"1\" class=\"dataframe\">\n",
       "  <thead>\n",
       "    <tr style=\"text-align: right;\">\n",
       "      <th></th>\n",
       "      <th>sum</th>\n",
       "      <th>mean</th>\n",
       "    </tr>\n",
       "    <tr>\n",
       "      <th>MODE_OF_SHIPMENT</th>\n",
       "      <th></th>\n",
       "      <th></th>\n",
       "    </tr>\n",
       "  </thead>\n",
       "  <tbody>\n",
       "    <tr>\n",
       "      <th>Flight</th>\n",
       "      <td>1069</td>\n",
       "      <td>0.601576</td>\n",
       "    </tr>\n",
       "    <tr>\n",
       "      <th>Road</th>\n",
       "      <td>1035</td>\n",
       "      <td>0.588068</td>\n",
       "    </tr>\n",
       "    <tr>\n",
       "      <th>Ship</th>\n",
       "      <td>4459</td>\n",
       "      <td>0.597561</td>\n",
       "    </tr>\n",
       "  </tbody>\n",
       "</table>\n",
       "</div>"
      ],
      "text/plain": [
       "                   sum      mean\n",
       "MODE_OF_SHIPMENT                \n",
       "Flight            1069  0.601576\n",
       "Road              1035  0.588068\n",
       "Ship              4459  0.597561"
      ]
     },
     "execution_count": 4,
     "metadata": {},
     "output_type": "execute_result"
    }
   ],
   "source": [
    "# Task 2 - Which Transportation mode has more delays?\n",
    "tmp = df.groupby('MODE_OF_SHIPMENT').aggregate(['sum', 'mean'])\n",
    "tmp['DELIVERY_DELAYED'].head()"
   ]
  },
  {
   "cell_type": "markdown",
   "id": "1c1f02d8",
   "metadata": {},
   "source": [
    "As we can see here, the mode of transportation with the most instances of delays is the \"ship\", with 4459 total delays. \n",
    "\n",
    "However, in relative terms, the mode of transportation with the highest ratio of delays/(total_orders) is the \"flight\", with slightly over 60% of the orders being delayed."
   ]
  },
  {
   "cell_type": "code",
   "execution_count": 5,
   "id": "7a66c472",
   "metadata": {},
   "outputs": [
    {
     "data": {
      "image/png": "[encoded data removed]",
      "text/plain": [
       "<Figure size 720x720 with 10 Axes>"
      ]
     },
     "metadata": {},
     "output_type": "display_data"
    }
   ],
   "source": [
    "# Show histogram for all the predictor variables to ensure balance and evaluate behavior\n",
    "fig, axs = plt.subplots(5,2, figsize = (10, 10))\n",
    "fig.set_facecolor('white')\n",
    "ax_list = fig.axes\n",
    "\n",
    "for index, column in enumerate(df.columns.tolist()[:-1]):    \n",
    "    sns.histplot(df, x = column, ax = ax_list[index])\n",
    "    ax_list[index].set_title(column)\n",
    "\n",
    "plt.tight_layout()"
   ]
  },
  {
   "cell_type": "markdown",
   "id": "8a599dd8",
   "metadata": {},
   "source": [
    "Here we can see the distributions of all the predictor variables, this is important to better understand the behavior of the variables. \n",
    "\n",
    "Some of the notable aspects of this plot is that the dataset is fairly balanced for most of the categorical variables, such as \"Gender\", \"Customer_Rating\" and \"Warehouse_Block\", however it seems to be fairly unbalanced for \"Product_Importance\" and \"Mode_Of_Shipment\". This may bias our predictions in the future and must be analyzed further.\n",
    "\n",
    "Regarding the numerical variables, all of them display \"common\" distributions, such as the truncated normals seen in the \"Customer_Care_calls\", \"Prior_Purchases\" and \"Weight_In_Gms\" (the last one is also bimodal) and the (almost) uniform distributions seen in \"Cost_Of_Product\" and \"Discount_Offered\" (this one a composition of uniform distributions).\n",
    "\n",
    "Considering this, I would say that there are no extreme concerns related to the quality of the data available and possible bias in the models."
   ]
  },
  {
   "cell_type": "code",
   "execution_count": 6,
   "id": "70f3031b",
   "metadata": {},
   "outputs": [
    {
     "data": {
      "image/png": "[encoded data removed]",
      "text/plain": [
       "<Figure size 432x288 with 1 Axes>"
      ]
     },
     "metadata": {
      "needs_background": "light"
     },
     "output_type": "display_data"
    }
   ],
   "source": [
    "# Distribution of the target value\n",
    "plot = sns.histplot(df, x = 'DELIVERY_DELAYED')"
   ]
  },
  {
   "cell_type": "markdown",
   "id": "65666bca",
   "metadata": {},
   "source": [
    "Finally, for the predicted variable, there is not much of a significant inbalance between the two values, which show a 60-40 split. This is once again not concerning. "
   ]
  },
  {
   "cell_type": "code",
   "execution_count": 7,
   "id": "e5e15d42",
   "metadata": {},
   "outputs": [
    {
     "data": {
      "image/png": "[encoded data removed]",
      "text/plain": [
       "<Figure size 432x288 with 1 Axes>"
      ]
     },
     "metadata": {
      "needs_background": "light"
     },
     "output_type": "display_data"
    }
   ],
   "source": [
    "# Task 3 - Generate a visuals to illustrate the distributions of “Gender” x “Customer_Rating”\n",
    "ax = sns.histplot(data = df, x = 'CUSTOMER_RATING', hue = 'GENDER', multiple=\"dodge\")\n",
    "sns.move_legend(ax, \"upper left\", bbox_to_anchor=(1, 1))"
   ]
  },
  {
   "cell_type": "code",
   "execution_count": 8,
   "id": "3bb830fa",
   "metadata": {},
   "outputs": [
    {
     "name": "stdout",
     "output_type": "stream",
     "text": [
      "Optimization terminated successfully.\n",
      "         Current function value: 0.690824\n",
      "         Iterations 3\n"
     ]
    },
    {
     "data": {
      "text/html": [
       "<table class=\"simpletable\">\n",
       "<caption>Logit Regression Results</caption>\n",
       "<tr>\n",
       "  <th>Dep. Variable:</th>   <td>DELIVERY_DELAYED</td> <th>  No. Observations:  </th>  <td> 10999</td> \n",
       "</tr>\n",
       "<tr>\n",
       "  <th>Model:</th>                 <td>Logit</td>      <th>  Df Residuals:      </th>  <td> 10998</td> \n",
       "</tr>\n",
       "<tr>\n",
       "  <th>Method:</th>                 <td>MLE</td>       <th>  Df Model:          </th>  <td>     0</td> \n",
       "</tr>\n",
       "<tr>\n",
       "  <th>Date:</th>            <td>Thu, 02 Mar 2023</td> <th>  Pseudo R-squ.:     </th> <td>-0.02446</td>\n",
       "</tr>\n",
       "<tr>\n",
       "  <th>Time:</th>                <td>16:43:09</td>     <th>  Log-Likelihood:    </th> <td> -7598.4</td>\n",
       "</tr>\n",
       "<tr>\n",
       "  <th>converged:</th>             <td>True</td>       <th>  LL-Null:           </th> <td> -7417.0</td>\n",
       "</tr>\n",
       "<tr>\n",
       "  <th>Covariance Type:</th>     <td>nonrobust</td>    <th>  LLR p-value:       </th>  <td>   nan</td> \n",
       "</tr>\n",
       "</table>\n",
       "<table class=\"simpletable\">\n",
       "<tr>\n",
       "        <td></td>           <th>coef</th>     <th>std err</th>      <th>z</th>      <th>P>|z|</th>  <th>[0.025</th>    <th>0.975]</th>  \n",
       "</tr>\n",
       "<tr>\n",
       "  <th>WEIGHT_IN_GMS</th> <td> 3.427e-05</td> <td>  4.8e-06</td> <td>    7.137</td> <td> 0.000</td> <td> 2.49e-05</td> <td> 4.37e-05</td>\n",
       "</tr>\n",
       "</table>"
      ],
      "text/plain": [
       "<class 'statsmodels.iolib.summary.Summary'>\n",
       "\"\"\"\n",
       "                           Logit Regression Results                           \n",
       "==============================================================================\n",
       "Dep. Variable:       DELIVERY_DELAYED   No. Observations:                10999\n",
       "Model:                          Logit   Df Residuals:                    10998\n",
       "Method:                           MLE   Df Model:                            0\n",
       "Date:                Thu, 02 Mar 2023   Pseudo R-squ.:                -0.02446\n",
       "Time:                        16:43:09   Log-Likelihood:                -7598.4\n",
       "converged:                       True   LL-Null:                       -7417.0\n",
       "Covariance Type:            nonrobust   LLR p-value:                       nan\n",
       "=================================================================================\n",
       "                    coef    std err          z      P>|z|      [0.025      0.975]\n",
       "---------------------------------------------------------------------------------\n",
       "WEIGHT_IN_GMS  3.427e-05    4.8e-06      7.137      0.000    2.49e-05    4.37e-05\n",
       "=================================================================================\n",
       "\"\"\""
      ]
     },
     "execution_count": 8,
     "metadata": {},
     "output_type": "execute_result"
    }
   ],
   "source": [
    "# Task 4 - Based on the data provided, does package weight seems to be related to the delivery delay?\n",
    "import statsmodels.api as sm\n",
    "\n",
    "X = df['WEIGHT_IN_GMS']\n",
    "Y = df['DELIVERY_DELAYED']\n",
    "\n",
    "model = sm.Logit(endog=Y, exog=X).fit()\n",
    "model.summary()"
   ]
  },
  {
   "cell_type": "markdown",
   "id": "78e73ec3",
   "metadata": {},
   "source": [
    "To evaluate the existence of a relationship between the package weight and a delivery delay, we may build a logistic regression model as seen above. \n",
    "\n",
    "As shown in the summary of the model, the p-value for the weight (the only predictor for the model) is smaller than 0.000, which means that we can reject the null hypothesis, which means that there is a statistically significant relathionship between the predictor variable and the predicted variable."
   ]
  },
  {
   "cell_type": "code",
   "execution_count": 9,
   "id": "910f2003",
   "metadata": {},
   "outputs": [
    {
     "data": {
      "text/plain": [
       "<AxesSubplot:xlabel='WEIGHT_IN_GMS', ylabel='DELIVERY_DELAYED'>"
      ]
     },
     "execution_count": 9,
     "metadata": {},
     "output_type": "execute_result"
    },
    {
     "data": {
      "image/png": "[encoded data removed]",
      "text/plain": [
       "<Figure size 432x288 with 1 Axes>"
      ]
     },
     "metadata": {
      "needs_background": "light"
     },
     "output_type": "display_data"
    }
   ],
   "source": [
    "# Displaying logistic model results\n",
    "linspace = np.linspace(np.min(df['WEIGHT_IN_GMS']), np.max(df['WEIGHT_IN_GMS']), 10000)\n",
    "\n",
    "preds = model.predict(linspace)\n",
    "\n",
    "sns.scatterplot(x = linspace, y = preds)\n",
    "sns.scatterplot(data = df, x = 'WEIGHT_IN_GMS', y = 'DELIVERY_DELAYED')"
   ]
  },
  {
   "cell_type": "markdown",
   "id": "9ac11f8e",
   "metadata": {},
   "source": [
    "We may further visualize this relationship with the plot shown above which displaying the instances of delays across all the package weights in the data. \n",
    "\n",
    "The plot also shows the predictions made by the model we built, which can be interpreted as the probability of a delay occuring or not for a given package weight.\n",
    "\n",
    "We see that for packages above ~6000 grams, there is always a delay, and the probability of predicted by the model of a delay happening for the upper end of weights is greater than that for the lower end.\n",
    "\n",
    "Although the model is very weak in its predictive power (which is expected with only one variable), This seems to validate the claims of a relationship made previously. However we would metrics to confirm this, instead of only using visual inspection."
   ]
  },
  {
   "cell_type": "code",
   "execution_count": 10,
   "id": "79d9b51a",
   "metadata": {},
   "outputs": [
    {
     "data": {
      "text/html": [
       "<div>\n",
       "<style scoped>\n",
       "    .dataframe tbody tr th:only-of-type {\n",
       "        vertical-align: middle;\n",
       "    }\n",
       "\n",
       "    .dataframe tbody tr th {\n",
       "        vertical-align: top;\n",
       "    }\n",
       "\n",
       "    .dataframe thead th {\n",
       "        text-align: right;\n",
       "    }\n",
       "</style>\n",
       "<table border=\"1\" class=\"dataframe\">\n",
       "  <thead>\n",
       "    <tr style=\"text-align: right;\">\n",
       "      <th></th>\n",
       "      <th>CUSTOMER_CARE_CALLS</th>\n",
       "      <th>CUSTOMER_RATING</th>\n",
       "      <th>COST_OF_THE_PRODUCT</th>\n",
       "      <th>PRIOR_PURCHASES</th>\n",
       "      <th>DISCOUNT_OFFERED</th>\n",
       "      <th>WEIGHT_IN_GMS</th>\n",
       "      <th>DELIVERY_DELAYED</th>\n",
       "    </tr>\n",
       "  </thead>\n",
       "  <tbody>\n",
       "    <tr>\n",
       "      <th>count</th>\n",
       "      <td>10999.000000</td>\n",
       "      <td>10999.000000</td>\n",
       "      <td>10999.000000</td>\n",
       "      <td>10999.000000</td>\n",
       "      <td>10999.000000</td>\n",
       "      <td>10999.000000</td>\n",
       "      <td>10999.000000</td>\n",
       "    </tr>\n",
       "    <tr>\n",
       "      <th>mean</th>\n",
       "      <td>4.054459</td>\n",
       "      <td>2.990545</td>\n",
       "      <td>210.196836</td>\n",
       "      <td>3.567597</td>\n",
       "      <td>13.373216</td>\n",
       "      <td>3634.016729</td>\n",
       "      <td>0.596691</td>\n",
       "    </tr>\n",
       "    <tr>\n",
       "      <th>std</th>\n",
       "      <td>1.141490</td>\n",
       "      <td>1.413603</td>\n",
       "      <td>48.063272</td>\n",
       "      <td>1.522860</td>\n",
       "      <td>16.205527</td>\n",
       "      <td>1635.377251</td>\n",
       "      <td>0.490584</td>\n",
       "    </tr>\n",
       "    <tr>\n",
       "      <th>min</th>\n",
       "      <td>2.000000</td>\n",
       "      <td>1.000000</td>\n",
       "      <td>96.000000</td>\n",
       "      <td>2.000000</td>\n",
       "      <td>1.000000</td>\n",
       "      <td>1001.000000</td>\n",
       "      <td>0.000000</td>\n",
       "    </tr>\n",
       "    <tr>\n",
       "      <th>25%</th>\n",
       "      <td>3.000000</td>\n",
       "      <td>2.000000</td>\n",
       "      <td>169.000000</td>\n",
       "      <td>3.000000</td>\n",
       "      <td>4.000000</td>\n",
       "      <td>1839.500000</td>\n",
       "      <td>0.000000</td>\n",
       "    </tr>\n",
       "    <tr>\n",
       "      <th>50%</th>\n",
       "      <td>4.000000</td>\n",
       "      <td>3.000000</td>\n",
       "      <td>214.000000</td>\n",
       "      <td>3.000000</td>\n",
       "      <td>7.000000</td>\n",
       "      <td>4149.000000</td>\n",
       "      <td>1.000000</td>\n",
       "    </tr>\n",
       "    <tr>\n",
       "      <th>75%</th>\n",
       "      <td>5.000000</td>\n",
       "      <td>4.000000</td>\n",
       "      <td>251.000000</td>\n",
       "      <td>4.000000</td>\n",
       "      <td>10.000000</td>\n",
       "      <td>5050.000000</td>\n",
       "      <td>1.000000</td>\n",
       "    </tr>\n",
       "    <tr>\n",
       "      <th>max</th>\n",
       "      <td>7.000000</td>\n",
       "      <td>5.000000</td>\n",
       "      <td>310.000000</td>\n",
       "      <td>10.000000</td>\n",
       "      <td>65.000000</td>\n",
       "      <td>7846.000000</td>\n",
       "      <td>1.000000</td>\n",
       "    </tr>\n",
       "  </tbody>\n",
       "</table>\n",
       "</div>"
      ],
      "text/plain": [
       "       CUSTOMER_CARE_CALLS  CUSTOMER_RATING  COST_OF_THE_PRODUCT  \\\n",
       "count         10999.000000     10999.000000         10999.000000   \n",
       "mean              4.054459         2.990545           210.196836   \n",
       "std               1.141490         1.413603            48.063272   \n",
       "min               2.000000         1.000000            96.000000   \n",
       "25%               3.000000         2.000000           169.000000   \n",
       "50%               4.000000         3.000000           214.000000   \n",
       "75%               5.000000         4.000000           251.000000   \n",
       "max               7.000000         5.000000           310.000000   \n",
       "\n",
       "       PRIOR_PURCHASES  DISCOUNT_OFFERED  WEIGHT_IN_GMS  DELIVERY_DELAYED  \n",
       "count     10999.000000      10999.000000   10999.000000      10999.000000  \n",
       "mean          3.567597         13.373216    3634.016729          0.596691  \n",
       "std           1.522860         16.205527    1635.377251          0.490584  \n",
       "min           2.000000          1.000000    1001.000000          0.000000  \n",
       "25%           3.000000          4.000000    1839.500000          0.000000  \n",
       "50%           3.000000          7.000000    4149.000000          1.000000  \n",
       "75%           4.000000         10.000000    5050.000000          1.000000  \n",
       "max          10.000000         65.000000    7846.000000          1.000000  "
      ]
     },
     "execution_count": 10,
     "metadata": {},
     "output_type": "execute_result"
    }
   ],
   "source": [
    "# descriptive statistics for numerical variables\n",
    "df_num = df.select_dtypes(include=np.number)\n",
    "df_num.describe()"
   ]
  },
  {
   "cell_type": "code",
   "execution_count": 11,
   "id": "2efc6dc0",
   "metadata": {},
   "outputs": [
    {
     "data": {
      "text/html": [
       "<div>\n",
       "<style scoped>\n",
       "    .dataframe tbody tr th:only-of-type {\n",
       "        vertical-align: middle;\n",
       "    }\n",
       "\n",
       "    .dataframe tbody tr th {\n",
       "        vertical-align: top;\n",
       "    }\n",
       "\n",
       "    .dataframe thead th {\n",
       "        text-align: right;\n",
       "    }\n",
       "</style>\n",
       "<table border=\"1\" class=\"dataframe\">\n",
       "  <thead>\n",
       "    <tr style=\"text-align: right;\">\n",
       "      <th></th>\n",
       "      <th>WAREHOUSE_BLOCK</th>\n",
       "      <th>MODE_OF_SHIPMENT</th>\n",
       "      <th>PRODUCT_IMPORTANCE</th>\n",
       "      <th>GENDER</th>\n",
       "    </tr>\n",
       "  </thead>\n",
       "  <tbody>\n",
       "    <tr>\n",
       "      <th>count</th>\n",
       "      <td>10999</td>\n",
       "      <td>10999</td>\n",
       "      <td>10999</td>\n",
       "      <td>10999</td>\n",
       "    </tr>\n",
       "    <tr>\n",
       "      <th>unique</th>\n",
       "      <td>5</td>\n",
       "      <td>3</td>\n",
       "      <td>3</td>\n",
       "      <td>2</td>\n",
       "    </tr>\n",
       "    <tr>\n",
       "      <th>top</th>\n",
       "      <td>F</td>\n",
       "      <td>Ship</td>\n",
       "      <td>low</td>\n",
       "      <td>F</td>\n",
       "    </tr>\n",
       "    <tr>\n",
       "      <th>freq</th>\n",
       "      <td>3666</td>\n",
       "      <td>7462</td>\n",
       "      <td>5297</td>\n",
       "      <td>5545</td>\n",
       "    </tr>\n",
       "  </tbody>\n",
       "</table>\n",
       "</div>"
      ],
      "text/plain": [
       "       WAREHOUSE_BLOCK MODE_OF_SHIPMENT PRODUCT_IMPORTANCE GENDER\n",
       "count            10999            10999              10999  10999\n",
       "unique               5                3                  3      2\n",
       "top                  F             Ship                low      F\n",
       "freq              3666             7462               5297   5545"
      ]
     },
     "execution_count": 11,
     "metadata": {},
     "output_type": "execute_result"
    }
   ],
   "source": [
    "# descriptive statistics for categorical variables\n",
    "df_cat = df.select_dtypes('object')\n",
    "df_cat.describe()"
   ]
  },
  {
   "cell_type": "code",
   "execution_count": 13,
   "id": "e5633ee4",
   "metadata": {},
   "outputs": [
    {
     "data": {
      "text/plain": [
       "(10999, 19)"
      ]
     },
     "execution_count": 13,
     "metadata": {},
     "output_type": "execute_result"
    }
   ],
   "source": [
    "# Preparing Dataset for predictive modeling\n",
    "x = df[df.columns.tolist()[:-1]]\n",
    "\n",
    "# One-hot encoding categorical variables\n",
    "x = pd.get_dummies(x)\n",
    "\n",
    "# Scaling of numerical variables\n",
    "scaler = StandardScaler()\n",
    "x = scaler.fit_transform(x)\n",
    "x.shape"
   ]
  },
  {
   "cell_type": "code",
   "execution_count": 74,
   "id": "df86d1fa",
   "metadata": {},
   "outputs": [
    {
     "data": {
      "text/plain": [
       "(10999,)"
      ]
     },
     "execution_count": 74,
     "metadata": {},
     "output_type": "execute_result"
    }
   ],
   "source": [
    "y = df[df.columns.tolist()[-1]]\n",
    "y.shape"
   ]
  },
  {
   "cell_type": "code",
   "execution_count": 29,
   "id": "1dedf0cd",
   "metadata": {},
   "outputs": [],
   "source": [
    "# Creating train-test split\n",
    "from sklearn.model_selection import train_test_split\n",
    "\n",
    "x_train, x_test, y_train, y_test = train_test_split(x, y, test_size = 0.25)"
   ]
  },
  {
   "cell_type": "code",
   "execution_count": 73,
   "id": "85908890",
   "metadata": {},
   "outputs": [],
   "source": [
    "# Defining metrics and models for selection\n",
    "from sklearn.model_selection import cross_validate\n",
    "\n",
    "from sklearn.tree import DecisionTreeClassifier\n",
    "from sklearn.ensemble import RandomForestClassifier\n",
    "from sklearn.neural_network import MLPClassifier\n",
    "from sklearn.neighbors import KNeighborsClassifier\n",
    "from sklearn.linear_model import LogisticRegression\n",
    "from sklearn.svm import SVC\n",
    "from sklearn.naive_bayes import GaussianNB\n",
    "\n",
    "metrics = ['accuracy', 'precision', 'recall', 'f1', 'roc_auc']\n",
    "\n",
    "models = [GaussianNB(), SVC(gamma='auto'), LogisticRegression(), KNeighborsClassifier(n_neighbors=5),\n",
    "          DecisionTreeClassifier(), RandomForestClassifier(n_estimators = 250, max_depth=2), MLPClassifier(solver='adam', hidden_layer_sizes=(10, 10), max_iter = 500)]\n",
    "\n",
    "results = {}\n",
    "\n",
    "# Train and evaluate models on the train set using 5-fold cross validation. Log results\n",
    "for model in models:\n",
    "    tmp = cross_validate(model, x_train, y_train, cv=5, scoring = metrics)\n",
    "    results[model] = tmp\n",
    "\n",
    "#results"
   ]
  },
  {
   "cell_type": "code",
   "execution_count": 75,
   "id": "4e1fd6b9",
   "metadata": {},
   "outputs": [],
   "source": [
    "# Compute average of each of the metrics across all the 5-folds\n",
    "final_stats = {}\n",
    "for model in results:\n",
    "    tmp = []\n",
    "    for metric in results[model]:\n",
    "        if 'test' in metric:\n",
    "            mean = np.mean(results[model][metric])\n",
    "            #print(mean)\n",
    "            tmp.append(mean)\n",
    "    \n",
    "    final_stats[model] = tmp\n",
    "\n",
    "#final_stats"
   ]
  },
  {
   "cell_type": "code",
   "execution_count": 76,
   "id": "4b0e1d52",
   "metadata": {},
   "outputs": [
    {
     "data": {
      "text/plain": [
       "{GaussianNB(): 1,\n",
       " SVC(gamma='auto'): 1,\n",
       " LogisticRegression(): 0,\n",
       " KNeighborsClassifier(): 0,\n",
       " DecisionTreeClassifier(): 0,\n",
       " RandomForestClassifier(max_depth=2, n_estimators=250): 3,\n",
       " MLPClassifier(hidden_layer_sizes=(10, 10), max_iter=500): 0}"
      ]
     },
     "execution_count": 76,
     "metadata": {},
     "output_type": "execute_result"
    }
   ],
   "source": [
    "# Check which model performs best on more of the metrics we have defined\n",
    "model_decider = {key: 0 for key in models}\n",
    "\n",
    "for index in range(len(metrics)):\n",
    "    best_value = 0\n",
    "    best_model = ''\n",
    "    \n",
    "    for model in final_stats:\n",
    "        tmp = final_stats[model][index]\n",
    "        if tmp > best_value:\n",
    "            best_value = tmp\n",
    "            best_model = model\n",
    "    \n",
    "    model_decider[best_model] += 1\n",
    "\n",
    "model_decider"
   ]
  },
  {
   "cell_type": "markdown",
   "id": "b9999c2c",
   "metadata": {},
   "source": [
    "Here we can see that for the metrics that we have used, giving the same weight to each of the metrics, the model that perform the best on more metrics, on average across all the 5 folds, is the Random Forest Classifier. This model is the best performing on 3 of the 5 metrics used.\n",
    "\n",
    "This is an interesting result and shows that ensemble methods can be very efficient on small datasets such as the one we have at hand. On the other hand, very complex models such as the MLP classifier tend to not perform as well because they rely on large amounts of data."
   ]
  },
  {
   "cell_type": "code",
   "execution_count": 71,
   "id": "043ca4ed",
   "metadata": {},
   "outputs": [
    {
     "name": "stdout",
     "output_type": "stream",
     "text": [
      "accuracy = 0.6501818181818182\n",
      "precision = 0.7059161401493395\n",
      "recall = 0.7319833234067897\n",
      "f1 = 0.7187134502923976\n",
      "roc_auc = 0.626962716792097\n"
     ]
    },
    {
     "data": {
      "image/png": "[encoded data removed]",
      "text/plain": [
       "<Figure size 432x288 with 2 Axes>"
      ]
     },
     "metadata": {
      "needs_background": "light"
     },
     "output_type": "display_data"
    }
   ],
   "source": [
    "# Fitting model on the full training set and then doing validation on the test set\n",
    "import sklearn.metrics\n",
    "\n",
    "model = RandomForestClassifier(n_estimators = 250, max_depth=2)\n",
    "model.fit(x_train, y_train)\n",
    "\n",
    "preds = model.predict(x_test)\n",
    "\n",
    "final_metrics = {}\n",
    "\n",
    "final_metrics['accuracy'] = sklearn.metrics.accuracy_score(y_test, preds)\n",
    "final_metrics['precision'] = sklearn.metrics.precision_score(y_test, preds)\n",
    "final_metrics['recall'] = sklearn.metrics.recall_score(y_test, preds)\n",
    "final_metrics['f1'] = sklearn.metrics.f1_score(y_test, preds)\n",
    "final_metrics['roc_auc'] = sklearn.metrics.roc_auc_score(y_test, preds)\n",
    "\n",
    "# Print final results\n",
    "for metric in final_metrics:\n",
    "    print(metric,  '=', final_metrics[metric])\n",
    "\n",
    "cm = sklearn.metrics.confusion_matrix(y_test, preds)\n",
    "cm_display = sklearn.metrics.ConfusionMatrixDisplay(cm).plot()"
   ]
  },
  {
   "cell_type": "markdown",
   "id": "7f0f0322",
   "metadata": {},
   "source": [
    "Here we see that our model has more true positives and true negatives than false postives and false negatives, showing that the model indeed works and it certainly outperforms random guessing between the existence or not of a delay."
   ]
  },
  {
   "cell_type": "code",
   "execution_count": null,
   "id": "9263fefb",
   "metadata": {},
   "outputs": [],
   "source": []
  }
 ],
 "metadata": {
  "kernelspec": {
   "display_name": "Python 3 (ipykernel)",
   "language": "python",
   "name": "python3"
  },
  "language_info": {
   "codemirror_mode": {
    "name": "ipython",
    "version": 3
   },
   "file_extension": ".py",
   "mimetype": "text/x-python",
   "name": "python",
   "nbconvert_exporter": "python",
   "pygments_lexer": "ipython3",
   "version": "3.7.3"
  },
  "varInspector": {
   "cols": {
    "lenName": 16,
    "lenType": 16,
    "lenVar": 40
   },
   "kernels_config": {
    "python": {
     "delete_cmd_postfix": "",
     "delete_cmd_prefix": "del ",
     "library": "var_list.py",
     "varRefreshCmd": "print(var_dic_list())"
    },
    "r": {
     "delete_cmd_postfix": ") ",
     "delete_cmd_prefix": "rm(",
     "library": "var_list.r",
     "varRefreshCmd": "cat(var_dic_list()) "
    }
   },
   "types_to_exclude": [
    "module",
    "function",
    "builtin_function_or_method",
    "instance",
    "_Feature"
   ],
   "window_display": false
  }
 },
 "nbformat": 4,
 "nbformat_minor": 5
}
