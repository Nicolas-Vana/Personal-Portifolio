{
 "cells": [
  {
   "cell_type": "markdown",
   "metadata": {},
   "source": [
    "# Exploratory Data Analysis\n",
    "\n",
    "Here we are going to take a deeper look into the properties of the dataset we have at hand. Because the data provided is not public, a new reduced dataset was created and will be used here."
   ]
  },
  {
   "cell_type": "code",
   "execution_count": 1,
   "metadata": {},
   "outputs": [
    {
     "name": "stderr",
     "output_type": "stream",
     "text": [
      "C:\\Users\\nicol\\Anaconda3\\lib\\site-packages\\numpy\\_distributor_init.py:32: UserWarning: loaded more than 1 DLL from .libs:\n",
      "C:\\Users\\nicol\\Anaconda3\\lib\\site-packages\\numpy\\.libs\\libopenblas.GK7GX5KEQ4F6UYO3P26ULGBQYHGQO7J4.gfortran-win_amd64.dll\n",
      "C:\\Users\\nicol\\Anaconda3\\lib\\site-packages\\numpy\\.libs\\libopenblas.WCDJNK7YVMPZQ2ME2ZZHJJRJ3JIKNDB7.gfortran-win_amd64.dll\n",
      "  stacklevel=1)\n"
     ]
    }
   ],
   "source": [
    "import os\n",
    "import pandas as pd\n",
    "import datetime as dt\n",
    "import numpy as np\n",
    "import seaborn as sns\n",
    "import matplotlib.pyplot as plt\n",
    "\n",
    "\n",
    "pd.set_option(\"display.max_columns\", None)"
   ]
  },
  {
   "cell_type": "code",
   "execution_count": 2,
   "metadata": {},
   "outputs": [],
   "source": [
    "# Open the dataset\n",
    "dataset_folder = 'eBay_ML_Challenge_Dataset_2021'\n",
    "os.chdir(dataset_folder)\n",
    "\n",
    "tsv_file = open(\"train reduced fake.csv\", encoding='utf-8')\n",
    "df = pd.read_csv(tsv_file)"
   ]
  },
  {
   "cell_type": "code",
   "execution_count": 3,
   "metadata": {},
   "outputs": [
    {
     "data": {
      "text/plain": [
       "b2c_c2c                        0\n",
       "seller_id                      0\n",
       "declared_handling_days       546\n",
       "acceptance_scan_timestamp      0\n",
       "shipment_method_id             0\n",
       "shipping_fee                   0\n",
       "carrier_min_estimate           0\n",
       "carrier_max_estimate           0\n",
       "item_zip                       0\n",
       "buyer_zip                      0\n",
       "category_id                    0\n",
       "item_price                     0\n",
       "quantity                       0\n",
       "payment_datetime               0\n",
       "delivery_date                  0\n",
       "weight                         0\n",
       "weight_units                   0\n",
       "package_size                   0\n",
       "record_number                  0\n",
       "dtype: int64"
      ]
     },
     "execution_count": 3,
     "metadata": {},
     "output_type": "execute_result"
    }
   ],
   "source": [
    "# Check for missing values\n",
    "df.isna().sum()"
   ]
  },
  {
   "cell_type": "markdown",
   "metadata": {},
   "source": [
    "It looks good for now, only a few missing values"
   ]
  },
  {
   "cell_type": "code",
   "execution_count": 4,
   "metadata": {},
   "outputs": [
    {
     "data": {
      "text/html": [
       "<div>\n",
       "<style scoped>\n",
       "    .dataframe tbody tr th:only-of-type {\n",
       "        vertical-align: middle;\n",
       "    }\n",
       "\n",
       "    .dataframe tbody tr th {\n",
       "        vertical-align: top;\n",
       "    }\n",
       "\n",
       "    .dataframe thead th {\n",
       "        text-align: right;\n",
       "    }\n",
       "</style>\n",
       "<table border=\"1\" class=\"dataframe\">\n",
       "  <thead>\n",
       "    <tr style=\"text-align: right;\">\n",
       "      <th></th>\n",
       "      <th>b2c_c2c</th>\n",
       "      <th>seller_id</th>\n",
       "      <th>declared_handling_days</th>\n",
       "      <th>acceptance_scan_timestamp</th>\n",
       "      <th>shipment_method_id</th>\n",
       "      <th>shipping_fee</th>\n",
       "      <th>carrier_min_estimate</th>\n",
       "      <th>carrier_max_estimate</th>\n",
       "      <th>item_zip</th>\n",
       "      <th>buyer_zip</th>\n",
       "      <th>category_id</th>\n",
       "      <th>item_price</th>\n",
       "      <th>quantity</th>\n",
       "      <th>payment_datetime</th>\n",
       "      <th>delivery_date</th>\n",
       "      <th>weight</th>\n",
       "      <th>weight_units</th>\n",
       "      <th>package_size</th>\n",
       "      <th>record_number</th>\n",
       "    </tr>\n",
       "  </thead>\n",
       "  <tbody>\n",
       "    <tr>\n",
       "      <th>0</th>\n",
       "      <td>B2C</td>\n",
       "      <td>25454</td>\n",
       "      <td>3.0</td>\n",
       "      <td>2019-03-26 15:11:00-07:00</td>\n",
       "      <td>0</td>\n",
       "      <td>0.00</td>\n",
       "      <td>3</td>\n",
       "      <td>5</td>\n",
       "      <td>97219</td>\n",
       "      <td>49040</td>\n",
       "      <td>13</td>\n",
       "      <td>27.95</td>\n",
       "      <td>1</td>\n",
       "      <td>2019-03-24 03:56:49-07:00</td>\n",
       "      <td>2019-03-29</td>\n",
       "      <td>5</td>\n",
       "      <td>1</td>\n",
       "      <td>LETTER</td>\n",
       "      <td>1</td>\n",
       "    </tr>\n",
       "    <tr>\n",
       "      <th>1</th>\n",
       "      <td>C2C</td>\n",
       "      <td>6727381</td>\n",
       "      <td>2.0</td>\n",
       "      <td>2018-06-02 12:53:00-07:00</td>\n",
       "      <td>0</td>\n",
       "      <td>3.00</td>\n",
       "      <td>3</td>\n",
       "      <td>5</td>\n",
       "      <td>11415-3528</td>\n",
       "      <td>62521</td>\n",
       "      <td>0</td>\n",
       "      <td>20.50</td>\n",
       "      <td>1</td>\n",
       "      <td>2018-06-01 13:43:54-07:00</td>\n",
       "      <td>2018-06-05</td>\n",
       "      <td>0</td>\n",
       "      <td>1</td>\n",
       "      <td>PACKAGE_THICK_ENVELOPE</td>\n",
       "      <td>2</td>\n",
       "    </tr>\n",
       "    <tr>\n",
       "      <th>2</th>\n",
       "      <td>B2C</td>\n",
       "      <td>18507</td>\n",
       "      <td>1.0</td>\n",
       "      <td>2019-01-07 16:22:00-05:00</td>\n",
       "      <td>0</td>\n",
       "      <td>4.50</td>\n",
       "      <td>3</td>\n",
       "      <td>5</td>\n",
       "      <td>27292</td>\n",
       "      <td>53010</td>\n",
       "      <td>1</td>\n",
       "      <td>19.90</td>\n",
       "      <td>1</td>\n",
       "      <td>2019-01-06 00:02:00-05:00</td>\n",
       "      <td>2019-01-10</td>\n",
       "      <td>9</td>\n",
       "      <td>1</td>\n",
       "      <td>PACKAGE_THICK_ENVELOPE</td>\n",
       "      <td>3</td>\n",
       "    </tr>\n",
       "    <tr>\n",
       "      <th>3</th>\n",
       "      <td>B2C</td>\n",
       "      <td>4677</td>\n",
       "      <td>1.0</td>\n",
       "      <td>2018-12-17 16:56:00-08:00</td>\n",
       "      <td>0</td>\n",
       "      <td>0.00</td>\n",
       "      <td>3</td>\n",
       "      <td>5</td>\n",
       "      <td>90703</td>\n",
       "      <td>80022</td>\n",
       "      <td>1</td>\n",
       "      <td>35.50</td>\n",
       "      <td>1</td>\n",
       "      <td>2018-12-16 10:28:28-08:00</td>\n",
       "      <td>2018-12-21</td>\n",
       "      <td>8</td>\n",
       "      <td>1</td>\n",
       "      <td>PACKAGE_THICK_ENVELOPE</td>\n",
       "      <td>4</td>\n",
       "    </tr>\n",
       "    <tr>\n",
       "      <th>4</th>\n",
       "      <td>B2C</td>\n",
       "      <td>4677</td>\n",
       "      <td>1.0</td>\n",
       "      <td>2018-07-27 16:48:00-07:00</td>\n",
       "      <td>0</td>\n",
       "      <td>0.00</td>\n",
       "      <td>3</td>\n",
       "      <td>5</td>\n",
       "      <td>90703</td>\n",
       "      <td>55070</td>\n",
       "      <td>1</td>\n",
       "      <td>25.00</td>\n",
       "      <td>1</td>\n",
       "      <td>2018-07-26 18:20:02-07:00</td>\n",
       "      <td>2018-07-30</td>\n",
       "      <td>3</td>\n",
       "      <td>1</td>\n",
       "      <td>PACKAGE_THICK_ENVELOPE</td>\n",
       "      <td>5</td>\n",
       "    </tr>\n",
       "    <tr>\n",
       "      <th>5</th>\n",
       "      <td>B2C</td>\n",
       "      <td>10514</td>\n",
       "      <td>1.0</td>\n",
       "      <td>2019-04-19 19:42:00-04:00</td>\n",
       "      <td>0</td>\n",
       "      <td>0.00</td>\n",
       "      <td>3</td>\n",
       "      <td>5</td>\n",
       "      <td>43215</td>\n",
       "      <td>77063</td>\n",
       "      <td>3</td>\n",
       "      <td>10.39</td>\n",
       "      <td>1</td>\n",
       "      <td>2019-04-18 14:11:09-04:00</td>\n",
       "      <td>2019-04-22</td>\n",
       "      <td>1</td>\n",
       "      <td>1</td>\n",
       "      <td>PACKAGE_THICK_ENVELOPE</td>\n",
       "      <td>6</td>\n",
       "    </tr>\n",
       "    <tr>\n",
       "      <th>6</th>\n",
       "      <td>B2C</td>\n",
       "      <td>104</td>\n",
       "      <td>1.0</td>\n",
       "      <td>2019-02-08 17:35:00-08:00</td>\n",
       "      <td>0</td>\n",
       "      <td>0.00</td>\n",
       "      <td>3</td>\n",
       "      <td>5</td>\n",
       "      <td>91304</td>\n",
       "      <td>60565</td>\n",
       "      <td>11</td>\n",
       "      <td>5.70</td>\n",
       "      <td>1</td>\n",
       "      <td>2019-02-08 09:33:13-08:00</td>\n",
       "      <td>2019-02-11</td>\n",
       "      <td>0</td>\n",
       "      <td>1</td>\n",
       "      <td>PACKAGE_THICK_ENVELOPE</td>\n",
       "      <td>7</td>\n",
       "    </tr>\n",
       "    <tr>\n",
       "      <th>7</th>\n",
       "      <td>B2C</td>\n",
       "      <td>340356</td>\n",
       "      <td>1.0</td>\n",
       "      <td>2018-04-23 17:31:00-04:00</td>\n",
       "      <td>0</td>\n",
       "      <td>2.95</td>\n",
       "      <td>3</td>\n",
       "      <td>5</td>\n",
       "      <td>49735</td>\n",
       "      <td>29379</td>\n",
       "      <td>1</td>\n",
       "      <td>6.00</td>\n",
       "      <td>1</td>\n",
       "      <td>2018-04-22 18:32:04-04:00</td>\n",
       "      <td>2018-04-25</td>\n",
       "      <td>1</td>\n",
       "      <td>1</td>\n",
       "      <td>PACKAGE_THICK_ENVELOPE</td>\n",
       "      <td>8</td>\n",
       "    </tr>\n",
       "    <tr>\n",
       "      <th>8</th>\n",
       "      <td>B2C</td>\n",
       "      <td>113915</td>\n",
       "      <td>5.0</td>\n",
       "      <td>2019-10-12 09:22:00-04:00</td>\n",
       "      <td>3</td>\n",
       "      <td>0.00</td>\n",
       "      <td>2</td>\n",
       "      <td>8</td>\n",
       "      <td>43606</td>\n",
       "      <td>32958</td>\n",
       "      <td>18</td>\n",
       "      <td>5.55</td>\n",
       "      <td>1</td>\n",
       "      <td>2019-10-11 04:54:25-04:00</td>\n",
       "      <td>2019-10-15</td>\n",
       "      <td>0</td>\n",
       "      <td>1</td>\n",
       "      <td>NONE</td>\n",
       "      <td>9</td>\n",
       "    </tr>\n",
       "    <tr>\n",
       "      <th>9</th>\n",
       "      <td>B2C</td>\n",
       "      <td>130301</td>\n",
       "      <td>1.0</td>\n",
       "      <td>2019-08-09 11:24:00-05:00</td>\n",
       "      <td>1</td>\n",
       "      <td>0.00</td>\n",
       "      <td>2</td>\n",
       "      <td>5</td>\n",
       "      <td>35117</td>\n",
       "      <td>84776</td>\n",
       "      <td>13</td>\n",
       "      <td>59.98</td>\n",
       "      <td>1</td>\n",
       "      <td>2019-08-08 12:47:14-05:00</td>\n",
       "      <td>2019-08-12</td>\n",
       "      <td>112</td>\n",
       "      <td>1</td>\n",
       "      <td>PACKAGE_THICK_ENVELOPE</td>\n",
       "      <td>10</td>\n",
       "    </tr>\n",
       "  </tbody>\n",
       "</table>\n",
       "</div>"
      ],
      "text/plain": [
       "  b2c_c2c  seller_id  declared_handling_days  acceptance_scan_timestamp  \\\n",
       "0     B2C      25454                     3.0  2019-03-26 15:11:00-07:00   \n",
       "1     C2C    6727381                     2.0  2018-06-02 12:53:00-07:00   \n",
       "2     B2C      18507                     1.0  2019-01-07 16:22:00-05:00   \n",
       "3     B2C       4677                     1.0  2018-12-17 16:56:00-08:00   \n",
       "4     B2C       4677                     1.0  2018-07-27 16:48:00-07:00   \n",
       "5     B2C      10514                     1.0  2019-04-19 19:42:00-04:00   \n",
       "6     B2C        104                     1.0  2019-02-08 17:35:00-08:00   \n",
       "7     B2C     340356                     1.0  2018-04-23 17:31:00-04:00   \n",
       "8     B2C     113915                     5.0  2019-10-12 09:22:00-04:00   \n",
       "9     B2C     130301                     1.0  2019-08-09 11:24:00-05:00   \n",
       "\n",
       "   shipment_method_id  shipping_fee  carrier_min_estimate  \\\n",
       "0                   0          0.00                     3   \n",
       "1                   0          3.00                     3   \n",
       "2                   0          4.50                     3   \n",
       "3                   0          0.00                     3   \n",
       "4                   0          0.00                     3   \n",
       "5                   0          0.00                     3   \n",
       "6                   0          0.00                     3   \n",
       "7                   0          2.95                     3   \n",
       "8                   3          0.00                     2   \n",
       "9                   1          0.00                     2   \n",
       "\n",
       "   carrier_max_estimate    item_zip buyer_zip  category_id  item_price  \\\n",
       "0                     5       97219     49040           13       27.95   \n",
       "1                     5  11415-3528     62521            0       20.50   \n",
       "2                     5       27292     53010            1       19.90   \n",
       "3                     5       90703     80022            1       35.50   \n",
       "4                     5       90703     55070            1       25.00   \n",
       "5                     5       43215     77063            3       10.39   \n",
       "6                     5       91304     60565           11        5.70   \n",
       "7                     5       49735     29379            1        6.00   \n",
       "8                     8       43606     32958           18        5.55   \n",
       "9                     5       35117     84776           13       59.98   \n",
       "\n",
       "   quantity           payment_datetime delivery_date  weight  weight_units  \\\n",
       "0         1  2019-03-24 03:56:49-07:00    2019-03-29       5             1   \n",
       "1         1  2018-06-01 13:43:54-07:00    2018-06-05       0             1   \n",
       "2         1  2019-01-06 00:02:00-05:00    2019-01-10       9             1   \n",
       "3         1  2018-12-16 10:28:28-08:00    2018-12-21       8             1   \n",
       "4         1  2018-07-26 18:20:02-07:00    2018-07-30       3             1   \n",
       "5         1  2019-04-18 14:11:09-04:00    2019-04-22       1             1   \n",
       "6         1  2019-02-08 09:33:13-08:00    2019-02-11       0             1   \n",
       "7         1  2018-04-22 18:32:04-04:00    2018-04-25       1             1   \n",
       "8         1  2019-10-11 04:54:25-04:00    2019-10-15       0             1   \n",
       "9         1  2019-08-08 12:47:14-05:00    2019-08-12     112             1   \n",
       "\n",
       "             package_size  record_number  \n",
       "0                  LETTER              1  \n",
       "1  PACKAGE_THICK_ENVELOPE              2  \n",
       "2  PACKAGE_THICK_ENVELOPE              3  \n",
       "3  PACKAGE_THICK_ENVELOPE              4  \n",
       "4  PACKAGE_THICK_ENVELOPE              5  \n",
       "5  PACKAGE_THICK_ENVELOPE              6  \n",
       "6  PACKAGE_THICK_ENVELOPE              7  \n",
       "7  PACKAGE_THICK_ENVELOPE              8  \n",
       "8                    NONE              9  \n",
       "9  PACKAGE_THICK_ENVELOPE             10  "
      ]
     },
     "execution_count": 4,
     "metadata": {},
     "output_type": "execute_result"
    }
   ],
   "source": [
    "# formatting the timestamps to datetime instead of strings\n",
    "df['acceptance_scan_timestamp'] = pd.to_datetime(df['acceptance_scan_timestamp'], format = '%Y-%m-%d %H:%M:%S')\n",
    "df['payment_datetime'] = pd.to_datetime(df['payment_datetime'], format = '%Y-%m-%d %H:%M:%S')\n",
    "df['delivery_date'] = pd.to_datetime(df['delivery_date'], format = '%Y-%m-%d')\n",
    "\n",
    "df.head(10)"
   ]
  },
  {
   "cell_type": "code",
   "execution_count": 5,
   "metadata": {},
   "outputs": [
    {
     "data": {
      "text/plain": [
       "b2c_c2c                      0\n",
       "seller_id                    0\n",
       "declared_handling_days       0\n",
       "acceptance_scan_timestamp    0\n",
       "shipment_method_id           0\n",
       "shipping_fee                 0\n",
       "carrier_min_estimate         0\n",
       "carrier_max_estimate         0\n",
       "item_zip                     0\n",
       "buyer_zip                    0\n",
       "category_id                  0\n",
       "item_price                   0\n",
       "quantity                     0\n",
       "payment_datetime             0\n",
       "delivery_date                0\n",
       "weight                       0\n",
       "weight_units                 0\n",
       "package_size                 0\n",
       "record_number                0\n",
       "true handling time           0\n",
       "dtype: int64"
      ]
     },
     "execution_count": 5,
     "metadata": {},
     "output_type": "execute_result"
    }
   ],
   "source": [
    "# Fixing the missing handling time values\n",
    "df['true handling time'] = df['acceptance_scan_timestamp'] - df['payment_datetime']\n",
    "df['declared_handling_days'].fillna(-1, inplace = True)\n",
    "\n",
    "df.isna().sum()"
   ]
  },
  {
   "cell_type": "code",
   "execution_count": 6,
   "metadata": {
    "scrolled": true
   },
   "outputs": [
    {
     "name": "stdout",
     "output_type": "stream",
     "text": [
      "b2c_c2c\n",
      "seller_id\n",
      "declared_handling_days\n",
      "acceptance_scan_timestamp\n",
      "shipment_method_id\n",
      "shipping_fee\n",
      "carrier_min_estimate\n",
      "carrier_max_estimate\n",
      "item_zip\n",
      "buyer_zip\n",
      "category_id\n",
      "item_price\n",
      "quantity\n",
      "payment_datetime\n",
      "delivery_date\n",
      "weight\n",
      "weight_units\n",
      "package_size\n",
      "record_number\n",
      "true handling time\n"
     ]
    }
   ],
   "source": [
    "# Check all columns and convert the values on numerical columns\n",
    "for column in df.columns.tolist():\n",
    "    print(column)\n",
    "\n",
    "df['shipment_method_id'] = df['shipment_method_id'].astype(int)\n",
    "df['shipping_fee'] = df['shipping_fee'].astype(float)\n",
    "df['carrier_min_estimate'] = df['carrier_min_estimate'].astype(int)\n",
    "df['carrier_max_estimate'] = df['carrier_max_estimate'].astype(int)\n",
    "df['category_id'] = df['category_id'].astype(int)\n",
    "df['item_price'] = df['item_price'].astype(float)\n",
    "df['quantity'] = df['quantity'].astype(int)\n",
    "df['weight'] = df['weight'].astype(int)\n",
    "df['declared_handling_days'] = df['declared_handling_days'].astype(int)"
   ]
  },
  {
   "cell_type": "code",
   "execution_count": 7,
   "metadata": {},
   "outputs": [
    {
     "data": {
      "text/plain": [
       "b2c_c2c                               object\n",
       "seller_id                              int64\n",
       "declared_handling_days                 int32\n",
       "acceptance_scan_timestamp             object\n",
       "shipment_method_id                     int32\n",
       "shipping_fee                         float64\n",
       "carrier_min_estimate                   int32\n",
       "carrier_max_estimate                   int32\n",
       "item_zip                              object\n",
       "buyer_zip                             object\n",
       "category_id                            int32\n",
       "item_price                           float64\n",
       "quantity                               int32\n",
       "payment_datetime                      object\n",
       "delivery_date                 datetime64[ns]\n",
       "weight                                 int32\n",
       "weight_units                           int64\n",
       "package_size                          object\n",
       "record_number                          int64\n",
       "true handling time           timedelta64[ns]\n",
       "dtype: object"
      ]
     },
     "execution_count": 7,
     "metadata": {},
     "output_type": "execute_result"
    }
   ],
   "source": [
    "# Check data types after conversion\n",
    "df.dtypes"
   ]
  },
  {
   "cell_type": "code",
   "execution_count": 8,
   "metadata": {},
   "outputs": [
    {
     "name": "stdout",
     "output_type": "stream",
     "text": [
      "b2c_c2c\n",
      "2\n",
      "acceptance_scan_timestamp\n",
      "9848\n",
      "item_zip\n",
      "4701\n",
      "buyer_zip\n",
      "6880\n",
      "payment_datetime\n",
      "9998\n",
      "package_size\n",
      "5\n"
     ]
    }
   ],
   "source": [
    "# Verify number of existing classes for each of the string variables\n",
    "for column in df.columns.tolist():\n",
    "    if df[column].dtype == 'object':\n",
    "        print(column)\n",
    "        print(len(df[column].unique().tolist()))"
   ]
  },
  {
   "cell_type": "code",
   "execution_count": 9,
   "metadata": {},
   "outputs": [
    {
     "name": "stdout",
     "output_type": "stream",
     "text": [
      "declared_handling_days\n",
      "11\n",
      "shipment_method_id\n",
      "14\n",
      "carrier_min_estimate\n",
      "4\n",
      "carrier_max_estimate\n",
      "5\n",
      "category_id\n",
      "32\n",
      "quantity\n",
      "14\n",
      "weight\n",
      "133\n"
     ]
    }
   ],
   "source": [
    "# Verify number of existing 'classes' for each of the integer-valued variables\n",
    "for column in df.columns.tolist():\n",
    "    if df[column].dtype == 'int':\n",
    "        print(column)\n",
    "        print(len(df[column].unique().tolist()))"
   ]
  },
  {
   "cell_type": "code",
   "execution_count": 10,
   "metadata": {},
   "outputs": [
    {
     "name": "stdout",
     "output_type": "stream",
     "text": [
      "declared_handling_days 0\n",
      "-1.0 5.0\n",
      "shipping_fee 1\n",
      "0.0 20.65150000000003\n",
      "carrier_min_estimate 2\n",
      "2.0 3.0\n",
      "carrier_max_estimate 3\n",
      "5.0 9.0\n",
      "item_price 4\n",
      "1.0 335.0999000000022\n",
      "weight 5\n",
      "0.0 160.02000000000044\n"
     ]
    },
    {
     "data": {
      "image/png": "[encoded data removed]",
      "text/plain": [
       "<Figure size 720x479.52 with 6 Axes>"
      ]
     },
     "metadata": {
      "needs_background": "light"
     },
     "output_type": "display_data"
    }
   ],
   "source": [
    "# Boxplot of values of real valued variables\n",
    "grid_size = 3\n",
    "fig, axs = plt.subplots(2, grid_size,  figsize = (10,6.66))\n",
    "\n",
    "quant_columns = ['declared_handling_days', 'shipping_fee', 'carrier_min_estimate', 'carrier_max_estimate', 'item_price', 'weight']\n",
    "\n",
    "ax_counter = 0 \n",
    "for column in quant_columns:\n",
    "    if df[column].dtype == 'int' or df[column].dtype == 'float':\n",
    "        #sns.boxplot()\n",
    "        print(column, ax_counter)\n",
    "        sns.boxplot(data=df[column], ax = axs[ax_counter//grid_size, ax_counter%grid_size])\n",
    "        axs[ax_counter//grid_size, ax_counter%grid_size].set_title('Boxplot ' + column)\n",
    "        \n",
    "        #Exclude super outliers so visualization is better\n",
    "        q1 = df[column].quantile(0.01)\n",
    "        q2 = df[column].quantile(0.99)\n",
    "        axs[ax_counter//grid_size, ax_counter%grid_size].set_ylim(q1, q2)\n",
    "        \n",
    "        print(q1, q2)\n",
    "        ax_counter += 1\n",
    "        \n",
    "#fig.savefig('Boxplots.png', dpi = 300)"
   ]
  },
  {
   "cell_type": "code",
   "execution_count": 11,
   "metadata": {},
   "outputs": [
    {
     "name": "stderr",
     "output_type": "stream",
     "text": [
      "C:\\Users\\nicol\\Anaconda3\\lib\\site-packages\\ipykernel_launcher.py:10: FutureWarning: Boolean inputs to the `inclusive` argument are deprecated infavour of `both` or `neither`.\n",
      "  # Remove the CWD from sys.path while we load stuff.\n"
     ]
    },
    {
     "data": {
      "image/png": "[encoded data removed]",
      "text/plain": [
       "<Figure size 1080x720 with 9 Axes>"
      ]
     },
     "metadata": {
      "needs_background": "light"
     },
     "output_type": "display_data"
    }
   ],
   "source": [
    "# Histogram of values of quantitative variables\n",
    "grid_size = 3\n",
    "fig, axs = plt.subplots(grid_size,grid_size, figsize = (15,10))\n",
    "fig.suptitle('Histograms of quantitative variables')\n",
    "\n",
    "ax_counter = 0 \n",
    "for column in df.columns.tolist():\n",
    "    if df[column].dtype == 'int' or df[column].dtype == 'float':\n",
    "        #Exclude super outliers so visualization is better\n",
    "        iqr = df[column][df[column].between(df[column].quantile(0.01), df[column].quantile(0.99), inclusive=True)]\n",
    "        \n",
    "        axs[ax_counter//grid_size, ax_counter%grid_size].hist(iqr)\n",
    "        axs[ax_counter//grid_size, ax_counter%grid_size].set_title(column)\n",
    "        \n",
    "        ax_counter += 1\n",
    "\n",
    "#fig.savefig('Histograms continuous.png', dpi = 300)"
   ]
  },
  {
   "cell_type": "code",
   "execution_count": 12,
   "metadata": {},
   "outputs": [
    {
     "name": "stderr",
     "output_type": "stream",
     "text": [
      "C:\\Users\\nicol\\Anaconda3\\lib\\site-packages\\ipykernel_launcher.py:23: UserWarning: FixedFormatter should only be used together with FixedLocator\n"
     ]
    },
    {
     "data": {
      "image/png": "[encoded data removed]",
      "text/plain": [
       "<Figure size 864x432 with 3 Axes>"
      ]
     },
     "metadata": {
      "needs_background": "light"
     },
     "output_type": "display_data"
    }
   ],
   "source": [
    "# Barplots for qualitative variables\n",
    "grid_size = 3\n",
    "fig, axs = plt.subplots(1,3, figsize = (12,6))\n",
    "\n",
    "fig.suptitle('histograms for categorical varialbes')\n",
    "\n",
    "qual_columns = ['b2c_c2c', 'category_id', 'package_size']\n",
    "\n",
    "ax_counter = 0 \n",
    "for column in qual_columns:\n",
    "    values_list = []\n",
    "    count_list = []\n",
    "    for value in df[column].unique().tolist():\n",
    "        values_list.append(value)\n",
    "        tmp = df[column]\n",
    "        count_list.append(len(tmp.loc[np.where(tmp == value)]))\n",
    "        \n",
    "    \n",
    "    try:\n",
    "        axs[ax_counter].bar(values_list, count_list)\n",
    "        axs[ax_counter].set_title(column)\n",
    "        if column == 'package_size':\n",
    "            axs[ax_counter].set_xticklabels(labels = values_list, rotation = 75)\n",
    "    except:\n",
    "        axs2.bar(values_list, count_list)\n",
    "        axs2.set_title('Barplot ' + column)\n",
    "        axs2.set_xticklabels(labels = values_list, rotation = 45)\n",
    "\n",
    "    ax_counter += 1\n",
    "\n",
    "#fig.savefig('Histograms categorical.png', dpi = 300)"
   ]
  },
  {
   "cell_type": "code",
   "execution_count": null,
   "metadata": {},
   "outputs": [],
   "source": []
  }
 ],
 "metadata": {
  "kernelspec": {
   "display_name": "Python 3 (ipykernel)",
   "language": "python",
   "name": "python3"
  },
  "language_info": {
   "codemirror_mode": {
    "name": "ipython",
    "version": 3
   },
   "file_extension": ".py",
   "mimetype": "text/x-python",
   "name": "python",
   "nbconvert_exporter": "python",
   "pygments_lexer": "ipython3",
   "version": "3.7.3"
  },
  "varInspector": {
   "cols": {
    "lenName": 16,
    "lenType": 16,
    "lenVar": 40
   },
   "kernels_config": {
    "python": {
     "delete_cmd_postfix": "",
     "delete_cmd_prefix": "del ",
     "library": "var_list.py",
     "varRefreshCmd": "print(var_dic_list())"
    },
    "r": {
     "delete_cmd_postfix": ") ",
     "delete_cmd_prefix": "rm(",
     "library": "var_list.r",
     "varRefreshCmd": "cat(var_dic_list()) "
    }
   },
   "types_to_exclude": [
    "module",
    "function",
    "builtin_function_or_method",
    "instance",
    "_Feature"
   ],
   "window_display": false
  }
 },
 "nbformat": 4,
 "nbformat_minor": 2
}
