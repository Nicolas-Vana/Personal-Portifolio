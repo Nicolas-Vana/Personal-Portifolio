{
 "cells": [
  {
   "cell_type": "markdown",
   "id": "2b4ea3ad",
   "metadata": {},
   "source": [
    "# Train model\n",
    "\n",
    "Here we define and train the TensorFlow model that we are going to use."
   ]
  },
  {
   "cell_type": "code",
   "execution_count": 1,
   "id": "e78192ce",
   "metadata": {},
   "outputs": [
    {
     "name": "stderr",
     "output_type": "stream",
     "text": [
      "C:\\Users\\nicol\\Anaconda3\\lib\\site-packages\\numpy\\_distributor_init.py:32: UserWarning: loaded more than 1 DLL from .libs:\n",
      "C:\\Users\\nicol\\Anaconda3\\lib\\site-packages\\numpy\\.libs\\libopenblas.GK7GX5KEQ4F6UYO3P26ULGBQYHGQO7J4.gfortran-win_amd64.dll\n",
      "C:\\Users\\nicol\\Anaconda3\\lib\\site-packages\\numpy\\.libs\\libopenblas.WCDJNK7YVMPZQ2ME2ZZHJJRJ3JIKNDB7.gfortran-win_amd64.dll\n",
      "  stacklevel=1)\n"
     ]
    }
   ],
   "source": [
    "import os\n",
    "import pandas as pd\n",
    "\n",
    "import numpy as np\n",
    "import tensorflow as tf"
   ]
  },
  {
   "cell_type": "code",
   "execution_count": 2,
   "id": "38ad64d3",
   "metadata": {},
   "outputs": [],
   "source": [
    "# Goto pre-processed dataframe folder\n",
    "os.chdir('eBay_ML_Challenge_Dataset_2021')"
   ]
  },
  {
   "cell_type": "code",
   "execution_count": 3,
   "id": "9c39570e",
   "metadata": {},
   "outputs": [],
   "source": [
    "# Get dataframe\n",
    "x = pd.read_csv('Final Dataset.csv')\n",
    "y = pd.read_csv('Final Dataset.csv', usecols=['delivery_time_buss_days'])\n",
    "\n",
    "# Define keras sequential model\n",
    "model = tf.keras.models.Sequential()\n",
    "model.add(tf.keras.layers.Dense(50, input_shape=(len(x.columns),), activation='relu'))\n",
    "model.add(tf.keras.layers.Dense(50, activation='relu'))\n",
    "model.add(tf.keras.layers.Dense(1, activation='relu'))\n",
    "\n",
    "model.compile(loss='mean_squared_error', optimizer='adam', metrics=['accuracy'])"
   ]
  },
  {
   "cell_type": "code",
   "execution_count": 4,
   "id": "9057f167",
   "metadata": {},
   "outputs": [
    {
     "name": "stdout",
     "output_type": "stream",
     "text": [
      "Epoch 1/20\n",
      "1188/1188 [==============================] - 2s 1ms/step - loss: 123803506049024.0000 - accuracy: 0.0097 - val_loss: 14.9200 - val_accuracy: 0.0080\n",
      "Epoch 2/20\n",
      "1188/1188 [==============================] - 1s 1ms/step - loss: 15.0972 - accuracy: 0.0096 - val_loss: 14.9200 - val_accuracy: 0.0080\n",
      "Epoch 3/20\n",
      "1188/1188 [==============================] - 2s 1ms/step - loss: 15.0972 - accuracy: 0.0096 - val_loss: 14.9200 - val_accuracy: 0.0080\n",
      "Epoch 4/20\n",
      "1188/1188 [==============================] - 2s 1ms/step - loss: 15.0972 - accuracy: 0.0096 - val_loss: 14.9200 - val_accuracy: 0.0080\n",
      "Epoch 5/20\n",
      "1188/1188 [==============================] - 2s 1ms/step - loss: 15.0972 - accuracy: 0.0096 - val_loss: 14.9200 - val_accuracy: 0.0080\n",
      "Epoch 6/20\n",
      "1188/1188 [==============================] - 2s 1ms/step - loss: 15.0972 - accuracy: 0.0096 - val_loss: 14.9200 - val_accuracy: 0.0080\n",
      "Epoch 7/20\n",
      "1188/1188 [==============================] - 2s 2ms/step - loss: 15.0972 - accuracy: 0.0096 - val_loss: 14.9200 - val_accuracy: 0.0080\n",
      "Epoch 8/20\n",
      "1188/1188 [==============================] - 2s 1ms/step - loss: 15.0972 - accuracy: 0.0096 - val_loss: 14.9200 - val_accuracy: 0.0080\n",
      "Epoch 9/20\n",
      "1188/1188 [==============================] - 1s 1ms/step - loss: 15.0972 - accuracy: 0.0096 - val_loss: 14.9200 - val_accuracy: 0.0080\n",
      "Epoch 10/20\n",
      "1188/1188 [==============================] - 1s 1ms/step - loss: 15.0972 - accuracy: 0.0096 - val_loss: 14.9200 - val_accuracy: 0.0080\n",
      "Epoch 11/20\n",
      "1188/1188 [==============================] - 1s 1ms/step - loss: 15.0972 - accuracy: 0.0096 - val_loss: 14.9200 - val_accuracy: 0.0080\n",
      "Epoch 12/20\n",
      "1188/1188 [==============================] - 1s 1ms/step - loss: 15.0972 - accuracy: 0.0096 - val_loss: 14.9200 - val_accuracy: 0.0080\n",
      "Epoch 13/20\n",
      "1188/1188 [==============================] - 1s 1ms/step - loss: 15.0972 - accuracy: 0.0096 - val_loss: 14.9200 - val_accuracy: 0.0080\n",
      "Epoch 14/20\n",
      "1188/1188 [==============================] - 1s 1ms/step - loss: 15.0972 - accuracy: 0.0096 - val_loss: 14.9200 - val_accuracy: 0.0080\n",
      "Epoch 15/20\n",
      "1188/1188 [==============================] - 1s 1ms/step - loss: 15.0972 - accuracy: 0.0096 - val_loss: 14.9200 - val_accuracy: 0.0080\n",
      "Epoch 16/20\n",
      "1188/1188 [==============================] - 1s 1ms/step - loss: 15.0972 - accuracy: 0.0096 - val_loss: 14.9200 - val_accuracy: 0.0080\n",
      "Epoch 17/20\n",
      "1188/1188 [==============================] - 1s 1ms/step - loss: 15.0972 - accuracy: 0.0096 - val_loss: 14.9200 - val_accuracy: 0.0080\n",
      "Epoch 18/20\n",
      "1188/1188 [==============================] - 2s 1ms/step - loss: 15.0972 - accuracy: 0.0096 - val_loss: 14.9200 - val_accuracy: 0.0080\n",
      "Epoch 19/20\n",
      "1188/1188 [==============================] - 2s 1ms/step - loss: 15.0972 - accuracy: 0.0096 - val_loss: 14.9200 - val_accuracy: 0.0080\n",
      "Epoch 20/20\n",
      "1188/1188 [==============================] - 1s 1ms/step - loss: 15.0972 - accuracy: 0.0096 - val_loss: 14.9200 - val_accuracy: 0.0080\n",
      "INFO:tensorflow:Assets written to: Trained Model\\assets\n"
     ]
    }
   ],
   "source": [
    "# Train model\n",
    "history = model.fit(x, y, epochs=20, batch_size=8, verbose=1, validation_split=0.05)\n",
    "model.save('Trained Model')"
   ]
  }
 ],
 "metadata": {
  "kernelspec": {
   "display_name": "Python 3 (ipykernel)",
   "language": "python",
   "name": "python3"
  },
  "language_info": {
   "codemirror_mode": {
    "name": "ipython",
    "version": 3
   },
   "file_extension": ".py",
   "mimetype": "text/x-python",
   "name": "python",
   "nbconvert_exporter": "python",
   "pygments_lexer": "ipython3",
   "version": "3.7.3"
  },
  "varInspector": {
   "cols": {
    "lenName": 16,
    "lenType": 16,
    "lenVar": 40
   },
   "kernels_config": {
    "python": {
     "delete_cmd_postfix": "",
     "delete_cmd_prefix": "del ",
     "library": "var_list.py",
     "varRefreshCmd": "print(var_dic_list())"
    },
    "r": {
     "delete_cmd_postfix": ") ",
     "delete_cmd_prefix": "rm(",
     "library": "var_list.r",
     "varRefreshCmd": "cat(var_dic_list()) "
    }
   },
   "types_to_exclude": [
    "module",
    "function",
    "builtin_function_or_method",
    "instance",
    "_Feature"
   ],
   "window_display": false
  }
 },
 "nbformat": 4,
 "nbformat_minor": 5
}
