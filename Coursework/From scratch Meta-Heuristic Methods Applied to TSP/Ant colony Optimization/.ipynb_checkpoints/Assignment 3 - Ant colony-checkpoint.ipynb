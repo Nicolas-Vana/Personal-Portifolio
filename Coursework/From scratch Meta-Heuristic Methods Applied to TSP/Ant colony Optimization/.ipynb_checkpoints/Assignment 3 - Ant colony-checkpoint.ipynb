{
 "cells": [
  {
   "cell_type": "markdown",
   "id": "332a6680",
   "metadata": {},
   "source": [
    "# Ant Colony Optimization\n",
    "\n",
    "Here we are going to code from scratch a solution to the Travelling Salesman Problem (TSP) using the simulated annealing algorithm."
   ]
  },
  {
   "cell_type": "code",
   "execution_count": 57,
   "id": "2f79c706",
   "metadata": {},
   "outputs": [],
   "source": [
    "import numpy as np\n",
    "import matplotlib.pyplot as plt\n",
    "import time \n",
    "import copy\n",
    "\n",
    "start_time = time.time()\n",
    "\n",
    "class City:\n",
    "    def __init__(self, x, y):\n",
    "        self.x = x\n",
    "        self.y = y\n",
    "    \n",
    "    def distance(self, city):\n",
    "        xDis = abs(self.x - city.x)\n",
    "        yDis = abs(self.y - city.y)\n",
    "        distance = np.sqrt((xDis ** 2) + (yDis ** 2))\n",
    "        return distance\n",
    "    \n",
    "    def __repr__(self):\n",
    "        return \"(\" + str(self.x) + \",\" + str(self.y) + \")\"\n",
    "    \n",
    "def sol_score(tour):\n",
    "    total_distance = 0\n",
    "    \n",
    "    tmp = tour\n",
    "    \n",
    "    for index in tmp:\n",
    "        if index != len(cities) - 1:\n",
    "            total_distance += cities[int(index)].distance(cities[tmp[index+1]])\n",
    "        else:\n",
    "            total_distance += cities[int(index)].distance(cities[0])\n",
    "        \n",
    "    return total_distance\n",
    "\n",
    "def create_tour(num_cities):\n",
    "    tour = np.random.choice(num_cities, num_cities, replace = False)\n",
    "    return tour\n",
    "\n",
    "        \n",
    "\n",
    "def cities_to_swap(num_cities, temperature, diff):\n",
    "    #print(np.ceil(num_cities*np.exp(-diff/(temperature))), np.exp(-diff/(temperature)), diff, temperature)\n",
    "    return np.ceil(num_cities*np.exp(-diff/(temperature)))\n",
    "\n",
    "\n",
    "\n",
    "\n",
    "# Parameters\n",
    "num_ants = 20\n",
    "num_iter = 20\n",
    "ALFA = 1\n",
    "BETA = 2\n",
    "num_cities = 50\n",
    "vapo_rate = 0.99\n",
    "\n",
    "cities = []\n",
    "\n",
    "for city in range(num_cities):\n",
    "    cities.append(City(5*np.random.rand(), 5*np.random.rand()))\n",
    "\n",
    "distance_matrix = np.zeros([num_cities, num_cities])\n",
    "for row in range(num_cities):\n",
    "    for column in range(num_cities):\n",
    "        distance_matrix[row][column] = cities[row].distance(cities[column])\n",
    "\n",
    "\n",
    "pheromone_matrix = np.random.rand(num_cities, num_cities)\n"
   ]
  },
  {
   "cell_type": "code",
   "execution_count": 58,
   "id": "a7961a67",
   "metadata": {},
   "outputs": [
    {
     "name": "stdout",
     "output_type": "stream",
     "text": [
      "0\n",
      "1\n",
      "2\n",
      "3\n",
      "4\n",
      "5\n",
      "6\n",
      "7\n",
      "8\n",
      "9\n",
      "10\n",
      "11\n",
      "12\n",
      "13\n",
      "14\n",
      "15\n",
      "16\n",
      "17\n",
      "18\n",
      "19\n"
     ]
    }
   ],
   "source": [
    "tour_distances = []\n",
    "avg_tour_distances = []\n",
    "\n",
    "for iteration in range(num_iter):\n",
    "    #print(iteration)\n",
    "    pher_matrix_update = np.zeros([num_cities, num_cities])\n",
    "    avg_tour_distance = 0\n",
    "    for ant in range(num_ants):\n",
    "        tour = []\n",
    "        tour_distance = 0\n",
    "        \n",
    "        cities_list = np.arange(num_cities)\n",
    "        curr_city = np.random.choice(cities_list, 1)\n",
    "        cities_list = np.delete(cities_list, np.where(cities_list == curr_city))\n",
    "        \n",
    "        for step in range(num_cities-1):\n",
    "            probs = []\n",
    "            \n",
    "            for city in cities_list:\n",
    "                summ = 0\n",
    "                for destiny in cities_list:\n",
    "                    summ += (pheromone_matrix[int(curr_city)][int(destiny)]**ALFA + (1/cities[int(curr_city)].distance(cities[int(destiny)]))**BETA)\n",
    "                probs.append((pheromone_matrix[int(curr_city)][int(city)]**ALFA + (1/cities[int(curr_city)].distance(cities[int(city)]))**BETA)/summ)\n",
    "            \n",
    "            rand = np.random.rand()\n",
    "            next_city = np.random.choice(cities_list, 1, p = probs)\n",
    "            \n",
    "            tour.append(int(curr_city))\n",
    "            \n",
    "            tour_distance += cities[int(curr_city)].distance(cities[int(next_city)])\n",
    "            curr_city = next_city\n",
    "            \n",
    "            cities_list = np.delete(cities_list, np.where(cities_list == curr_city))\n",
    "        \n",
    "        avg_tour_distance += tour_distance\n",
    "        tour_distances.append(tour_distance)\n",
    "        delta_pher = 1/tour_distance\n",
    "        \n",
    "        for index in range(len(tour) - 1):\n",
    "            pher_matrix_update[tour[index]][tour[index+1]] += delta_pher\n",
    "    \n",
    "    avg_tour_distance = avg_tour_distance/num_ants\n",
    "    avg_tour_distances.append(avg_tour_distance)\n",
    "    pheromone_matrix = pheromone_matrix*vapo_rate + pher_matrix_update"
   ]
  },
  {
   "cell_type": "code",
   "execution_count": 59,
   "id": "d9073912",
   "metadata": {},
   "outputs": [
    {
     "data": {
      "text/plain": [
       "array([[0.        , 1.00952737, 4.09681994, ..., 0.56086982, 3.11559767,\n",
       "        2.28277472],\n",
       "       [1.00952737, 0.        , 4.44593913, ..., 1.50571382, 3.41501699,\n",
       "        2.22081101],\n",
       "       [4.09681994, 4.44593913, 0.        , ..., 4.32745637, 1.03280627,\n",
       "        6.37805116],\n",
       "       ...,\n",
       "       [0.56086982, 1.50571382, 4.32745637, ..., 0.        , 3.39843973,\n",
       "        2.17464941],\n",
       "       [3.11559767, 3.41501699, 1.03280627, ..., 3.39843973, 0.        ,\n",
       "        5.38616841],\n",
       "       [2.28277472, 2.22081101, 6.37805116, ..., 2.17464941, 5.38616841,\n",
       "        0.        ]])"
      ]
     },
     "execution_count": 59,
     "metadata": {},
     "output_type": "execute_result"
    }
   ],
   "source": [
    "distance_matrix"
   ]
  },
  {
   "cell_type": "code",
   "execution_count": 60,
   "id": "b898c5e5",
   "metadata": {},
   "outputs": [
    {
     "data": {
      "text/plain": [
       "array([[0.08179069, 0.25751976, 0.09322575, ..., 0.55418406, 0.10311893,\n",
       "        0.15165048],\n",
       "       [0.14257427, 0.08179069, 0.15004262, ..., 0.21279327, 0.11519014,\n",
       "        0.18956861],\n",
       "       [0.09649217, 0.10896925, 0.08179069, ..., 0.10531207, 0.30675658,\n",
       "        0.11374141],\n",
       "       ...,\n",
       "       [0.48928392, 0.17301168, 0.1042946 , ..., 0.08179069, 0.10289371,\n",
       "        0.13739973],\n",
       "       [0.10372071, 0.10616553, 0.30210164, ..., 0.10580176, 0.08179069,\n",
       "        0.16197162],\n",
       "       [0.15884352, 0.18369152, 0.19911607, ..., 0.14087488, 0.08179069,\n",
       "        0.08179069]])"
      ]
     },
     "execution_count": 60,
     "metadata": {},
     "output_type": "execute_result"
    }
   ],
   "source": [
    "pheromone_matrix"
   ]
  },
  {
   "cell_type": "code",
   "execution_count": 61,
   "id": "850cd546",
   "metadata": {},
   "outputs": [
    {
     "data": {
      "text/plain": [
       "Text(0, 0.5, 'Distance')"
      ]
     },
     "execution_count": 61,
     "metadata": {},
     "output_type": "execute_result"
    },
    {
     "data": {
      "image/png": "[encoded data removed]",
      "text/plain": [
       "<Figure size 432x288 with 1 Axes>"
      ]
     },
     "metadata": {
      "needs_background": "light"
     },
     "output_type": "display_data"
    }
   ],
   "source": [
    "plt.plot(avg_tour_distances)\n",
    "plt.title('Average tour distance across iterations')\n",
    "plt.xlabel('# Iterations')\n",
    "plt.ylabel('Distance')\n"
   ]
  },
  {
   "cell_type": "code",
   "execution_count": null,
   "id": "f8390e1a",
   "metadata": {},
   "outputs": [],
   "source": []
  }
 ],
 "metadata": {
  "kernelspec": {
   "display_name": "Python 3 (ipykernel)",
   "language": "python",
   "name": "python3"
  },
  "language_info": {
   "codemirror_mode": {
    "name": "ipython",
    "version": 3
   },
   "file_extension": ".py",
   "mimetype": "text/x-python",
   "name": "python",
   "nbconvert_exporter": "python",
   "pygments_lexer": "ipython3",
   "version": "3.9.7"
  },
  "varInspector": {
   "cols": {
    "lenName": 16,
    "lenType": 16,
    "lenVar": 40
   },
   "kernels_config": {
    "python": {
     "delete_cmd_postfix": "",
     "delete_cmd_prefix": "del ",
     "library": "var_list.py",
     "varRefreshCmd": "print(var_dic_list())"
    },
    "r": {
     "delete_cmd_postfix": ") ",
     "delete_cmd_prefix": "rm(",
     "library": "var_list.r",
     "varRefreshCmd": "cat(var_dic_list()) "
    }
   },
   "types_to_exclude": [
    "module",
    "function",
    "builtin_function_or_method",
    "instance",
    "_Feature"
   ],
   "window_display": false
  }
 },
 "nbformat": 4,
 "nbformat_minor": 5
}
