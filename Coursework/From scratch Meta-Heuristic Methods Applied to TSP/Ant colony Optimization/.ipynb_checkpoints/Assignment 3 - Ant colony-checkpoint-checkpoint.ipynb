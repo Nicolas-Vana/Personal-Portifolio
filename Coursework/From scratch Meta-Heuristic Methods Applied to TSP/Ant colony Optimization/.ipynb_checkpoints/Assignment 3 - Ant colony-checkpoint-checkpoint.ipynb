{
 "cells": [
  {
   "cell_type": "markdown",
   "id": "332a6680",
   "metadata": {},
   "source": [
    "# Ant Colony Optimization\n",
    "\n",
    "Here we are going to code from scratch a solution to the Travelling Salesman Problem (TSP) using the Ant Colony Optimization algorithm."
   ]
  },
  {
   "cell_type": "code",
   "execution_count": 1,
   "id": "2f79c706",
   "metadata": {},
   "outputs": [],
   "source": [
    "import numpy as np\n",
    "import matplotlib.pyplot as plt\n",
    "import time \n",
    "import copy\n",
    "\n",
    "start_time = time.time()\n",
    "\n",
    "# Define the city class that describes the nodes in the TSP\n",
    "class City:\n",
    "    # Positions of the city on the world\n",
    "    def __init__(self, x, y):\n",
    "        self.x = x\n",
    "        self.y = y\n",
    "    \n",
    "    # Determine distance between a pair of cities \n",
    "    def distance(self, city):\n",
    "        xDis = abs(self.x - city.x)\n",
    "        yDis = abs(self.y - city.y)\n",
    "        distance = np.sqrt((xDis ** 2) + (yDis ** 2))\n",
    "        return distance\n",
    "    \n",
    "    def __repr__(self):\n",
    "        return \"(\" + str(self.x) + \",\" + str(self.y) + \")\"\n",
    "\n",
    "# Determine the fitness of a given tour. Used to update the pheromone matrix\n",
    "def sol_score(tour):\n",
    "    total_distance = 0\n",
    "    tmp = tour\n",
    "    \n",
    "    for index in tmp:\n",
    "        if index != len(cities) - 1:\n",
    "            total_distance += cities[int(index)].distance(cities[tmp[index+1]])\n",
    "        else:\n",
    "            total_distance += cities[int(index)].distance(cities[0])\n",
    "        \n",
    "    return total_distance\n",
    "\n",
    "\n"
   ]
  },
  {
   "cell_type": "code",
   "execution_count": null,
   "id": "245c9ceb",
   "metadata": {},
   "outputs": [],
   "source": [
    "# Parameters\n",
    "num_ants = 20\n",
    "num_iter = 20\n",
    "ALFA = 1\n",
    "BETA = 2\n",
    "num_cities = 50\n",
    "vapo_rate = 0.95\n",
    "\n",
    "cities = []\n",
    "\n",
    "for city in range(num_cities):\n",
    "    cities.append(City(10*np.random.rand(), 10*np.random.rand()))\n",
    "\n",
    "distance_matrix = np.zeros([num_cities, num_cities])\n",
    "for row in range(num_cities):\n",
    "    for column in range(num_cities):\n",
    "        distance_matrix[row][column] = cities[row].distance(cities[column])\n",
    "\n",
    "\n",
    "pheromone_matrix = np.random.rand(num_cities, num_cities)"
   ]
  },
  {
   "cell_type": "code",
   "execution_count": 2,
   "id": "a7961a67",
   "metadata": {},
   "outputs": [
    {
     "name": "stdout",
     "output_type": "stream",
     "text": [
      "0\n",
      "1\n",
      "2\n",
      "3\n",
      "4\n",
      "5\n",
      "6\n",
      "7\n",
      "8\n",
      "9\n",
      "10\n",
      "11\n",
      "12\n",
      "13\n",
      "14\n",
      "15\n",
      "16\n",
      "17\n",
      "18\n",
      "19\n"
     ]
    }
   ],
   "source": [
    "tour_distances = []\n",
    "avg_tour_distances = []\n",
    "\n",
    "for iteration in range(num_iter):\n",
    "    print(iteration)\n",
    "    pher_matrix_update = np.zeros([num_cities, num_cities])\n",
    "    avg_tour_distance = 0\n",
    "    for ant in range(num_ants):\n",
    "        tour = []\n",
    "        tour_distance = 0\n",
    "        \n",
    "        cities_list = np.arange(num_cities)\n",
    "        curr_city = np.random.choice(cities_list, 1)\n",
    "        cities_list = np.delete(cities_list, np.where(cities_list == curr_city))\n",
    "        \n",
    "        for step in range(num_cities-1):\n",
    "            probs = []\n",
    "            \n",
    "            for city in cities_list:\n",
    "                summ = 0\n",
    "                for destiny in cities_list:\n",
    "                    summ += (pheromone_matrix[int(curr_city)][int(destiny)]**ALFA + (1/cities[int(curr_city)].distance(cities[int(destiny)]))**BETA)\n",
    "                probs.append((pheromone_matrix[int(curr_city)][int(city)]**ALFA + (1/cities[int(curr_city)].distance(cities[int(city)]))**BETA)/summ)\n",
    "            \n",
    "            rand = np.random.rand()\n",
    "            next_city = np.random.choice(cities_list, 1, p = probs)\n",
    "            \n",
    "            tour.append(int(curr_city))\n",
    "            \n",
    "            tour_distance += cities[int(curr_city)].distance(cities[int(next_city)])\n",
    "            curr_city = next_city\n",
    "            \n",
    "            cities_list = np.delete(cities_list, np.where(cities_list == curr_city))\n",
    "        \n",
    "        avg_tour_distance += tour_distance\n",
    "        tour_distances.append(tour_distance)\n",
    "        delta_pher = 1/tour_distance\n",
    "        \n",
    "        for index in range(len(tour) - 1):\n",
    "            pher_matrix_update[tour[index]][tour[index+1]] += delta_pher\n",
    "    \n",
    "    avg_tour_distance = avg_tour_distance/num_ants\n",
    "    avg_tour_distances.append(avg_tour_distance)\n",
    "    pheromone_matrix = pheromone_matrix*vapo_rate + pher_matrix_update"
   ]
  },
  {
   "cell_type": "code",
   "execution_count": 3,
   "id": "d9073912",
   "metadata": {},
   "outputs": [
    {
     "data": {
      "text/plain": [
       "array([[0.        , 1.32932233, 2.12674543, ..., 2.98368354, 4.22432476,\n",
       "        2.84043834],\n",
       "       [1.32932233, 0.        , 2.78195818, ..., 1.82632713, 3.74840456,\n",
       "        2.39628685],\n",
       "       [2.12674543, 2.78195818, 0.        , ..., 3.42897838, 3.09182019,\n",
       "        2.11074398],\n",
       "       ...,\n",
       "       [2.98368354, 1.82632713, 3.42897838, ..., 0.        , 2.61928651,\n",
       "        1.74604329],\n",
       "       [4.22432476, 3.74840456, 3.09182019, ..., 2.61928651, 0.        ,\n",
       "        1.39682031],\n",
       "       [2.84043834, 2.39628685, 2.11074398, ..., 1.74604329, 1.39682031,\n",
       "        0.        ]])"
      ]
     },
     "execution_count": 3,
     "metadata": {},
     "output_type": "execute_result"
    }
   ],
   "source": [
    "distance_matrix"
   ]
  },
  {
   "cell_type": "code",
   "execution_count": 4,
   "id": "b898c5e5",
   "metadata": {},
   "outputs": [
    {
     "data": {
      "text/plain": [
       "array([[0.3478644 , 0.36006877, 0.02775526, ..., 0.01301479, 0.31563696,\n",
       "        0.10227177],\n",
       "       [0.31631702, 0.03349509, 0.07106369, ..., 0.24983532, 0.13599244,\n",
       "        0.04069232],\n",
       "       [0.27900734, 0.00833492, 0.28823887, ..., 0.16466756, 0.34453153,\n",
       "        0.36446769],\n",
       "       ...,\n",
       "       [0.10404228, 0.33301434, 0.39711558, ..., 0.24824014, 0.38685851,\n",
       "        0.40739766],\n",
       "       [0.26000527, 0.27548089, 0.02839971, ..., 0.2418464 , 0.10286165,\n",
       "        0.34327547],\n",
       "       [0.40248067, 0.21640544, 0.32888631, ..., 0.18229653, 0.15281643,\n",
       "        0.0934938 ]])"
      ]
     },
     "execution_count": 4,
     "metadata": {},
     "output_type": "execute_result"
    }
   ],
   "source": [
    "pheromone_matrix"
   ]
  },
  {
   "cell_type": "code",
   "execution_count": 5,
   "id": "850cd546",
   "metadata": {},
   "outputs": [
    {
     "data": {
      "text/plain": [
       "Text(0, 0.5, 'Distance')"
      ]
     },
     "execution_count": 5,
     "metadata": {},
     "output_type": "execute_result"
    },
    {
     "data": {
      "image/png": "[encoded data removed]",
      "text/plain": [
       "<Figure size 432x288 with 1 Axes>"
      ]
     },
     "metadata": {
      "needs_background": "light"
     },
     "output_type": "display_data"
    }
   ],
   "source": [
    "plt.plot(avg_tour_distances)\n",
    "plt.title('Average tour distance across iterations')\n",
    "plt.xlabel('# Iterations')\n",
    "plt.ylabel('Distance')\n"
   ]
  },
  {
   "cell_type": "code",
   "execution_count": null,
   "id": "f8390e1a",
   "metadata": {},
   "outputs": [],
   "source": []
  }
 ],
 "metadata": {
  "kernelspec": {
   "display_name": "Python 3 (ipykernel)",
   "language": "python",
   "name": "python3"
  },
  "language_info": {
   "codemirror_mode": {
    "name": "ipython",
    "version": 3
   },
   "file_extension": ".py",
   "mimetype": "text/x-python",
   "name": "python",
   "nbconvert_exporter": "python",
   "pygments_lexer": "ipython3",
   "version": "3.9.7"
  },
  "varInspector": {
   "cols": {
    "lenName": 16,
    "lenType": 16,
    "lenVar": 40
   },
   "kernels_config": {
    "python": {
     "delete_cmd_postfix": "",
     "delete_cmd_prefix": "del ",
     "library": "var_list.py",
     "varRefreshCmd": "print(var_dic_list())"
    },
    "r": {
     "delete_cmd_postfix": ") ",
     "delete_cmd_prefix": "rm(",
     "library": "var_list.r",
     "varRefreshCmd": "cat(var_dic_list()) "
    }
   },
   "types_to_exclude": [
    "module",
    "function",
    "builtin_function_or_method",
    "instance",
    "_Feature"
   ],
   "window_display": false
  }
 },
 "nbformat": 4,
 "nbformat_minor": 5
}
