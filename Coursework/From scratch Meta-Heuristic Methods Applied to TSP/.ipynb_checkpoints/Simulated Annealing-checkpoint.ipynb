{
 "cells": [
  {
   "cell_type": "markdown",
   "id": "436ff612",
   "metadata": {},
   "source": [
    "# Simulated Annealing\n",
    "\n",
    "Here we are going to code from scratch a solution to the Travelling Salesman Problem (TSP) using the simulated annealing algorithm."
   ]
  },
  {
   "cell_type": "code",
   "execution_count": 1,
   "id": "a24e8972",
   "metadata": {},
   "outputs": [],
   "source": [
    "import numpy as np\n",
    "import matplotlib.pyplot as plt\n",
    "import copy"
   ]
  },
  {
   "cell_type": "markdown",
   "id": "348075f0",
   "metadata": {},
   "source": [
    "First we define the city class, that is going to be used to model the nodes on the graph"
   ]
  },
  {
   "cell_type": "code",
   "execution_count": 3,
   "id": "f1de7a42",
   "metadata": {},
   "outputs": [],
   "source": [
    "\n",
    "class City:\n",
    "    def __init__(self, x, y):\n",
    "        self.x = x\n",
    "        self.y = y\n",
    "    \n",
    "    def distance(self, city):\n",
    "        xDis = abs(self.x - city.x)\n",
    "        yDis = abs(self.y - city.y)\n",
    "        distance = np.sqrt((xDis ** 2) + (yDis ** 2))\n",
    "        return distance\n",
    "    \n",
    "    def __repr__(self):\n",
    "        return \"(\" + str(self.x) + \",\" + str(self.y) + \")\""
   ]
  },
  {
   "cell_type": "markdown",
   "id": "54521a52",
   "metadata": {},
   "source": [
    "Here we define the auxiliary functions that are going to be used during the solution "
   ]
  },
  {
   "cell_type": "code",
   "execution_count": 4,
   "id": "52cb9229",
   "metadata": {},
   "outputs": [],
   "source": [
    "# Create a random tour to all cities.\n",
    "def create_tour(num_cities):\n",
    "    tour = np.random.choice(num_cities, num_cities, replace = False)\n",
    "    return tour\n",
    "\n",
    "# Determine tour fitness score. For this project the fitness is defined as the inverse of the total lenght\n",
    "# the tour.\n",
    "def sol_score(tour):\n",
    "    total_distance = 0\n",
    "    tmp = tour\n",
    "    \n",
    "    for index in tmp:\n",
    "        if index != len(cities) - 1:\n",
    "            total_distance += cities[int(index)].distance(cities[tmp[index+1]])\n",
    "        else:\n",
    "            total_distance += cities[int(index)].distance(cities[0])\n",
    "        \n",
    "    return total_distance\n",
    "\n",
    "# Given a tour and a number of swaps between pairs of cities, return a tour with that many swaps.\n",
    "def swap_positions(tour, num_swaps):\n",
    "    copy_arr = copy.deepcopy(tour)\n",
    "    for swap in range(int(num_swaps)):\n",
    "        rand1 = int(np.random.choice(len(copy_arr)))\n",
    "        rand2 = int(np.random.choice(len(copy_arr)))\n",
    "        \n",
    "        tmp = copy_arr[rand1]\n",
    "        copy_arr[rand1] = copy_arr[rand2]\n",
    "        copy_arr[rand2] = tmp\n",
    "    \n",
    "    return copy_arr\n",
    "\n",
    "# Determine how many swaps are going to be made depending on the temperature at a given stage and the\n",
    "# difference in fitness of two tours. As temperatures decrease, less swaps should be done so that there is\n",
    "# \"Convergence\" to a local optimum\n",
    "def cities_to_swap(num_cities, temperature, diff):\n",
    "    return np.ceil(num_cities*np.exp(-diff/(temperature)))"
   ]
  },
  {
   "cell_type": "code",
   "execution_count": 35,
   "id": "736b6c18",
   "metadata": {},
   "outputs": [],
   "source": [
    "# Parameters that are going to be set for a given experiment.\n",
    "starting_temp = 40\n",
    "final_temp = 6\n",
    "temp_decrement = 0.9\n",
    "iter_per_temp = 10\n",
    "num_cities = 200\n",
    "starting_cities_to_swap = num_cities\n",
    "\n",
    "# initialize lists of cities.\n",
    "cities = []"
   ]
  },
  {
   "cell_type": "code",
   "execution_count": 36,
   "id": "eb0892a1",
   "metadata": {},
   "outputs": [],
   "source": [
    "# Create cities with random positions on a 10x10 square\n",
    "for city in range(num_cities):\n",
    "    cities.append(City(10*np.random.rand(), 10*np.random.rand()))"
   ]
  },
  {
   "cell_type": "code",
   "execution_count": 37,
   "id": "798c155f",
   "metadata": {},
   "outputs": [],
   "source": [
    "# Create starting tour randomly\n",
    "tour = create_tour(num_cities)\n",
    "\n",
    "temp = starting_temp\n",
    "iter_counter = 0\n",
    "num_cities_to_swap = starting_cities_to_swap\n",
    "dist_list = []\n",
    "best_counter = 0\n",
    "worst_counter = 0"
   ]
  },
  {
   "cell_type": "code",
   "execution_count": 38,
   "id": "60463966",
   "metadata": {},
   "outputs": [],
   "source": [
    "# Run the simmulated anealling algorithm. While the temperature is greater than final temperature.\n",
    "while temp > final_temp:\n",
    "    \n",
    "    # Get fitness for current solution and for a new temporary \"random\" solution.\n",
    "    current_dist = sol_score(tour)\n",
    "    temp_tour = swap_positions(tour, num_cities_to_swap)\n",
    "    temp_distance = sol_score(temp_tour)\n",
    "    \n",
    "    # Calculate difference in fitness.\n",
    "    diff = np.abs(temp_distance - current_dist)\n",
    "    \n",
    "    # If the temporary solution has a better fitness update values.\n",
    "    if temp_distance < current_dist:\n",
    "        \n",
    "        # Add temporary solution to the set of solutions found and update current solution.\n",
    "        dist_list.append(temp_distance)\n",
    "        tour = temp_tour\n",
    "        \n",
    "        # Check if the number of iterations on this temperature has been achieved.\n",
    "        # If it has, decrease temperature and set the number of iterations on this temperature as 0.\n",
    "        if iter_counter == iter_per_temp:\n",
    "            temp = temp*temp_decrement\n",
    "            iter_counter = 0\n",
    "            \n",
    "            # Use this line to evaluate the algorithm progress.\n",
    "            #print('temp reduced', temp)\n",
    "        \n",
    "        # Re-calculate the number of cities to swap.\n",
    "        num_cities_to_swap = cities_to_swap(num_cities, temp, diff)\n",
    "        \n",
    "        # Make sure to always swap at least one city or else the algorithm will be stuck in an infinite\n",
    "        # loop.\n",
    "        if num_cities_to_swap == 0:\n",
    "            num_cities_to_swap = 1\n",
    "\n",
    "        iter_counter += 1\n",
    "        \n",
    "        # Counter of how many times the solution was improved during the trials.\n",
    "        best_counter += 1\n",
    "    \n",
    "    # If the temporary solution is worse than the current one.\n",
    "    else:\n",
    "        # Then there is a probability of us accepting the worst solution. It is given by the formula below.\n",
    "        if np.random.rand() < np.exp(-diff/temp):\n",
    "            # The same updates that were done with the improved solution are done here as well. \n",
    "            tour = temp_tour\n",
    "            dist_list.append(temp_distance)\n",
    "            \n",
    "            if iter_counter == iter_per_temp:\n",
    "                temp = temp*temp_decrement\n",
    "                iter_counter = 0\n",
    "                #print('temp reduced', temp)\n",
    "            \n",
    "            num_cities_to_swap = cities_to_swap(num_cities, temp, diff)\n",
    "            if num_cities_to_swap == 0:\n",
    "                num_cities_to_swap = 1\n",
    "            \n",
    "            iter_counter += 1\n",
    "            # Counter of how many times the solution was worsened during the trials.\n",
    "            worst_counter += 1\n"
   ]
  },
  {
   "cell_type": "code",
   "execution_count": 40,
   "id": "8d1c4d71",
   "metadata": {},
   "outputs": [
    {
     "data": {
      "image/png": "[encoded data removed]",
      "text/plain": [
       "<Figure size 432x288 with 1 Axes>"
      ]
     },
     "metadata": {
      "needs_background": "light"
     },
     "output_type": "display_data"
    }
   ],
   "source": [
    "plt.plot(dist_list)\n",
    "plt.title('Total tour lenght across trials')\n",
    "plt.ylabel('Total Tour distance')\n",
    "plt.xlabel('Generation')\n",
    "plt.savefig('Results ST = ' + str(starting_temp) + ' FT = ' + str(final_temp) + ' Iters = ' + str(iter_per_temp) + ' TD = ' + str(temp_decrement) + '.png', dpi =300)"
   ]
  },
  {
   "cell_type": "markdown",
   "id": "41539ba3",
   "metadata": {},
   "source": [
    "Here we can (likely) see convergence to a local minimum distance for the TSP after a given number of generations. "
   ]
  }
 ],
 "metadata": {
  "kernelspec": {
   "display_name": "Python 3 (ipykernel)",
   "language": "python",
   "name": "python3"
  },
  "language_info": {
   "codemirror_mode": {
    "name": "ipython",
    "version": 3
   },
   "file_extension": ".py",
   "mimetype": "text/x-python",
   "name": "python",
   "nbconvert_exporter": "python",
   "pygments_lexer": "ipython3",
   "version": "3.9.7"
  },
  "varInspector": {
   "cols": {
    "lenName": 16,
    "lenType": 16,
    "lenVar": 40
   },
   "kernels_config": {
    "python": {
     "delete_cmd_postfix": "",
     "delete_cmd_prefix": "del ",
     "library": "var_list.py",
     "varRefreshCmd": "print(var_dic_list())"
    },
    "r": {
     "delete_cmd_postfix": ") ",
     "delete_cmd_prefix": "rm(",
     "library": "var_list.r",
     "varRefreshCmd": "cat(var_dic_list()) "
    }
   },
   "types_to_exclude": [
    "module",
    "function",
    "builtin_function_or_method",
    "instance",
    "_Feature"
   ],
   "window_display": false
  }
 },
 "nbformat": 4,
 "nbformat_minor": 5
}
