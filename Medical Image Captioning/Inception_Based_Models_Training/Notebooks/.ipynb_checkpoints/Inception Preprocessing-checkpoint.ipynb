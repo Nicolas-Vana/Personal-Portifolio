{
 "cells": [
  {
   "cell_type": "code",
   "execution_count": 1,
   "id": "5ca1282c",
   "metadata": {},
   "outputs": [],
   "source": [
    "from tensorflow.keras.applications.inception_v3 import preprocess_input\n",
    "from tensorflow.keras.preprocessing import image\n",
    "\n",
    "import numpy as np\n",
    "import gc\n",
    "import time\n",
    "import glob\n",
    "import re "
   ]
  },
  {
   "cell_type": "code",
   "execution_count": null,
   "id": "e20f7c56",
   "metadata": {},
   "outputs": [],
   "source": [
    "path = Path(os.getcwd())\n",
    "\n",
    "root = Path(path.parent.absolute()) "
   ]
  },
  {
   "cell_type": "code",
   "execution_count": null,
   "id": "f99bbeb4",
   "metadata": {},
   "outputs": [],
   "source": [
    "preprocessed_image_path = root / 'Shared Preprocessed Objects' / 'Preprocessed Images for Inception'\n",
    "target_path = root / "
   ]
  },
  {
   "cell_type": "code",
   "execution_count": 2,
   "id": "f0a01e84",
   "metadata": {},
   "outputs": [],
   "source": [
    "preprocessed_image_path =  'D://Mestrado//Applications of Deep Learning//Images Preprocessed For Inception//'\n",
    "target_path =  'D://Mestrado//Applications of Deep Learning//Compartmentalized_Models//Pretrained_Imagenet//'"
   ]
  },
  {
   "cell_type": "code",
   "execution_count": 3,
   "id": "bc7bd540",
   "metadata": {},
   "outputs": [],
   "source": [
    "train_image_paths = np.load(target_path + \"train_image_paths.npy\", allow_pickle=True)\n",
    "test_image_paths = np.load(target_path + \"test_image_paths.npy\", allow_pickle=True)"
   ]
  },
  {
   "cell_type": "code",
   "execution_count": 4,
   "id": "dd2827e5",
   "metadata": {},
   "outputs": [
    {
     "name": "stdout",
     "output_type": "stream",
     "text": [
      "65423 8176\n"
     ]
    }
   ],
   "source": [
    "print(len(train_image_paths), len(test_image_paths))"
   ]
  },
  {
   "cell_type": "code",
   "execution_count": 5,
   "id": "28433241",
   "metadata": {},
   "outputs": [],
   "source": [
    "# Deprecated because of extreme long time to run and OOM issues\n",
    "def preprocess_images_inceptionV3(image_paths, batch_size = 32, show_progress = True):\n",
    "    features = {}\n",
    "    index = 0\n",
    "    \n",
    "    while index + batch_size < len(image_paths):\n",
    "        \n",
    "        if show_progress:\n",
    "            print('extracted ' + str(index) + ' image features out of ' + str(len(image_paths)))\n",
    "            \n",
    "        batch = image_paths[index:index+batch_size]\n",
    "        img_batch = preprocess_image_batch(batch)\n",
    "        #encoded_batch = model.predict(img_batch, batch_size = batch_size)\n",
    "        \n",
    "        for num, path in enumerate(batch):\n",
    "            imageId = path[path.index('ROCO_'):-4]\n",
    "            features[imageId] = img_batch[num]\n",
    "        \n",
    "        index += batch_size\n",
    "    \n",
    "    batch = image_paths[index:]\n",
    "    img_batch = preprocess_image_batch(batch)\n",
    "    for num, path in enumerate(batch):\n",
    "        imageId = path[path.index('ROCO_'):-4]\n",
    "        features[imageId] = img_batch[num]\n",
    "    \n",
    "    return features"
   ]
  },
  {
   "cell_type": "code",
   "execution_count": 6,
   "id": "6e8977a1",
   "metadata": {},
   "outputs": [],
   "source": [
    "def preprocess_image_batch(images_path):\n",
    "    tmp = []\n",
    "    \n",
    "    for image_path in images_path:\n",
    "        img = image.load_img(image_path, target_size = (299,299))\n",
    "        x = image.img_to_array(img)\n",
    "        x = np.expand_dims(x, axis = 0)\n",
    "        x = preprocess_input(x)\n",
    "        #print(np.array(x).shape)\n",
    "        tmp.append(np.array(x))\n",
    "    \n",
    "    tmp = np.array(tmp)\n",
    "    tmp = tmp.reshape((len(images_path), 299, 299, 3))\n",
    "    #print(tmp.shape)\n",
    "    \n",
    "    return tmp"
   ]
  },
  {
   "cell_type": "code",
   "execution_count": 7,
   "id": "355e51fe",
   "metadata": {},
   "outputs": [],
   "source": [
    "def preprocess_image_batch_inceptionV3(image_paths, file_prefix, batch_size = 32, show_progress = True):\n",
    "    \n",
    "    index = 0\n",
    "    batch_count = 0\n",
    "    while index + batch_size < len(image_paths):\n",
    "        # Checking if the file already exists since this is very slow\n",
    "        paths = glob.glob(preprocessed_image_path + '//*')\n",
    "        paths = [re.sub('\\\\\\\\', '//', path) for path in paths]\n",
    "        paths = '\\t'.join(paths)\n",
    "        if preprocessed_image_path + file_prefix + str(batch_count) in paths:\n",
    "            print('skipped file ' + preprocessed_image_path + file_prefix + str(batch_count) + ' because it already exists')\n",
    "            index += batch_size\n",
    "            batch_count += 1\n",
    "        \n",
    "        # If it doesnt exist, then create it\n",
    "        else:\n",
    "            features = {}\n",
    "            gc.collect()\n",
    "            start = time.time()\n",
    "\n",
    "            batch = image_paths[index:index+batch_size]\n",
    "            img_batch = preprocess_image_batch(batch)\n",
    "\n",
    "            for num, path in enumerate(batch):\n",
    "                imageId = path[path.index('ROCO_'):-4]\n",
    "                features[imageId] = img_batch[num]\n",
    "\n",
    "            np.save(preprocessed_image_path + file_prefix + str(batch_count), features)\n",
    "\n",
    "            index += batch_size\n",
    "            batch_count += 1\n",
    "\n",
    "            if show_progress:\n",
    "                print('Preprocessed ' + str(index) + ' images out of ' + str(len(image_paths)))\n",
    "                print('Took ' + str(time.time() - start) + ' seconds to process this batch')\n",
    "        \n",
    "    features = {}\n",
    "    batch = image_paths[index:]\n",
    "    img_batch = preprocess_image_batch(batch)\n",
    "    for num, path in enumerate(batch):\n",
    "        imageId = path[path.index('ROCO_'):-4]\n",
    "        features[imageId] = img_batch[num]\n",
    "    \n",
    "    np.save(preprocessed_image_path + file_prefix + str(batch_count), features)\n",
    "    return features"
   ]
  },
  {
   "cell_type": "code",
   "execution_count": 8,
   "id": "b351f91b",
   "metadata": {
    "scrolled": true
   },
   "outputs": [
    {
     "name": "stdout",
     "output_type": "stream",
     "text": [
      "--- Preprocessing Train Images ---\n",
      "Preprocessed 2048 images out of 65423\n",
      "Took 118.3871796131134 seconds to process this batch\n",
      "skipped file D://Mestrado//Applications of Deep Learning//Images Preprocessed For Inception//train_images_preprocessed_batch_1 because it already exists\n",
      "skipped file D://Mestrado//Applications of Deep Learning//Images Preprocessed For Inception//train_images_preprocessed_batch_2 because it already exists\n",
      "skipped file D://Mestrado//Applications of Deep Learning//Images Preprocessed For Inception//train_images_preprocessed_batch_3 because it already exists\n",
      "skipped file D://Mestrado//Applications of Deep Learning//Images Preprocessed For Inception//train_images_preprocessed_batch_4 because it already exists\n",
      "skipped file D://Mestrado//Applications of Deep Learning//Images Preprocessed For Inception//train_images_preprocessed_batch_5 because it already exists\n",
      "skipped file D://Mestrado//Applications of Deep Learning//Images Preprocessed For Inception//train_images_preprocessed_batch_6 because it already exists\n",
      "skipped file D://Mestrado//Applications of Deep Learning//Images Preprocessed For Inception//train_images_preprocessed_batch_7 because it already exists\n",
      "skipped file D://Mestrado//Applications of Deep Learning//Images Preprocessed For Inception//train_images_preprocessed_batch_8 because it already exists\n",
      "skipped file D://Mestrado//Applications of Deep Learning//Images Preprocessed For Inception//train_images_preprocessed_batch_9 because it already exists\n",
      "skipped file D://Mestrado//Applications of Deep Learning//Images Preprocessed For Inception//train_images_preprocessed_batch_10 because it already exists\n",
      "skipped file D://Mestrado//Applications of Deep Learning//Images Preprocessed For Inception//train_images_preprocessed_batch_11 because it already exists\n",
      "skipped file D://Mestrado//Applications of Deep Learning//Images Preprocessed For Inception//train_images_preprocessed_batch_12 because it already exists\n",
      "skipped file D://Mestrado//Applications of Deep Learning//Images Preprocessed For Inception//train_images_preprocessed_batch_13 because it already exists\n",
      "skipped file D://Mestrado//Applications of Deep Learning//Images Preprocessed For Inception//train_images_preprocessed_batch_14 because it already exists\n",
      "skipped file D://Mestrado//Applications of Deep Learning//Images Preprocessed For Inception//train_images_preprocessed_batch_15 because it already exists\n",
      "skipped file D://Mestrado//Applications of Deep Learning//Images Preprocessed For Inception//train_images_preprocessed_batch_16 because it already exists\n",
      "skipped file D://Mestrado//Applications of Deep Learning//Images Preprocessed For Inception//train_images_preprocessed_batch_17 because it already exists\n",
      "skipped file D://Mestrado//Applications of Deep Learning//Images Preprocessed For Inception//train_images_preprocessed_batch_18 because it already exists\n",
      "skipped file D://Mestrado//Applications of Deep Learning//Images Preprocessed For Inception//train_images_preprocessed_batch_19 because it already exists\n",
      "skipped file D://Mestrado//Applications of Deep Learning//Images Preprocessed For Inception//train_images_preprocessed_batch_20 because it already exists\n",
      "skipped file D://Mestrado//Applications of Deep Learning//Images Preprocessed For Inception//train_images_preprocessed_batch_21 because it already exists\n",
      "skipped file D://Mestrado//Applications of Deep Learning//Images Preprocessed For Inception//train_images_preprocessed_batch_22 because it already exists\n",
      "skipped file D://Mestrado//Applications of Deep Learning//Images Preprocessed For Inception//train_images_preprocessed_batch_23 because it already exists\n",
      "skipped file D://Mestrado//Applications of Deep Learning//Images Preprocessed For Inception//train_images_preprocessed_batch_24 because it already exists\n",
      "skipped file D://Mestrado//Applications of Deep Learning//Images Preprocessed For Inception//train_images_preprocessed_batch_25 because it already exists\n",
      "skipped file D://Mestrado//Applications of Deep Learning//Images Preprocessed For Inception//train_images_preprocessed_batch_26 because it already exists\n",
      "skipped file D://Mestrado//Applications of Deep Learning//Images Preprocessed For Inception//train_images_preprocessed_batch_27 because it already exists\n",
      "skipped file D://Mestrado//Applications of Deep Learning//Images Preprocessed For Inception//train_images_preprocessed_batch_28 because it already exists\n",
      "skipped file D://Mestrado//Applications of Deep Learning//Images Preprocessed For Inception//train_images_preprocessed_batch_29 because it already exists\n",
      "skipped file D://Mestrado//Applications of Deep Learning//Images Preprocessed For Inception//train_images_preprocessed_batch_30 because it already exists\n"
     ]
    },
    {
     "ename": "KeyboardInterrupt",
     "evalue": "",
     "output_type": "error",
     "traceback": [
      "\u001b[1;31m---------------------------------------------------------------------------\u001b[0m",
      "\u001b[1;31mKeyboardInterrupt\u001b[0m                         Traceback (most recent call last)",
      "\u001b[1;32m~\\AppData\\Local\\Temp/ipykernel_13348/2462098872.py\u001b[0m in \u001b[0;36m<module>\u001b[1;34m\u001b[0m\n\u001b[0;32m      1\u001b[0m \u001b[1;31m# This takes a long time!!!\u001b[0m\u001b[1;33m\u001b[0m\u001b[1;33m\u001b[0m\u001b[0m\n\u001b[0;32m      2\u001b[0m \u001b[0mprint\u001b[0m\u001b[1;33m(\u001b[0m\u001b[1;34m'--- Preprocessing Train Images ---'\u001b[0m\u001b[1;33m)\u001b[0m\u001b[1;33m\u001b[0m\u001b[1;33m\u001b[0m\u001b[0m\n\u001b[1;32m----> 3\u001b[1;33m \u001b[0msample_train_images_preprocessed\u001b[0m \u001b[1;33m=\u001b[0m \u001b[0mpreprocess_image_batch_inceptionV3\u001b[0m\u001b[1;33m(\u001b[0m\u001b[0mtrain_image_paths\u001b[0m\u001b[1;33m,\u001b[0m \u001b[1;34m'train_images_preprocessed_batch_'\u001b[0m\u001b[1;33m,\u001b[0m \u001b[0mbatch_size\u001b[0m \u001b[1;33m=\u001b[0m \u001b[1;36m2048\u001b[0m\u001b[1;33m)\u001b[0m\u001b[1;33m\u001b[0m\u001b[1;33m\u001b[0m\u001b[0m\n\u001b[0m\u001b[0;32m      4\u001b[0m \u001b[0mnp\u001b[0m\u001b[1;33m.\u001b[0m\u001b[0msave\u001b[0m\u001b[1;33m(\u001b[0m\u001b[0mpreprocessed_image_path\u001b[0m \u001b[1;33m+\u001b[0m \u001b[1;34m'train_images_preprocessed'\u001b[0m\u001b[1;33m,\u001b[0m \u001b[0msample_train_images_preprocessed\u001b[0m\u001b[1;33m)\u001b[0m\u001b[1;33m\u001b[0m\u001b[1;33m\u001b[0m\u001b[0m\n\u001b[0;32m      5\u001b[0m \u001b[1;33m\u001b[0m\u001b[0m\n",
      "\u001b[1;32m~\\AppData\\Local\\Temp/ipykernel_13348/1395597732.py\u001b[0m in \u001b[0;36mpreprocess_image_batch_inceptionV3\u001b[1;34m(image_paths, file_prefix, batch_size, show_progress)\u001b[0m\n\u001b[0;32m     37\u001b[0m     \u001b[0mfeatures\u001b[0m \u001b[1;33m=\u001b[0m \u001b[1;33m{\u001b[0m\u001b[1;33m}\u001b[0m\u001b[1;33m\u001b[0m\u001b[1;33m\u001b[0m\u001b[0m\n\u001b[0;32m     38\u001b[0m     \u001b[0mbatch\u001b[0m \u001b[1;33m=\u001b[0m \u001b[0mimage_paths\u001b[0m\u001b[1;33m[\u001b[0m\u001b[0mindex\u001b[0m\u001b[1;33m:\u001b[0m\u001b[1;33m]\u001b[0m\u001b[1;33m\u001b[0m\u001b[1;33m\u001b[0m\u001b[0m\n\u001b[1;32m---> 39\u001b[1;33m     \u001b[0mimg_batch\u001b[0m \u001b[1;33m=\u001b[0m \u001b[0mpreprocess_image_batch\u001b[0m\u001b[1;33m(\u001b[0m\u001b[0mbatch\u001b[0m\u001b[1;33m)\u001b[0m\u001b[1;33m\u001b[0m\u001b[1;33m\u001b[0m\u001b[0m\n\u001b[0m\u001b[0;32m     40\u001b[0m     \u001b[1;32mfor\u001b[0m \u001b[0mnum\u001b[0m\u001b[1;33m,\u001b[0m \u001b[0mpath\u001b[0m \u001b[1;32min\u001b[0m \u001b[0menumerate\u001b[0m\u001b[1;33m(\u001b[0m\u001b[0mbatch\u001b[0m\u001b[1;33m)\u001b[0m\u001b[1;33m:\u001b[0m\u001b[1;33m\u001b[0m\u001b[1;33m\u001b[0m\u001b[0m\n\u001b[0;32m     41\u001b[0m         \u001b[0mimageId\u001b[0m \u001b[1;33m=\u001b[0m \u001b[0mpath\u001b[0m\u001b[1;33m[\u001b[0m\u001b[0mpath\u001b[0m\u001b[1;33m.\u001b[0m\u001b[0mindex\u001b[0m\u001b[1;33m(\u001b[0m\u001b[1;34m'ROCO_'\u001b[0m\u001b[1;33m)\u001b[0m\u001b[1;33m:\u001b[0m\u001b[1;33m-\u001b[0m\u001b[1;36m4\u001b[0m\u001b[1;33m]\u001b[0m\u001b[1;33m\u001b[0m\u001b[1;33m\u001b[0m\u001b[0m\n",
      "\u001b[1;32m~\\AppData\\Local\\Temp/ipykernel_13348/627759005.py\u001b[0m in \u001b[0;36mpreprocess_image_batch\u001b[1;34m(images_path)\u001b[0m\n\u001b[0;32m      3\u001b[0m \u001b[1;33m\u001b[0m\u001b[0m\n\u001b[0;32m      4\u001b[0m     \u001b[1;32mfor\u001b[0m \u001b[0mimage_path\u001b[0m \u001b[1;32min\u001b[0m \u001b[0mimages_path\u001b[0m\u001b[1;33m:\u001b[0m\u001b[1;33m\u001b[0m\u001b[1;33m\u001b[0m\u001b[0m\n\u001b[1;32m----> 5\u001b[1;33m         \u001b[0mimg\u001b[0m \u001b[1;33m=\u001b[0m \u001b[0mimage\u001b[0m\u001b[1;33m.\u001b[0m\u001b[0mload_img\u001b[0m\u001b[1;33m(\u001b[0m\u001b[0mimage_path\u001b[0m\u001b[1;33m,\u001b[0m \u001b[0mtarget_size\u001b[0m \u001b[1;33m=\u001b[0m \u001b[1;33m(\u001b[0m\u001b[1;36m299\u001b[0m\u001b[1;33m,\u001b[0m\u001b[1;36m299\u001b[0m\u001b[1;33m)\u001b[0m\u001b[1;33m)\u001b[0m\u001b[1;33m\u001b[0m\u001b[1;33m\u001b[0m\u001b[0m\n\u001b[0m\u001b[0;32m      6\u001b[0m         \u001b[0mx\u001b[0m \u001b[1;33m=\u001b[0m \u001b[0mimage\u001b[0m\u001b[1;33m.\u001b[0m\u001b[0mimg_to_array\u001b[0m\u001b[1;33m(\u001b[0m\u001b[0mimg\u001b[0m\u001b[1;33m)\u001b[0m\u001b[1;33m\u001b[0m\u001b[1;33m\u001b[0m\u001b[0m\n\u001b[0;32m      7\u001b[0m         \u001b[0mx\u001b[0m \u001b[1;33m=\u001b[0m \u001b[0mnp\u001b[0m\u001b[1;33m.\u001b[0m\u001b[0mexpand_dims\u001b[0m\u001b[1;33m(\u001b[0m\u001b[0mx\u001b[0m\u001b[1;33m,\u001b[0m \u001b[0maxis\u001b[0m \u001b[1;33m=\u001b[0m \u001b[1;36m0\u001b[0m\u001b[1;33m)\u001b[0m\u001b[1;33m\u001b[0m\u001b[1;33m\u001b[0m\u001b[0m\n",
      "\u001b[1;32m~\\Anaconda3\\envs\\tf-gpu\\lib\\site-packages\\keras\\preprocessing\\image.py\u001b[0m in \u001b[0;36mload_img\u001b[1;34m(path, grayscale, color_mode, target_size, interpolation)\u001b[0m\n\u001b[0;32m    311\u001b[0m       \u001b[0mValueError\u001b[0m\u001b[1;33m:\u001b[0m \u001b[1;32mif\u001b[0m \u001b[0minterpolation\u001b[0m \u001b[0mmethod\u001b[0m \u001b[1;32mis\u001b[0m \u001b[1;32mnot\u001b[0m \u001b[0msupported\u001b[0m\u001b[1;33m.\u001b[0m\u001b[1;33m\u001b[0m\u001b[1;33m\u001b[0m\u001b[0m\n\u001b[0;32m    312\u001b[0m   \"\"\"\n\u001b[1;32m--> 313\u001b[1;33m   return image.load_img(path, grayscale=grayscale, color_mode=color_mode,\n\u001b[0m\u001b[0;32m    314\u001b[0m                         target_size=target_size, interpolation=interpolation)\n\u001b[0;32m    315\u001b[0m \u001b[1;33m\u001b[0m\u001b[0m\n",
      "\u001b[1;32m~\\Anaconda3\\envs\\tf-gpu\\lib\\site-packages\\keras_preprocessing\\image\\utils.py\u001b[0m in \u001b[0;36mload_img\u001b[1;34m(path, grayscale, color_mode, target_size, interpolation)\u001b[0m\n\u001b[0;32m    112\u001b[0m                           'The use of `load_img` requires PIL.')\n\u001b[0;32m    113\u001b[0m     \u001b[1;32mwith\u001b[0m \u001b[0mopen\u001b[0m\u001b[1;33m(\u001b[0m\u001b[0mpath\u001b[0m\u001b[1;33m,\u001b[0m \u001b[1;34m'rb'\u001b[0m\u001b[1;33m)\u001b[0m \u001b[1;32mas\u001b[0m \u001b[0mf\u001b[0m\u001b[1;33m:\u001b[0m\u001b[1;33m\u001b[0m\u001b[1;33m\u001b[0m\u001b[0m\n\u001b[1;32m--> 114\u001b[1;33m         \u001b[0mimg\u001b[0m \u001b[1;33m=\u001b[0m \u001b[0mpil_image\u001b[0m\u001b[1;33m.\u001b[0m\u001b[0mopen\u001b[0m\u001b[1;33m(\u001b[0m\u001b[0mio\u001b[0m\u001b[1;33m.\u001b[0m\u001b[0mBytesIO\u001b[0m\u001b[1;33m(\u001b[0m\u001b[0mf\u001b[0m\u001b[1;33m.\u001b[0m\u001b[0mread\u001b[0m\u001b[1;33m(\u001b[0m\u001b[1;33m)\u001b[0m\u001b[1;33m)\u001b[0m\u001b[1;33m)\u001b[0m\u001b[1;33m\u001b[0m\u001b[1;33m\u001b[0m\u001b[0m\n\u001b[0m\u001b[0;32m    115\u001b[0m         \u001b[1;32mif\u001b[0m \u001b[0mcolor_mode\u001b[0m \u001b[1;33m==\u001b[0m \u001b[1;34m'grayscale'\u001b[0m\u001b[1;33m:\u001b[0m\u001b[1;33m\u001b[0m\u001b[1;33m\u001b[0m\u001b[0m\n\u001b[0;32m    116\u001b[0m             \u001b[1;31m# if image is not already an 8-bit, 16-bit or 32-bit grayscale image\u001b[0m\u001b[1;33m\u001b[0m\u001b[1;33m\u001b[0m\u001b[0m\n",
      "\u001b[1;31mKeyboardInterrupt\u001b[0m: "
     ]
    }
   ],
   "source": [
    "# This takes a long time!!! Around 3 hours on my personal setting\n",
    "print('--- Preprocessing Train Images ---')\n",
    "sample_train_images_preprocessed = preprocess_image_batch_inceptionV3(train_image_paths, 'train_images_preprocessed_batch_', batch_size = 2048)\n",
    "np.save(preprocessed_image_path + 'train_images_preprocessed', sample_train_images_preprocessed)\n",
    "\n",
    "print('--- Preprocessing Test Images ---')\n",
    "sample_test_images_preprocessed = preprocess_image_batch_inceptionV3(test_image_paths, 'test_images_preprocessed_batch_', batch_size = 2044)\n",
    "np.save(preprocessed_image_path + 'test_images_preprocessed', sample_test_images_preprocessed)"
   ]
  },
  {
   "cell_type": "code",
   "execution_count": null,
   "id": "06f64bac",
   "metadata": {},
   "outputs": [],
   "source": []
  }
 ],
 "metadata": {
  "kernelspec": {
   "display_name": "Python 3 (ipykernel)",
   "language": "python",
   "name": "python3"
  },
  "language_info": {
   "codemirror_mode": {
    "name": "ipython",
    "version": 3
   },
   "file_extension": ".py",
   "mimetype": "text/x-python",
   "name": "python",
   "nbconvert_exporter": "python",
   "pygments_lexer": "ipython3",
   "version": "3.7.3"
  },
  "varInspector": {
   "cols": {
    "lenName": 16,
    "lenType": 16,
    "lenVar": 40
   },
   "kernels_config": {
    "python": {
     "delete_cmd_postfix": "",
     "delete_cmd_prefix": "del ",
     "library": "var_list.py",
     "varRefreshCmd": "print(var_dic_list())"
    },
    "r": {
     "delete_cmd_postfix": ") ",
     "delete_cmd_prefix": "rm(",
     "library": "var_list.r",
     "varRefreshCmd": "cat(var_dic_list()) "
    }
   },
   "types_to_exclude": [
    "module",
    "function",
    "builtin_function_or_method",
    "instance",
    "_Feature"
   ],
   "window_display": false
  }
 },
 "nbformat": 4,
 "nbformat_minor": 5
}
