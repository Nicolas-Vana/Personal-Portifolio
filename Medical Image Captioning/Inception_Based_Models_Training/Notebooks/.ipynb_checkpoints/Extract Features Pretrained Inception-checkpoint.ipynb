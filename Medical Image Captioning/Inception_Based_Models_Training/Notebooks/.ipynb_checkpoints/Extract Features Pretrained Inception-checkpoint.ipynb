{
 "cells": [
  {
   "cell_type": "code",
   "execution_count": 1,
   "id": "8ee0ce6c",
   "metadata": {},
   "outputs": [],
   "source": [
    "import numpy as np\n",
    "import glob\n",
    "import re\n",
    "import gc\n",
    "\n",
    "import os\n",
    "from pathlib import Path"
   ]
  },
  {
   "cell_type": "code",
   "execution_count": null,
   "id": "18a34f8a",
   "metadata": {},
   "outputs": [],
   "source": [
    "path = Path(os.getcwd())\n",
    "root = Path(path.parent.absolute()) \n",
    "\n",
    "# preprocessed_image_path = root / 'Shared Preprocessed Objects' / 'Preprocessed Images for Inception'\n",
    "# fetching_path = root / 'Shared Preprocessed Objects'\n",
    "model_path = root / 'Models' / ''"
   ]
  },
  {
   "cell_type": "code",
   "execution_count": 2,
   "id": "41bf644c",
   "metadata": {},
   "outputs": [],
   "source": [
    "target_path =  'D://Mestrado//Applications of Deep Learning//Compartmentalized_Models//Pretrained_Imagenet//'\n",
    "preprocessed_image_path =  'D://Mestrado//Applications of Deep Learning//Images Preprocessed For Inception//'\n",
    "output_path = 'D://Mestrado//Applications of Deep Learning//Compartmentalized_Models//Pretrained_Imagenet//Image Features//'"
   ]
  },
  {
   "cell_type": "code",
   "execution_count": 3,
   "id": "90146c95",
   "metadata": {},
   "outputs": [],
   "source": [
    "# train_images_preprocessed = np.load(preprocessed_image_path + \"train_images_preprocessed.npy\", allow_pickle=True).item()\n",
    "# test_images_preprocessed = np.load(preprocessed_image_path + \"test_images_preprocessed.npy\", allow_pickle=True).item()"
   ]
  },
  {
   "cell_type": "code",
   "execution_count": 4,
   "id": "d31d7f55",
   "metadata": {},
   "outputs": [],
   "source": [
    "from tensorflow.keras.applications.inception_v3 import InceptionV3\n",
    "from tensorflow.keras.models import Model\n",
    "def get_pretrained_inceptionV3():\n",
    "    ## Initializing Pre-trained Model\n",
    "    model = InceptionV3(weights='imagenet')\n",
    "    ## Removing Softmax, as the problem is not about classification\n",
    "    model2 = Model(model.input, model.layers[-2].output)\n",
    "    return model2"
   ]
  },
  {
   "cell_type": "code",
   "execution_count": 5,
   "id": "d39cf492",
   "metadata": {},
   "outputs": [],
   "source": [
    "inceptionV3 = get_pretrained_inceptionV3()"
   ]
  },
  {
   "cell_type": "code",
   "execution_count": 9,
   "id": "031c0bdd",
   "metadata": {},
   "outputs": [],
   "source": [
    "def get_features_pretrained_inception(inputs, model, batch_size = 64, show_progress = True):\n",
    "    \n",
    "    keys = list(inputs.keys())\n",
    "    values = list(inputs.values())\n",
    "    \n",
    "    features = {}\n",
    "    index = 0\n",
    "    \n",
    "    while index + batch_size < len(keys):\n",
    "        if show_progress:\n",
    "            print('extracted ' + str(index) + ' image features out of ' + str(len(keys)))\n",
    "            \n",
    "        batch = np.array(values[index:index+batch_size])\n",
    "        feature_batch = model.predict(batch, verbose = 0, batch_size = 64)\n",
    "        \n",
    "        for num, feature in enumerate(feature_batch):\n",
    "            features[keys[index + num]] = feature\n",
    "        \n",
    "        index += batch_size\n",
    "    \n",
    "    batch = np.array(values[index:])\n",
    "    feature_batch = model.predict(batch, verbose = 0, batch_size = 64)\n",
    "    for num, feature in enumerate(feature_batch):\n",
    "            features[keys[index + num]] = feature\n",
    "    \n",
    "    return features\n",
    "        #encoded_batch = model.predict(inputs[key], batch_size = batch_size)"
   ]
  },
  {
   "cell_type": "code",
   "execution_count": 10,
   "id": "7cf74d3e",
   "metadata": {},
   "outputs": [],
   "source": [
    "paths = glob.glob(preprocessed_image_path + '//*')\n",
    "paths = [re.sub('\\\\\\\\', '//', path) for path in paths]\n",
    "#paths"
   ]
  },
  {
   "cell_type": "code",
   "execution_count": 11,
   "id": "a94726ab",
   "metadata": {
    "collapsed": true
   },
   "outputs": [
    {
     "name": "stdout",
     "output_type": "stream",
     "text": [
      "D://Mestrado//Applications of Deep Learning//Images Preprocessed For Inception//test_images_preprocessed_batch_0.npy\n",
      "D://Mestrado//Applications of Deep Learning//Images Preprocessed For Inception//test_images_preprocessed_batch_1.npy\n",
      "D://Mestrado//Applications of Deep Learning//Images Preprocessed For Inception//test_images_preprocessed_batch_2.npy\n",
      "D://Mestrado//Applications of Deep Learning//Images Preprocessed For Inception//test_images_preprocessed_batch_3.npy\n",
      "D://Mestrado//Applications of Deep Learning//Images Preprocessed For Inception//train_images_preprocessed_batch_0.npy\n",
      "D://Mestrado//Applications of Deep Learning//Images Preprocessed For Inception//train_images_preprocessed_batch_1.npy\n",
      "D://Mestrado//Applications of Deep Learning//Images Preprocessed For Inception//train_images_preprocessed_batch_10.npy\n",
      "D://Mestrado//Applications of Deep Learning//Images Preprocessed For Inception//train_images_preprocessed_batch_11.npy\n",
      "D://Mestrado//Applications of Deep Learning//Images Preprocessed For Inception//train_images_preprocessed_batch_12.npy\n",
      "D://Mestrado//Applications of Deep Learning//Images Preprocessed For Inception//train_images_preprocessed_batch_13.npy\n",
      "D://Mestrado//Applications of Deep Learning//Images Preprocessed For Inception//train_images_preprocessed_batch_14.npy\n",
      "D://Mestrado//Applications of Deep Learning//Images Preprocessed For Inception//train_images_preprocessed_batch_15.npy\n",
      "D://Mestrado//Applications of Deep Learning//Images Preprocessed For Inception//train_images_preprocessed_batch_16.npy\n",
      "D://Mestrado//Applications of Deep Learning//Images Preprocessed For Inception//train_images_preprocessed_batch_17.npy\n",
      "D://Mestrado//Applications of Deep Learning//Images Preprocessed For Inception//train_images_preprocessed_batch_18.npy\n",
      "D://Mestrado//Applications of Deep Learning//Images Preprocessed For Inception//train_images_preprocessed_batch_19.npy\n",
      "D://Mestrado//Applications of Deep Learning//Images Preprocessed For Inception//train_images_preprocessed_batch_2.npy\n",
      "D://Mestrado//Applications of Deep Learning//Images Preprocessed For Inception//train_images_preprocessed_batch_20.npy\n",
      "D://Mestrado//Applications of Deep Learning//Images Preprocessed For Inception//train_images_preprocessed_batch_21.npy\n",
      "D://Mestrado//Applications of Deep Learning//Images Preprocessed For Inception//train_images_preprocessed_batch_22.npy\n",
      "D://Mestrado//Applications of Deep Learning//Images Preprocessed For Inception//train_images_preprocessed_batch_23.npy\n",
      "D://Mestrado//Applications of Deep Learning//Images Preprocessed For Inception//train_images_preprocessed_batch_24.npy\n",
      "D://Mestrado//Applications of Deep Learning//Images Preprocessed For Inception//train_images_preprocessed_batch_25.npy\n",
      "D://Mestrado//Applications of Deep Learning//Images Preprocessed For Inception//train_images_preprocessed_batch_26.npy\n",
      "D://Mestrado//Applications of Deep Learning//Images Preprocessed For Inception//train_images_preprocessed_batch_27.npy\n",
      "D://Mestrado//Applications of Deep Learning//Images Preprocessed For Inception//train_images_preprocessed_batch_28.npy\n",
      "D://Mestrado//Applications of Deep Learning//Images Preprocessed For Inception//train_images_preprocessed_batch_29.npy\n",
      "D://Mestrado//Applications of Deep Learning//Images Preprocessed For Inception//train_images_preprocessed_batch_3.npy\n",
      "D://Mestrado//Applications of Deep Learning//Images Preprocessed For Inception//train_images_preprocessed_batch_30.npy\n",
      "D://Mestrado//Applications of Deep Learning//Images Preprocessed For Inception//train_images_preprocessed_batch_31.npy\n",
      "D://Mestrado//Applications of Deep Learning//Images Preprocessed For Inception//train_images_preprocessed_batch_4.npy\n",
      "D://Mestrado//Applications of Deep Learning//Images Preprocessed For Inception//train_images_preprocessed_batch_5.npy\n",
      "D://Mestrado//Applications of Deep Learning//Images Preprocessed For Inception//train_images_preprocessed_batch_6.npy\n",
      "D://Mestrado//Applications of Deep Learning//Images Preprocessed For Inception//train_images_preprocessed_batch_7.npy\n",
      "D://Mestrado//Applications of Deep Learning//Images Preprocessed For Inception//train_images_preprocessed_batch_8.npy\n",
      "D://Mestrado//Applications of Deep Learning//Images Preprocessed For Inception//train_images_preprocessed_batch_9.npy\n"
     ]
    }
   ],
   "source": [
    "# This takes a long time!!! Around 1 hour in my settings\n",
    "count_train = 0\n",
    "count_test = 0\n",
    "for path in paths:\n",
    "    print(path)\n",
    "    tmp = np.load(path, allow_pickle=True).item()\n",
    "    gc.collect()\n",
    "    \n",
    "    if 'train' in path:\n",
    "        train_features = get_features_pretrained_inception(tmp, inceptionV3, batch_size = len(tmp))\n",
    "        np.save(output_path + 'train_features_batch' + str(count_train), train_features)\n",
    "        count_train += 1\n",
    "    \n",
    "    else:\n",
    "        test_features = get_features_pretrained_inception(tmp, inceptionV3, batch_size = len(tmp))\n",
    "        np.save(output_path + 'test_features_batch'+ str(count_test), test_features)\n",
    "        count_test += 1\n"
   ]
  },
  {
   "cell_type": "code",
   "execution_count": 12,
   "id": "e148f00e",
   "metadata": {
    "collapsed": true
   },
   "outputs": [
    {
     "data": {
      "text/plain": [
       "['D://Mestrado//Applications of Deep Learning//Compartmentalized_Models//Pretrained_Imagenet//Image Features//test_features_batch0.npy',\n",
       " 'D://Mestrado//Applications of Deep Learning//Compartmentalized_Models//Pretrained_Imagenet//Image Features//test_features_batch1.npy',\n",
       " 'D://Mestrado//Applications of Deep Learning//Compartmentalized_Models//Pretrained_Imagenet//Image Features//test_features_batch2.npy',\n",
       " 'D://Mestrado//Applications of Deep Learning//Compartmentalized_Models//Pretrained_Imagenet//Image Features//test_features_batch3.npy',\n",
       " 'D://Mestrado//Applications of Deep Learning//Compartmentalized_Models//Pretrained_Imagenet//Image Features//train_features_batch0.npy',\n",
       " 'D://Mestrado//Applications of Deep Learning//Compartmentalized_Models//Pretrained_Imagenet//Image Features//train_features_batch1.npy',\n",
       " 'D://Mestrado//Applications of Deep Learning//Compartmentalized_Models//Pretrained_Imagenet//Image Features//train_features_batch10.npy',\n",
       " 'D://Mestrado//Applications of Deep Learning//Compartmentalized_Models//Pretrained_Imagenet//Image Features//train_features_batch11.npy',\n",
       " 'D://Mestrado//Applications of Deep Learning//Compartmentalized_Models//Pretrained_Imagenet//Image Features//train_features_batch12.npy',\n",
       " 'D://Mestrado//Applications of Deep Learning//Compartmentalized_Models//Pretrained_Imagenet//Image Features//train_features_batch13.npy',\n",
       " 'D://Mestrado//Applications of Deep Learning//Compartmentalized_Models//Pretrained_Imagenet//Image Features//train_features_batch14.npy',\n",
       " 'D://Mestrado//Applications of Deep Learning//Compartmentalized_Models//Pretrained_Imagenet//Image Features//train_features_batch15.npy',\n",
       " 'D://Mestrado//Applications of Deep Learning//Compartmentalized_Models//Pretrained_Imagenet//Image Features//train_features_batch16.npy',\n",
       " 'D://Mestrado//Applications of Deep Learning//Compartmentalized_Models//Pretrained_Imagenet//Image Features//train_features_batch17.npy',\n",
       " 'D://Mestrado//Applications of Deep Learning//Compartmentalized_Models//Pretrained_Imagenet//Image Features//train_features_batch18.npy',\n",
       " 'D://Mestrado//Applications of Deep Learning//Compartmentalized_Models//Pretrained_Imagenet//Image Features//train_features_batch19.npy',\n",
       " 'D://Mestrado//Applications of Deep Learning//Compartmentalized_Models//Pretrained_Imagenet//Image Features//train_features_batch2.npy',\n",
       " 'D://Mestrado//Applications of Deep Learning//Compartmentalized_Models//Pretrained_Imagenet//Image Features//train_features_batch20.npy',\n",
       " 'D://Mestrado//Applications of Deep Learning//Compartmentalized_Models//Pretrained_Imagenet//Image Features//train_features_batch21.npy',\n",
       " 'D://Mestrado//Applications of Deep Learning//Compartmentalized_Models//Pretrained_Imagenet//Image Features//train_features_batch22.npy',\n",
       " 'D://Mestrado//Applications of Deep Learning//Compartmentalized_Models//Pretrained_Imagenet//Image Features//train_features_batch23.npy',\n",
       " 'D://Mestrado//Applications of Deep Learning//Compartmentalized_Models//Pretrained_Imagenet//Image Features//train_features_batch24.npy',\n",
       " 'D://Mestrado//Applications of Deep Learning//Compartmentalized_Models//Pretrained_Imagenet//Image Features//train_features_batch25.npy',\n",
       " 'D://Mestrado//Applications of Deep Learning//Compartmentalized_Models//Pretrained_Imagenet//Image Features//train_features_batch26.npy',\n",
       " 'D://Mestrado//Applications of Deep Learning//Compartmentalized_Models//Pretrained_Imagenet//Image Features//train_features_batch27.npy',\n",
       " 'D://Mestrado//Applications of Deep Learning//Compartmentalized_Models//Pretrained_Imagenet//Image Features//train_features_batch28.npy',\n",
       " 'D://Mestrado//Applications of Deep Learning//Compartmentalized_Models//Pretrained_Imagenet//Image Features//train_features_batch29.npy',\n",
       " 'D://Mestrado//Applications of Deep Learning//Compartmentalized_Models//Pretrained_Imagenet//Image Features//train_features_batch3.npy',\n",
       " 'D://Mestrado//Applications of Deep Learning//Compartmentalized_Models//Pretrained_Imagenet//Image Features//train_features_batch30.npy',\n",
       " 'D://Mestrado//Applications of Deep Learning//Compartmentalized_Models//Pretrained_Imagenet//Image Features//train_features_batch31.npy',\n",
       " 'D://Mestrado//Applications of Deep Learning//Compartmentalized_Models//Pretrained_Imagenet//Image Features//train_features_batch4.npy',\n",
       " 'D://Mestrado//Applications of Deep Learning//Compartmentalized_Models//Pretrained_Imagenet//Image Features//train_features_batch5.npy',\n",
       " 'D://Mestrado//Applications of Deep Learning//Compartmentalized_Models//Pretrained_Imagenet//Image Features//train_features_batch6.npy',\n",
       " 'D://Mestrado//Applications of Deep Learning//Compartmentalized_Models//Pretrained_Imagenet//Image Features//train_features_batch7.npy',\n",
       " 'D://Mestrado//Applications of Deep Learning//Compartmentalized_Models//Pretrained_Imagenet//Image Features//train_features_batch8.npy',\n",
       " 'D://Mestrado//Applications of Deep Learning//Compartmentalized_Models//Pretrained_Imagenet//Image Features//train_features_batch9.npy']"
      ]
     },
     "execution_count": 12,
     "metadata": {},
     "output_type": "execute_result"
    }
   ],
   "source": [
    "# Merge all batches into one big thing \n",
    "# This is possible because the feature extraction reduces dimensionality significantly\n",
    "paths = glob.glob(output_path + '//*')\n",
    "paths = [re.sub('\\\\\\\\', '//', path) for path in paths]\n",
    "paths\n",
    "\n"
   ]
  },
  {
   "cell_type": "code",
   "execution_count": 16,
   "id": "ad7be663",
   "metadata": {
    "collapsed": true
   },
   "outputs": [
    {
     "name": "stdout",
     "output_type": "stream",
     "text": [
      "0 2044\n",
      "0 4088\n",
      "0 6132\n",
      "0 8176\n",
      "2048 8176\n",
      "4096 8176\n",
      "6144 8176\n",
      "8192 8176\n",
      "10240 8176\n",
      "12288 8176\n",
      "14336 8176\n",
      "16384 8176\n",
      "18432 8176\n",
      "20480 8176\n",
      "22528 8176\n",
      "24576 8176\n",
      "26624 8176\n",
      "28672 8176\n",
      "30720 8176\n",
      "32768 8176\n",
      "34816 8176\n",
      "36864 8176\n",
      "38799 8176\n",
      "40847 8176\n",
      "42895 8176\n",
      "44943 8176\n",
      "46991 8176\n",
      "49039 8176\n",
      "51087 8176\n",
      "53135 8176\n",
      "55183 8176\n",
      "57231 8176\n",
      "59279 8176\n",
      "61327 8176\n",
      "63375 8176\n",
      "65423 8176\n"
     ]
    }
   ],
   "source": [
    "train_features = {}\n",
    "test_features = {}\n",
    "\n",
    "for path in paths:\n",
    "    tmp = np.load(path, allow_pickle=True).item()\n",
    "    if 'train_' in path:\n",
    "        train_features = train_features | tmp\n",
    "    else:\n",
    "        test_features = test_features | tmp"
   ]
  },
  {
   "cell_type": "code",
   "execution_count": 17,
   "id": "07ea6ea3",
   "metadata": {},
   "outputs": [],
   "source": [
    "np.save(target_path + 'train_features_full', train_features)\n",
    "np.save(target_path + 'test_features_full', test_features)"
   ]
  },
  {
   "cell_type": "code",
   "execution_count": null,
   "id": "071e554d",
   "metadata": {},
   "outputs": [],
   "source": [
    "#print(len(train_features), train_features['ROCO_00002'].shape)"
   ]
  },
  {
   "cell_type": "code",
   "execution_count": null,
   "id": "cdab4e59",
   "metadata": {},
   "outputs": [],
   "source": [
    "# # This takes a long time!!!\n",
    "# print('--- Extracting Train Image Features ---')\n",
    "# for path in paths:\n",
    "#     if 'train' in path:\n",
    "#         tmp = np.load()\n",
    "# train_features = get_features_pretrained_inception(train_images_preprocessed, inceptionV3, batch_size = 128)\n",
    "# np.save(output_path + 'train_features', train_features)\n",
    "\n",
    "# print('--- Extracting Test Image Features ---')\n",
    "# test_features = get_features_pretrained_inception(test_images_preprocessed, inceptionV3, batch_size = 128)\n",
    "# np.save(output_path + 'test_features', test_features)"
   ]
  }
 ],
 "metadata": {
  "kernelspec": {
   "display_name": "Python 3 (ipykernel)",
   "language": "python",
   "name": "python3"
  },
  "language_info": {
   "codemirror_mode": {
    "name": "ipython",
    "version": 3
   },
   "file_extension": ".py",
   "mimetype": "text/x-python",
   "name": "python",
   "nbconvert_exporter": "python",
   "pygments_lexer": "ipython3",
   "version": "3.7.3"
  },
  "varInspector": {
   "cols": {
    "lenName": 16,
    "lenType": 16,
    "lenVar": 40
   },
   "kernels_config": {
    "python": {
     "delete_cmd_postfix": "",
     "delete_cmd_prefix": "del ",
     "library": "var_list.py",
     "varRefreshCmd": "print(var_dic_list())"
    },
    "r": {
     "delete_cmd_postfix": ") ",
     "delete_cmd_prefix": "rm(",
     "library": "var_list.r",
     "varRefreshCmd": "cat(var_dic_list()) "
    }
   },
   "types_to_exclude": [
    "module",
    "function",
    "builtin_function_or_method",
    "instance",
    "_Feature"
   ],
   "window_display": false
  }
 },
 "nbformat": 4,
 "nbformat_minor": 5
}
