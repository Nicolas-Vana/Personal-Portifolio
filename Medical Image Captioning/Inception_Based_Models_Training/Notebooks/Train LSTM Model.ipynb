{
 "cells": [
  {
   "cell_type": "code",
   "execution_count": 1,
   "id": "529e4c86",
   "metadata": {},
   "outputs": [],
   "source": [
    "import glob\n",
    "\n",
    "import os\n",
    "from pathlib import Path"
   ]
  },
  {
   "cell_type": "code",
   "execution_count": 2,
   "id": "604f09e0",
   "metadata": {},
   "outputs": [],
   "source": [
    "path = Path(os.getcwd())\n",
    "root = Path(path.parent.absolute())\n",
    "\n",
    "model_path = root / 'Models' / 'Pretrained Inception'"
   ]
  },
  {
   "cell_type": "code",
   "execution_count": 3,
   "id": "c95c0cdd",
   "metadata": {},
   "outputs": [],
   "source": [
    "import tensorflow as tf\n",
    "import numpy as np\n",
    "import gc\n",
    "\n",
    "def train_LSTM_model(path, model_name, num_batches, epochs, batch_size, validation_split = 0.1):\n",
    "    # I am not sure that callbacks work in this context, further testing must be done.\n",
    "    model = tf.keras.models.load_model(path / model_name)\n",
    "    model.summary()\n",
    "    \n",
    "    early_stop = tf.keras.callbacks.EarlyStopping(monitor='val_loss', patience=10)\n",
    "    history = []\n",
    "    for epoch in range(epochs):\n",
    "        print('---- EPOCH ' + str(epoch) + ' ----')\n",
    "        for batch in range(num_batches):\n",
    "            features = np.load(path / ('training_triples/features_batch_' + str(batch) + '.npy'), allow_pickle = True)\n",
    "            captions = np.load(path / ('training_triples/captions_batch_' + str(batch) + '.npy'), allow_pickle = True)\n",
    "            outputs = np.load(path / ('training_triples/outputs_batch_' + str(batch) + '.npy'), allow_pickle = True)\n",
    "\n",
    "            history.append(model.fit(x = [features, captions], y = outputs, epochs=1, batch_size = batch_size, verbose=1, validation_split = validation_split, callbacks = [early_stop]))\n",
    "            \n",
    "            gc.collect()\n",
    "            tf.keras.backend.clear_session()\n",
    "        \n",
    "        model.save(path / 'TrainedLSTM' / ('epoch=' + str(epoch)))\n",
    "    \n",
    "    return model, np.array(history)"
   ]
  },
  {
   "cell_type": "code",
   "execution_count": 4,
   "id": "478df79a",
   "metadata": {},
   "outputs": [
    {
     "data": {
      "text/plain": [
       "12"
      ]
     },
     "execution_count": 4,
     "metadata": {},
     "output_type": "execute_result"
    }
   ],
   "source": [
    "batches = glob.glob(str(model_path) + '/training_triples/*')\n",
    "num_batches_training = int(len(batches)/3)\n",
    "num_batches_training"
   ]
  },
  {
   "cell_type": "code",
   "execution_count": 5,
   "id": "e1abb899",
   "metadata": {
    "scrolled": true
   },
   "outputs": [
    {
     "name": "stdout",
     "output_type": "stream",
     "text": [
      "Model: \"model_1\"\n",
      "__________________________________________________________________________________________________\n",
      "Layer (type)                    Output Shape         Param #     Connected to                     \n",
      "==================================================================================================\n",
      "captions (InputLayer)           [(None, 341)]        0                                            \n",
      "__________________________________________________________________________________________________\n",
      "features (InputLayer)           [(None, 2048)]       0                                            \n",
      "__________________________________________________________________________________________________\n",
      "embedding_1 (Embedding)         (None, 341, 200)     894200      captions[0][0]                   \n",
      "__________________________________________________________________________________________________\n",
      "dropout_2 (Dropout)             (None, 2048)         0           features[0][0]                   \n",
      "__________________________________________________________________________________________________\n",
      "dropout_3 (Dropout)             (None, 341, 200)     0           embedding_1[0][0]                \n",
      "__________________________________________________________________________________________________\n",
      "dense_3 (Dense)                 (None, 256)          524544      dropout_2[0][0]                  \n",
      "__________________________________________________________________________________________________\n",
      "lstm_1 (LSTM)                   (None, 256)          467968      dropout_3[0][0]                  \n",
      "__________________________________________________________________________________________________\n",
      "add_1 (Add)                     (None, 256)          0           dense_3[0][0]                    \n",
      "                                                                 lstm_1[0][0]                     \n",
      "__________________________________________________________________________________________________\n",
      "dense_4 (Dense)                 (None, 256)          65792       add_1[0][0]                      \n",
      "__________________________________________________________________________________________________\n",
      "dense_5 (Dense)                 (None, 4471)         1149047     dense_4[0][0]                    \n",
      "==================================================================================================\n",
      "Total params: 3,101,551\n",
      "Trainable params: 2,207,351\n",
      "Non-trainable params: 894,200\n",
      "__________________________________________________________________________________________________\n",
      "---- EPOCH 0 ----\n",
      "9/9 [==============================] - 12s 361ms/step - loss: 7.7168 - accuracy: 0.0412 - val_loss: 6.7818 - val_accuracy: 0.1053\n",
      "9/9 [==============================] - 2s 71ms/step - loss: 6.8073 - accuracy: 0.0419 - val_loss: 7.1062 - val_accuracy: 0.0000e+00\n",
      "4/4 [==============================] - 2s 154ms/step - loss: 6.5321 - accuracy: 0.0676 - val_loss: 4.7633 - val_accuracy: 0.1111\n",
      "8/8 [==============================] - 2s 82ms/step - loss: 6.9876 - accuracy: 0.0759 - val_loss: 7.3549 - val_accuracy: 0.0000e+00\n",
      "10/10 [==============================] - 2s 78ms/step - loss: 6.8008 - accuracy: 0.0984 - val_loss: 7.3382 - val_accuracy: 0.0476\n",
      "9/9 [==============================] - 2s 96ms/step - loss: 7.1168 - accuracy: 0.0241 - val_loss: 6.5543 - val_accuracy: 0.1053\n",
      "10/10 [==============================] - 3s 95ms/step - loss: 6.5452 - accuracy: 0.1198 - val_loss: 5.8359 - val_accuracy: 0.1364\n",
      "9/9 [==============================] - 3s 229ms/step - loss: 6.3602 - accuracy: 0.1040 - val_loss: 5.6917 - val_accuracy: 0.1500\n",
      "8/8 [==============================] - 2s 80ms/step - loss: 6.1180 - accuracy: 0.1456 - val_loss: 7.1540 - val_accuracy: 0.1111\n",
      "11/11 [==============================] - 2s 73ms/step - loss: 6.5867 - accuracy: 0.1048 - val_loss: 6.8056 - val_accuracy: 0.1667\n",
      "7/7 [==============================] - 2s 104ms/step - loss: 6.6021 - accuracy: 0.1230 - val_loss: 6.1608 - val_accuracy: 0.0714\n",
      "2/2 [==============================] - 2s 662ms/step - loss: 6.1583 - accuracy: 0.1111 - val_loss: 7.4620 - val_accuracy: 0.0000e+00\n"
     ]
    },
    {
     "name": "stderr",
     "output_type": "stream",
     "text": [
      "WARNING:absl:Found untraced functions such as lstm_cell_layer_call_fn, lstm_cell_layer_call_and_return_conditional_losses, lstm_cell_layer_call_fn, lstm_cell_layer_call_and_return_conditional_losses, lstm_cell_layer_call_and_return_conditional_losses while saving (showing 5 of 5). These functions will not be directly callable after loading.\n"
     ]
    },
    {
     "name": "stdout",
     "output_type": "stream",
     "text": [
      "INFO:tensorflow:Assets written to: D:\\Mestrado\\Applications of Deep Learning\\Pull Request - Rename\\Models\\Pretrained Inception\\TrainedLSTM\\epoch=0\\assets\n"
     ]
    },
    {
     "name": "stderr",
     "output_type": "stream",
     "text": [
      "INFO:tensorflow:Assets written to: D:\\Mestrado\\Applications of Deep Learning\\Pull Request - Rename\\Models\\Pretrained Inception\\TrainedLSTM\\epoch=0\\assets\n",
      "C:\\Users\\nicol\\Anaconda3\\envs\\tf-gpu\\lib\\site-packages\\keras\\utils\\generic_utils.py:494: CustomMaskWarning: Custom mask layers require a config and must override get_config. When loading, the custom mask layer must be passed to the custom_objects argument.\n",
      "  warnings.warn('Custom mask layers require a config and must override '\n"
     ]
    },
    {
     "name": "stdout",
     "output_type": "stream",
     "text": [
      "---- EPOCH 1 ----\n",
      "9/9 [==============================] - 3s 176ms/step - loss: 5.2246 - accuracy: 0.1353 - val_loss: 6.8206 - val_accuracy: 0.1579\n",
      "9/9 [==============================] - 2s 71ms/step - loss: 5.3402 - accuracy: 0.1138 - val_loss: 6.8437 - val_accuracy: 0.1053\n",
      "4/4 [==============================] - 2s 170ms/step - loss: 5.0085 - accuracy: 0.1351 - val_loss: 4.9833 - val_accuracy: 0.3333\n",
      "8/8 [==============================] - 2s 77ms/step - loss: 5.3947 - accuracy: 0.1172 - val_loss: 7.2879 - val_accuracy: 0.1176\n",
      "10/10 [==============================] - 2s 95ms/step - loss: 5.6284 - accuracy: 0.1421 - val_loss: 7.1251 - val_accuracy: 0.0476\n",
      "9/9 [==============================] - 2s 89ms/step - loss: 5.9916 - accuracy: 0.0663 - val_loss: 5.6778 - val_accuracy: 0.2105\n",
      "10/10 [==============================] - 2s 73ms/step - loss: 5.3869 - accuracy: 0.1354 - val_loss: 5.7698 - val_accuracy: 0.1364\n",
      "9/9 [==============================] - 2s 65ms/step - loss: 5.3214 - accuracy: 0.1098 - val_loss: 5.9829 - val_accuracy: 0.1500\n",
      "8/8 [==============================] - 3s 113ms/step - loss: 5.0796 - accuracy: 0.1456 - val_loss: 7.0670 - val_accuracy: 0.1111\n",
      "11/11 [==============================] - 2s 90ms/step - loss: 5.3691 - accuracy: 0.1000 - val_loss: 6.9286 - val_accuracy: 0.1250\n",
      "7/7 [==============================] - 2s 96ms/step - loss: 5.6191 - accuracy: 0.1475 - val_loss: 5.8008 - val_accuracy: 0.0714\n",
      "2/2 [==============================] - 2s 461ms/step - loss: 5.6788 - accuracy: 0.0370 - val_loss: 8.5001 - val_accuracy: 0.0000e+00\n"
     ]
    },
    {
     "name": "stderr",
     "output_type": "stream",
     "text": [
      "WARNING:absl:Found untraced functions such as lstm_cell_layer_call_fn, lstm_cell_layer_call_and_return_conditional_losses, lstm_cell_layer_call_fn, lstm_cell_layer_call_and_return_conditional_losses, lstm_cell_layer_call_and_return_conditional_losses while saving (showing 5 of 5). These functions will not be directly callable after loading.\n"
     ]
    },
    {
     "name": "stdout",
     "output_type": "stream",
     "text": [
      "INFO:tensorflow:Assets written to: D:\\Mestrado\\Applications of Deep Learning\\Pull Request - Rename\\Models\\Pretrained Inception\\TrainedLSTM\\epoch=1\\assets\n"
     ]
    },
    {
     "name": "stderr",
     "output_type": "stream",
     "text": [
      "INFO:tensorflow:Assets written to: D:\\Mestrado\\Applications of Deep Learning\\Pull Request - Rename\\Models\\Pretrained Inception\\TrainedLSTM\\epoch=1\\assets\n",
      "C:\\Users\\nicol\\Anaconda3\\envs\\tf-gpu\\lib\\site-packages\\keras\\utils\\generic_utils.py:494: CustomMaskWarning: Custom mask layers require a config and must override get_config. When loading, the custom mask layer must be passed to the custom_objects argument.\n",
      "  warnings.warn('Custom mask layers require a config and must override '\n"
     ]
    },
    {
     "ename": "AttributeError",
     "evalue": "Can't pickle local object 'Loader._recreate_base_user_object.<locals>._UserObject'",
     "output_type": "error",
     "traceback": [
      "\u001b[1;31m---------------------------------------------------------------------------\u001b[0m",
      "\u001b[1;31mAttributeError\u001b[0m                            Traceback (most recent call last)",
      "\u001b[1;32m~\\AppData\\Local\\Temp/ipykernel_30020/2952838724.py\u001b[0m in \u001b[0;36m<module>\u001b[1;34m\u001b[0m\n\u001b[0;32m      2\u001b[0m \u001b[0mEPOCHS\u001b[0m \u001b[1;33m=\u001b[0m \u001b[1;36m2\u001b[0m\u001b[1;33m\u001b[0m\u001b[1;33m\u001b[0m\u001b[0m\n\u001b[0;32m      3\u001b[0m \u001b[0mtrained_LSTM_model\u001b[0m\u001b[1;33m,\u001b[0m \u001b[0mhistory_arr\u001b[0m \u001b[1;33m=\u001b[0m \u001b[0mtrain_LSTM_model\u001b[0m\u001b[1;33m(\u001b[0m\u001b[0mmodel_path\u001b[0m\u001b[1;33m,\u001b[0m \u001b[1;34m'UntrainedLSTM'\u001b[0m\u001b[1;33m,\u001b[0m \u001b[0mnum_batches_training\u001b[0m\u001b[1;33m,\u001b[0m \u001b[0mEPOCHS\u001b[0m\u001b[1;33m,\u001b[0m \u001b[0mBATCH_SIZE\u001b[0m\u001b[1;33m,\u001b[0m \u001b[1;36m0.1\u001b[0m\u001b[1;33m)\u001b[0m\u001b[1;33m\u001b[0m\u001b[1;33m\u001b[0m\u001b[0m\n\u001b[1;32m----> 4\u001b[1;33m \u001b[0mnp\u001b[0m\u001b[1;33m.\u001b[0m\u001b[0msave\u001b[0m\u001b[1;33m(\u001b[0m\u001b[0mmodel_path\u001b[0m \u001b[1;33m/\u001b[0m \u001b[1;34m'HistoryArray'\u001b[0m\u001b[1;33m,\u001b[0m \u001b[0mhistory_arr\u001b[0m\u001b[1;33m,\u001b[0m \u001b[0mallow_pickle\u001b[0m \u001b[1;33m=\u001b[0m \u001b[1;32mTrue\u001b[0m\u001b[1;33m)\u001b[0m\u001b[1;33m\u001b[0m\u001b[1;33m\u001b[0m\u001b[0m\n\u001b[0m",
      "\u001b[1;32m<__array_function__ internals>\u001b[0m in \u001b[0;36msave\u001b[1;34m(*args, **kwargs)\u001b[0m\n",
      "\u001b[1;32m~\\Anaconda3\\envs\\tf-gpu\\lib\\site-packages\\numpy\\lib\\npyio.py\u001b[0m in \u001b[0;36msave\u001b[1;34m(file, arr, allow_pickle, fix_imports)\u001b[0m\n\u001b[0;32m    527\u001b[0m     \u001b[1;32mwith\u001b[0m \u001b[0mfile_ctx\u001b[0m \u001b[1;32mas\u001b[0m \u001b[0mfid\u001b[0m\u001b[1;33m:\u001b[0m\u001b[1;33m\u001b[0m\u001b[1;33m\u001b[0m\u001b[0m\n\u001b[0;32m    528\u001b[0m         \u001b[0marr\u001b[0m \u001b[1;33m=\u001b[0m \u001b[0mnp\u001b[0m\u001b[1;33m.\u001b[0m\u001b[0masanyarray\u001b[0m\u001b[1;33m(\u001b[0m\u001b[0marr\u001b[0m\u001b[1;33m)\u001b[0m\u001b[1;33m\u001b[0m\u001b[1;33m\u001b[0m\u001b[0m\n\u001b[1;32m--> 529\u001b[1;33m         format.write_array(fid, arr, allow_pickle=allow_pickle,\n\u001b[0m\u001b[0;32m    530\u001b[0m                            pickle_kwargs=dict(fix_imports=fix_imports))\n\u001b[0;32m    531\u001b[0m \u001b[1;33m\u001b[0m\u001b[0m\n",
      "\u001b[1;32m~\\Anaconda3\\envs\\tf-gpu\\lib\\site-packages\\numpy\\lib\\format.py\u001b[0m in \u001b[0;36mwrite_array\u001b[1;34m(fp, array, version, allow_pickle, pickle_kwargs)\u001b[0m\n\u001b[0;32m    678\u001b[0m         \u001b[1;32mif\u001b[0m \u001b[0mpickle_kwargs\u001b[0m \u001b[1;32mis\u001b[0m \u001b[1;32mNone\u001b[0m\u001b[1;33m:\u001b[0m\u001b[1;33m\u001b[0m\u001b[1;33m\u001b[0m\u001b[0m\n\u001b[0;32m    679\u001b[0m             \u001b[0mpickle_kwargs\u001b[0m \u001b[1;33m=\u001b[0m \u001b[1;33m{\u001b[0m\u001b[1;33m}\u001b[0m\u001b[1;33m\u001b[0m\u001b[1;33m\u001b[0m\u001b[0m\n\u001b[1;32m--> 680\u001b[1;33m         \u001b[0mpickle\u001b[0m\u001b[1;33m.\u001b[0m\u001b[0mdump\u001b[0m\u001b[1;33m(\u001b[0m\u001b[0marray\u001b[0m\u001b[1;33m,\u001b[0m \u001b[0mfp\u001b[0m\u001b[1;33m,\u001b[0m \u001b[0mprotocol\u001b[0m\u001b[1;33m=\u001b[0m\u001b[1;36m3\u001b[0m\u001b[1;33m,\u001b[0m \u001b[1;33m**\u001b[0m\u001b[0mpickle_kwargs\u001b[0m\u001b[1;33m)\u001b[0m\u001b[1;33m\u001b[0m\u001b[1;33m\u001b[0m\u001b[0m\n\u001b[0m\u001b[0;32m    681\u001b[0m     \u001b[1;32melif\u001b[0m \u001b[0marray\u001b[0m\u001b[1;33m.\u001b[0m\u001b[0mflags\u001b[0m\u001b[1;33m.\u001b[0m\u001b[0mf_contiguous\u001b[0m \u001b[1;32mand\u001b[0m \u001b[1;32mnot\u001b[0m \u001b[0marray\u001b[0m\u001b[1;33m.\u001b[0m\u001b[0mflags\u001b[0m\u001b[1;33m.\u001b[0m\u001b[0mc_contiguous\u001b[0m\u001b[1;33m:\u001b[0m\u001b[1;33m\u001b[0m\u001b[1;33m\u001b[0m\u001b[0m\n\u001b[0;32m    682\u001b[0m         \u001b[1;32mif\u001b[0m \u001b[0misfileobj\u001b[0m\u001b[1;33m(\u001b[0m\u001b[0mfp\u001b[0m\u001b[1;33m)\u001b[0m\u001b[1;33m:\u001b[0m\u001b[1;33m\u001b[0m\u001b[1;33m\u001b[0m\u001b[0m\n",
      "\u001b[1;31mAttributeError\u001b[0m: Can't pickle local object 'Loader._recreate_base_user_object.<locals>._UserObject'"
     ]
    }
   ],
   "source": [
    "BATCH_SIZE = 20 # It might be better to use max_caption_len for this batch size. More experimentation should be carried out.\n",
    "EPOCHS = 2\n",
    "trained_LSTM_model, history_arr = train_LSTM_model(model_path, 'UntrainedLSTM', num_batches_training, EPOCHS, BATCH_SIZE, 0.1)\n",
    "#np.save(model_path / 'HistoryArray', history_arr, allow_pickle = True)"
   ]
  },
  {
   "cell_type": "code",
   "execution_count": 11,
   "id": "92c83e92",
   "metadata": {},
   "outputs": [
    {
     "ename": "AttributeError",
     "evalue": "'numpy.ndarray' object has no attribute 'history'",
     "output_type": "error",
     "traceback": [
      "\u001b[1;31m---------------------------------------------------------------------------\u001b[0m",
      "\u001b[1;31mAttributeError\u001b[0m                            Traceback (most recent call last)",
      "\u001b[1;32m~\\AppData\\Local\\Temp/ipykernel_30020/3457213127.py\u001b[0m in \u001b[0;36m<module>\u001b[1;34m\u001b[0m\n\u001b[1;32m----> 1\u001b[1;33m \u001b[0mnp\u001b[0m\u001b[1;33m.\u001b[0m\u001b[0msave\u001b[0m\u001b[1;33m(\u001b[0m\u001b[0mmodel_path\u001b[0m \u001b[1;33m/\u001b[0m \u001b[1;34m'HistoryArray.npy'\u001b[0m\u001b[1;33m,\u001b[0m \u001b[0mhistory_arr\u001b[0m\u001b[1;33m.\u001b[0m\u001b[0mhistory\u001b[0m\u001b[1;33m,\u001b[0m \u001b[0mallow_pickle\u001b[0m \u001b[1;33m=\u001b[0m \u001b[1;32mTrue\u001b[0m\u001b[1;33m)\u001b[0m\u001b[1;33m\u001b[0m\u001b[1;33m\u001b[0m\u001b[0m\n\u001b[0m",
      "\u001b[1;31mAttributeError\u001b[0m: 'numpy.ndarray' object has no attribute 'history'"
     ]
    }
   ],
   "source": [
    "np.save(model_path / 'HistoryArray.npy', history_arr, allow_pickle = True)"
   ]
  },
  {
   "cell_type": "code",
   "execution_count": 6,
   "id": "21c0a690",
   "metadata": {},
   "outputs": [
    {
     "data": {
      "text/plain": [
       "array([<keras.callbacks.History object at 0x00000220F0BC2EB0>,\n",
       "       <keras.callbacks.History object at 0x00000220EDC642B0>,\n",
       "       <keras.callbacks.History object at 0x00000220EC597F40>,\n",
       "       <keras.callbacks.History object at 0x00000220ED219AC0>,\n",
       "       <keras.callbacks.History object at 0x00000220EDC82370>,\n",
       "       <keras.callbacks.History object at 0x0000021FC44DB460>,\n",
       "       <keras.callbacks.History object at 0x00000220EDC64070>,\n",
       "       <keras.callbacks.History object at 0x00000220ED2D89A0>,\n",
       "       <keras.callbacks.History object at 0x00000220F0FEBD60>,\n",
       "       <keras.callbacks.History object at 0x00000220ECF89FD0>,\n",
       "       <keras.callbacks.History object at 0x00000220ECB7F220>,\n",
       "       <keras.callbacks.History object at 0x0000021FC7C0E6D0>,\n",
       "       <keras.callbacks.History object at 0x0000021FAAF54940>,\n",
       "       <keras.callbacks.History object at 0x00000220EDBDFB50>,\n",
       "       <keras.callbacks.History object at 0x00000220ED621A00>,\n",
       "       <keras.callbacks.History object at 0x0000021F9E02A490>,\n",
       "       <keras.callbacks.History object at 0x00000220F2343B80>,\n",
       "       <keras.callbacks.History object at 0x00000220F0FF3760>,\n",
       "       <keras.callbacks.History object at 0x00000220ED2193D0>,\n",
       "       <keras.callbacks.History object at 0x00000220ECB5C220>,\n",
       "       <keras.callbacks.History object at 0x00000220ED63C0D0>,\n",
       "       <keras.callbacks.History object at 0x00000220EDFD3580>,\n",
       "       <keras.callbacks.History object at 0x0000021FA06DF700>,\n",
       "       <keras.callbacks.History object at 0x00000220ED0940D0>],\n",
       "      dtype=object)"
      ]
     },
     "execution_count": 6,
     "metadata": {},
     "output_type": "execute_result"
    }
   ],
   "source": [
    "history_arr"
   ]
  },
  {
   "cell_type": "code",
   "execution_count": null,
   "id": "59c2d549",
   "metadata": {},
   "outputs": [],
   "source": []
  }
 ],
 "metadata": {
  "kernelspec": {
   "display_name": "Python 3 (ipykernel)",
   "language": "python",
   "name": "python3"
  },
  "language_info": {
   "codemirror_mode": {
    "name": "ipython",
    "version": 3
   },
   "file_extension": ".py",
   "mimetype": "text/x-python",
   "name": "python",
   "nbconvert_exporter": "python",
   "pygments_lexer": "ipython3",
   "version": "3.9.7"
  },
  "varInspector": {
   "cols": {
    "lenName": 16,
    "lenType": 16,
    "lenVar": 40
   },
   "kernels_config": {
    "python": {
     "delete_cmd_postfix": "",
     "delete_cmd_prefix": "del ",
     "library": "var_list.py",
     "varRefreshCmd": "print(var_dic_list())"
    },
    "r": {
     "delete_cmd_postfix": ") ",
     "delete_cmd_prefix": "rm(",
     "library": "var_list.r",
     "varRefreshCmd": "cat(var_dic_list()) "
    }
   },
   "types_to_exclude": [
    "module",
    "function",
    "builtin_function_or_method",
    "instance",
    "_Feature"
   ],
   "window_display": false
  }
 },
 "nbformat": 4,
 "nbformat_minor": 5
}
