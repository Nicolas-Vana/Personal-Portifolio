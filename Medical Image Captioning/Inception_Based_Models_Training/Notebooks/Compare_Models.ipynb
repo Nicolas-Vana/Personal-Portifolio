{
 "cells": [
  {
   "cell_type": "code",
   "execution_count": 1,
   "metadata": {
    "id": "KaMZCVGwmLZ_"
   },
   "outputs": [],
   "source": [
    "import numpy as np\n",
    "\n",
    "import os\n",
    "from pathlib import Path"
   ]
  },
  {
   "cell_type": "code",
   "execution_count": 2,
   "metadata": {
    "colab": {
     "base_uri": "https://localhost:8080/"
    },
    "id": "_NYHGiEXmPT3",
    "outputId": "e58d1561-fa7c-4ca4-a3b7-9fff1b9e31d8"
   },
   "outputs": [],
   "source": [
    "path = Path(os.getcwd())\n",
    "root = Path(path.parent.absolute())\n",
    "\n",
    "model_re_path = root / 'Models' / 'Retrained Inception'\n",
    "model_pre_path = root / 'Models' / 'Pretrained Inception'\n",
    "fetching_path = root / 'Shared Preprocessed Objects'"
   ]
  },
  {
   "cell_type": "code",
   "execution_count": 3,
   "metadata": {
    "colab": {
     "base_uri": "https://localhost:8080/"
    },
    "id": "gfY6SgyHmQKr",
    "outputId": "e0a51669-b1f2-4567-e791-3d2e840a3ece"
   },
   "outputs": [
    {
     "name": "stdout",
     "output_type": "stream",
     "text": [
      "41 11\n"
     ]
    }
   ],
   "source": [
    "# Load Predicted Captions\n",
    "captions_pre = np.load(model_pre_path / 'Predicted Captions.npy', allow_pickle = True).item()\n",
    "captions_re = np.load(model_re_path / 'Predicted Captions.npy', allow_pickle = True).item()\n",
    "\n",
    "print(len(captions_pre), len(captions_re))"
   ]
  },
  {
   "cell_type": "code",
   "execution_count": 4,
   "metadata": {
    "colab": {
     "base_uri": "https://localhost:8080/"
    },
    "id": "AAcMAwEknFlx",
    "outputId": "882d510e-5c14-44b9-8c33-a0edfbd188b9"
   },
   "outputs": [
    {
     "data": {
      "text/plain": [
       "8179"
      ]
     },
     "execution_count": 4,
     "metadata": {},
     "output_type": "execute_result"
    }
   ],
   "source": [
    "# Load True Captions\n",
    "true_captions = np.load(fetching_path / 'test_captions.npy', allow_pickle = True).item()\n",
    "len(true_captions)"
   ]
  },
  {
   "cell_type": "code",
   "execution_count": 5,
   "metadata": {
    "colab": {
     "base_uri": "https://localhost:8080/"
    },
    "id": "b8rg0shfngoO",
    "outputId": "1e19577e-befa-408f-dcaa-789e339af02d"
   },
   "outputs": [
    {
     "ename": "ModuleNotFoundError",
     "evalue": "No module named 'nltk'",
     "output_type": "error",
     "traceback": [
      "\u001b[1;31m---------------------------------------------------------------------------\u001b[0m",
      "\u001b[1;31mModuleNotFoundError\u001b[0m                       Traceback (most recent call last)",
      "\u001b[1;32m~\\AppData\\Local\\Temp/ipykernel_23368/3297153718.py\u001b[0m in \u001b[0;36m<module>\u001b[1;34m\u001b[0m\n\u001b[1;32m----> 1\u001b[1;33m \u001b[1;32mimport\u001b[0m \u001b[0mnltk\u001b[0m\u001b[1;33m\u001b[0m\u001b[1;33m\u001b[0m\u001b[0m\n\u001b[0m\u001b[0;32m      2\u001b[0m \u001b[1;33m\u001b[0m\u001b[0m\n\u001b[0;32m      3\u001b[0m \u001b[1;32mdef\u001b[0m \u001b[0mcompute_bleu_comparison\u001b[0m\u001b[1;33m(\u001b[0m\u001b[0mcaptions_re\u001b[0m\u001b[1;33m,\u001b[0m \u001b[0mcaptions_pre\u001b[0m\u001b[1;33m,\u001b[0m \u001b[0mtrue_captions\u001b[0m\u001b[1;33m)\u001b[0m\u001b[1;33m:\u001b[0m\u001b[1;33m\u001b[0m\u001b[1;33m\u001b[0m\u001b[0m\n\u001b[0;32m      4\u001b[0m \u001b[1;33m\u001b[0m\u001b[0m\n\u001b[0;32m      5\u001b[0m   \u001b[0mbleu_re\u001b[0m \u001b[1;33m=\u001b[0m \u001b[1;33m[\u001b[0m\u001b[1;33m]\u001b[0m\u001b[1;33m\u001b[0m\u001b[1;33m\u001b[0m\u001b[0m\n",
      "\u001b[1;31mModuleNotFoundError\u001b[0m: No module named 'nltk'"
     ]
    }
   ],
   "source": [
    "import nltk\n",
    "\n",
    "def compute_bleu_comparison(captions_re, captions_pre, true_captions):\n",
    "\n",
    "  bleu_re = []\n",
    "  bleu_pre = []\n",
    "\n",
    "  for key in captions_pre:\n",
    "    caption_re = captions_re[key].split()\n",
    "    caption_pre = captions_pre[key].split()\n",
    "\n",
    "    true_caption = true_captions[key].split()\n",
    "    \n",
    "    bleu_re.append(nltk.translate.bleu_score.sentence_bleu(true_caption, caption_re))\n",
    "    bleu_pre.append(nltk.translate.bleu_score.sentence_bleu(true_caption, caption_pre))\n",
    "\n",
    "  return np.mean(bleu_re), np.mean(bleu_pre)\n",
    "\n",
    "bleu_re, bleu_pre = compute_bleu_comparison(captions_re, captions_pre, true_captions)\n",
    "\n",
    "print('Bleu Score Retrained Inception = '  + str(bleu_re) + ', Bleu Score Pretrained Inception = ' + str(bleu_pre))"
   ]
  },
  {
   "cell_type": "code",
   "execution_count": null,
   "metadata": {
    "colab": {
     "base_uri": "https://localhost:8080/"
    },
    "id": "GgBHLBJZn9Hq",
    "outputId": "d7f82c83-6016-4102-a356-44b930117b2b"
   },
   "outputs": [],
   "source": [
    "def accuracy_comparison(captions_re, captions_pre, true_captions):\n",
    "\n",
    "  hits_re = 0\n",
    "  hits_pre = 0\n",
    "  total = 0\n",
    "\n",
    "  for key in captions_pre:\n",
    "    caption_re = captions_re[key].split()\n",
    "    caption_pre = captions_pre[key].split()\n",
    "\n",
    "    true_caption = true_captions_re[key].split()\n",
    "    total += len(true_caption)\n",
    "\n",
    "    for word in true_caption:\n",
    "      if word in caption_pre:\n",
    "        hits_pre += 1\n",
    "      if word in caption_re:\n",
    "        hits_re += 1\n",
    "\n",
    "  acc_re = hits_re/total\n",
    "  acc_pre = hits_pre/total\n",
    "\n",
    "  return acc_re, acc_pre\n",
    "\n",
    "acc_re, acc_pre = accuracy_comparison(captions_re, captions_pre, true_captions)\n",
    "\n",
    "print('Accuracy Retrained Inception = '  + str(acc_re) + ', Accuracy Pretrained Inception = ' + str(acc_pre))"
   ]
  },
  {
   "cell_type": "code",
   "execution_count": null,
   "metadata": {
    "colab": {
     "base_uri": "https://localhost:8080/"
    },
    "id": "ijVZflXK46we",
    "outputId": "fba74103-7a35-41dc-e103-08d008ee6b5b"
   },
   "outputs": [],
   "source": [
    "def inverted_accuracy_comparison(captions_re, captions_pre, true_captions):\n",
    "\n",
    "  hits_re = 0\n",
    "  hits_pre = 0\n",
    "  total = 0\n",
    "\n",
    "  for key in captions_pre:\n",
    "    caption_re = captions_re[key].split()\n",
    "    caption_pre = captions_pre[key].split()\n",
    "\n",
    "    true_caption = true_captions_re[key].split()\n",
    "    total += len(true_caption)\n",
    "\n",
    "    for word in caption_pre:\n",
    "      if word in true_caption:\n",
    "        hits_pre += 1\n",
    "    for word in caption_re:\n",
    "      if word in true_caption:\n",
    "        hits_re += 1\n",
    "\n",
    "  acc_re = hits_re/total\n",
    "  acc_pre = hits_pre/total\n",
    "\n",
    "  return acc_re, acc_pre\n",
    "\n",
    "acc_re, acc_pre = inverted_accuracy_comparison(captions_re, captions_pre, true_captions)\n",
    "\n",
    "print('Accuracy Retrained Inception = '  + str(acc_re) + ', Accuracy Pretrained Inception = ' + str(acc_pre))"
   ]
  },
  {
   "cell_type": "code",
   "execution_count": null,
   "metadata": {
    "colab": {
     "base_uri": "https://localhost:8080/"
    },
    "id": "KRbDhvappHqA",
    "outputId": "82ad4476-08a8-4b49-91de-538d3ef0e88f"
   },
   "outputs": [],
   "source": [
    "for index, key in enumerate(captions_pre):\n",
    "  if index > 20:\n",
    "    break\n",
    "  caption_re = ' '.join(captions_re[key].split())\n",
    "  caption_pre = ' '.join(captions_pre[key].split())\n",
    "\n",
    "  true_caption = ' '.join(true_captions_re[key].split())\n",
    "\n",
    "  print('---- New batch: ' + str(key) + ' ----')\n",
    "  print(true_caption)\n",
    "  print(caption_re)\n",
    "  print(caption_pre)\n"
   ]
  },
  {
   "cell_type": "code",
   "execution_count": null,
   "metadata": {
    "id": "XwxRNfbMsREu"
   },
   "outputs": [],
   "source": []
  }
 ],
 "metadata": {
  "colab": {
   "provenance": []
  },
  "kernelspec": {
   "display_name": "Python 3 (ipykernel)",
   "language": "python",
   "name": "python3"
  },
  "language_info": {
   "codemirror_mode": {
    "name": "ipython",
    "version": 3
   },
   "file_extension": ".py",
   "mimetype": "text/x-python",
   "name": "python",
   "nbconvert_exporter": "python",
   "pygments_lexer": "ipython3",
   "version": "3.9.7"
  },
  "varInspector": {
   "cols": {
    "lenName": 16,
    "lenType": 16,
    "lenVar": 40
   },
   "kernels_config": {
    "python": {
     "delete_cmd_postfix": "",
     "delete_cmd_prefix": "del ",
     "library": "var_list.py",
     "varRefreshCmd": "print(var_dic_list())"
    },
    "r": {
     "delete_cmd_postfix": ") ",
     "delete_cmd_prefix": "rm(",
     "library": "var_list.r",
     "varRefreshCmd": "cat(var_dic_list()) "
    }
   },
   "types_to_exclude": [
    "module",
    "function",
    "builtin_function_or_method",
    "instance",
    "_Feature"
   ],
   "window_display": false
  }
 },
 "nbformat": 4,
 "nbformat_minor": 1
}
